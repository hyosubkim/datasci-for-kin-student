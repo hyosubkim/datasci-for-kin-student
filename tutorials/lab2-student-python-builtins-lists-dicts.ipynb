{
 "cells": [
  {
   "cell_type": "markdown",
   "id": "af5af5f8-0658-4a84-b275-b21cec3a5713",
   "metadata": {},
   "source": [
    "# Lab 2: Lists, dictionaries (17 pts; due Sunday, Sept 24 at 11:59 pm)\n",
    "---"
   ]
  },
  {
   "cell_type": "markdown",
   "id": "8ae88a28-8023-4fc6-9d49-5335cdf3e8a7",
   "metadata": {},
   "source": [
    "### 1. How Large is a Slice? (1 pt)\n",
    "\n",
    "Imagine we have a list of subjects' ages from for our research project: `age = [48.1, 56.6, 64.0, 71.0, 75.2, 79.2, 82.3, 72.1]`. If `a` and `b` are both integers (e.g., `1` and `3`), how long is the list `age[a:b]`? What assumptions must we make about `a` and `b` for the answer to the first part of this question to be true?"
   ]
  },
  {
   "cell_type": "markdown",
   "id": "9eb1c056-89fe-47e3-947a-8791a773ec55",
   "metadata": {},
   "source": [
    "**YOUR ANSWER HERE**    \n",
    "\n"
   ]
  },
  {
   "cell_type": "markdown",
   "id": "d80c9927-2317-4b68-a2ed-32534e8c9045",
   "metadata": {},
   "source": [
    "---\n",
    "### 2. Indexing from the end (1 pt)\n",
    "Copy the following lines into a code cell. Here, `age` represents the ages of all the subjects you collected for a new experiment in the lab. What does the following program print?"
   ]
  },
  {
   "cell_type": "markdown",
   "id": "c69c3bd0-0ebe-4a83-b3fb-9d8f39f475f7",
   "metadata": {
    "jupyter": {
     "outputs_hidden": false
    }
   },
   "source": [
    "```python\n",
    "age = [48.1, 35.4, 64.0, 71.0, 75.2, 39.2, 82.3, 42.1]\n",
    "print(age[-1:0:-1])\n",
    "```"
   ]
  },
  {
   "cell_type": "code",
   "execution_count": null,
   "id": "5af0f0d4-ca2f-4b8a-b8ed-d34819b14392",
   "metadata": {},
   "outputs": [],
   "source": [
    "# Enter your answer here\n"
   ]
  },
  {
   "cell_type": "markdown",
   "id": "c52c6726-b24a-469d-9c4e-8d354e0fa7c9",
   "metadata": {},
   "source": [
    "a. Did the lines above do what you expected?   \n",
    "b. Did it reverse the entire list? "
   ]
  },
  {
   "cell_type": "markdown",
   "id": "6a745c13-2dec-40f2-98a3-3b93f1f61d9a",
   "metadata": {},
   "source": [
    "**YOUR ANSWER HERE**  \n",
    "\n",
    "**a.** \n",
    "\n",
    "**b.**"
   ]
  },
  {
   "cell_type": "markdown",
   "id": "e647d1e6-dc8f-4519-9157-02bec870c131",
   "metadata": {},
   "source": [
    "---\n",
    "### 3. Reversing the list completely. (1 pt)  \n",
    "You should reverse the list completely (somehow the ages got reversed when you first entered them into `age`). Do this to the `age` list using slicing commands, but now make sure to include the first value (i.e., 48.1, which will turn into the final value after correctly reversing). Think about how `start:stop:step` works and what part of that you should change. Remember to assign this newly ordered list back to `age`!"
   ]
  },
  {
   "cell_type": "code",
   "execution_count": null,
   "id": "08d3b0b8-eaf2-4c9a-abf8-2b04f7c33db2",
   "metadata": {},
   "outputs": [],
   "source": [
    "# Enter your answer here\n"
   ]
  },
  {
   "cell_type": "markdown",
   "id": "874e8b82-4702-4f48-b1d6-1db1d3989b33",
   "metadata": {},
   "source": [
    "---\n",
    "### 4. Index into every odd-numbered item. (1 pt)\n",
    "Now that you're more comfortable indexing lists, the director of the lab you volunteer in asks you to report the age of every odd-numbered subject. Write an expression to do just that. "
   ]
  },
  {
   "cell_type": "code",
   "execution_count": null,
   "id": "6de1c363-5cf9-4c05-8390-171358a29e46",
   "metadata": {},
   "outputs": [],
   "source": [
    "# Enter your answer here\n"
   ]
  },
  {
   "cell_type": "markdown",
   "id": "ea0b5ca2-c809-486a-bcce-ff0fb4df2d67",
   "metadata": {},
   "source": [
    "---\n",
    "### 5. Extend your list. (1 pt) \n",
    "You've just been told by the graduate student in the lab you are helping that two more subjects' worth of data has been collected. The two subjects' ages are 47.4 and 56.5. Add them to your `age` list. Make sure you do it in one line and in a manner such that `age` remains a flat list (i.e., not a nested list)."
   ]
  },
  {
   "cell_type": "code",
   "execution_count": null,
   "id": "df653343-8822-4b36-ba70-dd7adf44dc13",
   "metadata": {},
   "outputs": [],
   "source": [
    "# Enter your answer here\n"
   ]
  },
  {
   "cell_type": "markdown",
   "id": "c4a0ba2a-3282-48ba-9324-5fbd5605db33",
   "metadata": {},
   "source": [
    "---\n",
    "### 6. Creating a dictionary (3 pts)\n",
    "We want to link each subject's unique ID to their respective age. First, use a Python built-in to determine how many subjects' data we've collected. Then create a list of subject IDs that begins with `s1` and ends with `sN`, where N is the total number of subjects.  \n"
   ]
  },
  {
   "cell_type": "code",
   "execution_count": null,
   "id": "2117dabb-01a3-4917-821f-bbf804e7c409",
   "metadata": {
    "collapsed": false,
    "jupyter": {
     "outputs_hidden": false
    }
   },
   "outputs": [],
   "source": [
    "# Enter your answer here\n"
   ]
  },
  {
   "cell_type": "markdown",
   "id": "2bb39c3b-6881-492b-819f-fd45dd5abe59",
   "metadata": {},
   "source": [
    "Now create a dictionary named `data` for which the keys will be the first five subjects' IDs, with their corresponding ages serving as values. That is, the keys will go from `s1` through `s5` in order, and the values will be the first five ages that have been stored. "
   ]
  },
  {
   "cell_type": "code",
   "execution_count": null,
   "id": "9ffc564f-9163-40be-a1ea-3c951bb9e122",
   "metadata": {},
   "outputs": [],
   "source": [
    "# Enter your answer here\n"
   ]
  },
  {
   "cell_type": "markdown",
   "id": "c5ebf037-a956-431a-96fa-7cb9f3410df9",
   "metadata": {},
   "source": [
    "Using the `data` dictionary you created, print the age of subject number 3."
   ]
  },
  {
   "cell_type": "code",
   "execution_count": null,
   "id": "8b8f71a0-3a09-4314-a9b4-d15577d1dfae",
   "metadata": {
    "collapsed": false,
    "jupyter": {
     "outputs_hidden": false
    }
   },
   "outputs": [],
   "source": [
    "# Enter your answer here\n"
   ]
  },
  {
   "cell_type": "markdown",
   "id": "733462aa-e9f1-4df5-a510-eadbbb550af7",
   "metadata": {},
   "source": [
    "---\n",
    "### 7. Sorting dictionaries (1 pt)\n",
    "\n",
    "Although dictionaries are not stored in an ordered fashion, it is possible to view a sorted list of dictionary keys using the `sorted()` function we learned in the previous lesson on lists. Print the reversed ordered keys for `data` (using `sorted`) in a nicely worded and formatted `print` statement. (Hint: You may need to read some help documentation to figure out how to do this.)"
   ]
  },
  {
   "cell_type": "code",
   "execution_count": null,
   "id": "ad531837-2fcb-450e-b409-5a40130b3408",
   "metadata": {
    "collapsed": false,
    "jupyter": {
     "outputs_hidden": false
    }
   },
   "outputs": [],
   "source": [
    "# Enter your answer here\n",
    "\n"
   ]
  },
  {
   "cell_type": "markdown",
   "id": "9d90674a-3938-461b-a125-124d1fbfd3d3",
   "metadata": {},
   "source": [
    "---\n",
    "### 8. Extending dictionaries (1 pt)"
   ]
  },
  {
   "cell_type": "markdown",
   "id": "7a188515-b418-4326-83ba-03ea97140fa3",
   "metadata": {},
   "source": [
    "Add `key:value` pairs for subjects 6-8, using corresponding age values from `age` and print the dictionary. (It turns out that data from subjects 9 and 10 were invalid due to a technical error during data collection, so we will no longer be analyzing those data.) "
   ]
  },
  {
   "cell_type": "code",
   "execution_count": null,
   "id": "4a0dca1a-e01b-4bb9-bd83-ff180657fea9",
   "metadata": {
    "collapsed": false,
    "jupyter": {
     "outputs_hidden": false
    }
   },
   "outputs": [],
   "source": [
    "# Enter your answer here\n",
    "\n"
   ]
  },
  {
   "cell_type": "markdown",
   "id": "754b2b16-2898-445d-932c-671a0f8eb5e8",
   "metadata": {},
   "source": [
    "---\n",
    "### 9. Deleting dictionary entries (1 pt)\n",
    "\n",
    "Later, you realize that subject 8 did not complete the testing protocol, so we will remove her data from all analyses, including her entry from the `data` dictionary. Remember to check your answer by printing your dictionary. "
   ]
  },
  {
   "cell_type": "code",
   "execution_count": null,
   "id": "606cda21-71d7-4a76-bd09-9b8ed1eb1424",
   "metadata": {
    "collapsed": false,
    "jupyter": {
     "outputs_hidden": false
    }
   },
   "outputs": [],
   "source": [
    "# Enter your answer here\n",
    "\n"
   ]
  },
  {
   "cell_type": "markdown",
   "id": "9a8624b5-1dca-42e2-b7ae-ad6e14aabd80",
   "metadata": {},
   "source": [
    "---\n",
    "### 10. Creating a nested dictionary. (3 pts)\n",
    "\n",
    "We also have data on the maximum heart rate achieved by each subject during a moderately intensive exercise protocol involving treadmill walking. These data are held in the variable `hr_max` below. Now, to better organize our data, create a dictionary called `data_all` that has a nested structure such that each ***valid*** subject's ID serves as the key into a dictionary containing `key:value` pairs for that subject's age and maximum heart rate. Once you've created `data_all`, print out the age and heart rate max for `s5`.\n",
    "\n",
    "Note that creating this new dictionary will be somewhat tedious, but that will only make you appreciate the future use of loops and `pandas` data frames so much more!"
   ]
  },
  {
   "cell_type": "code",
   "execution_count": null,
   "id": "937622d9-1f13-40cd-8399-5ebf9905d652",
   "metadata": {},
   "outputs": [],
   "source": [
    "# Run this cell\n",
    "hr_max = [97, 140, 110, 134, 123, 145, 119]  # Data for the 7 valid subjects\n"
   ]
  },
  {
   "cell_type": "code",
   "execution_count": null,
   "id": "c849cd0b-1635-454a-8d33-1ab1f94f58cb",
   "metadata": {},
   "outputs": [],
   "source": [
    "# Enter your answer here\n",
    "\n"
   ]
  },
  {
   "cell_type": "markdown",
   "id": "b82eec8e-2eb3-44f9-a48c-9a7de881dca2",
   "metadata": {},
   "source": [
    "---\n",
    "### 11. Let's do some preliminary data analysis with these data! (4 pts)\n",
    "\n",
    "**Part a.** It turns out that \"s1\", \"s3\", and \"s7\" in `data_all` were on an experimental medication that should have blunted their maximum heart rate. *Using proper indexing into `data_all`,* as well as variable assignment, calculate the average `hr_max` for the subjects that were on this medication versus those that weren't. This should only require two lines of code to calculate, and one line to print the answer. (Hint: As a reminder, an average is the sum of elements divided by the number of elements -- i.e., $\\dfrac{\\sum_{i=1}^{N} x_i}{N}$.)\n",
    "\n",
    "Note that while this analysis isn't enough for us to make a strong inference about the effects of the medication, it is still helpful to explore the data this way to see if it's consistent with the possibility of there being an effect of medication. "
   ]
  },
  {
   "cell_type": "code",
   "execution_count": null,
   "id": "1a5ee1a9-1ac0-43c7-a277-0565b56a5708",
   "metadata": {},
   "outputs": [],
   "source": [
    "# Enter your answer here\n",
    "\n"
   ]
  },
  {
   "cell_type": "markdown",
   "id": "4eadbba9-fe35-4ea7-891c-5ccc5f177d61",
   "metadata": {},
   "source": [
    "**Part b.** It also turns out that there may be another (unaccounted for) factor that contributes to maximum heart rate in addition to whether or not the participant was on the experimental drug--in other words, a confound. Can you figure out what it is? Importantly, can you provide a convincing empirical (i.e., data-driven) argument for whether or not there is a confound in these data? Use your growing data science skills to convince me that there either is (or is not) a potential confound impacting max heart rate during exercise. **I'm interested in both the efficiency of your computation as well as your reasoning,** the latter of which can either be expressed in a short answer formatted in Markdown."
   ]
  },
  {
   "cell_type": "code",
   "execution_count": null,
   "id": "d6b646ad-c155-448e-87d4-57e63b14cba4",
   "metadata": {},
   "outputs": [],
   "source": [
    "# Enter your computations here\n",
    "\n"
   ]
  },
  {
   "cell_type": "markdown",
   "id": "a310caf5-f4f0-4810-b4d0-91e60f0d4113",
   "metadata": {},
   "source": [
    "**PROVIDE YOUR REASONING HERE**   \n",
    "\n",
    "\n",
    "\n"
   ]
  }
 ],
 "metadata": {
  "kernelspec": {
   "display_name": "jupyter_books",
   "language": "python",
   "name": "jupyter_books"
  },
  "language_info": {
   "codemirror_mode": {
    "name": "ipython",
    "version": 3
   },
   "file_extension": ".py",
   "mimetype": "text/x-python",
   "name": "python",
   "nbconvert_exporter": "python",
   "pygments_lexer": "ipython3",
   "version": "3.10.8"
  }
 },
 "nbformat": 4,
 "nbformat_minor": 5
}
