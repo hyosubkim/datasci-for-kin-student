{
 "cells": [
  {
   "cell_type": "markdown",
   "id": "0c82c150-a1be-4981-b5aa-db913ad03003",
   "metadata": {},
   "source": [
    "# Lab 4: Review of loops and lists; writing functions; `pandas`\n",
    "---"
   ]
  },
  {
   "cell_type": "markdown",
   "id": "f8a61876-f051-4b17-a3c6-697cc42fdcf5",
   "metadata": {
    "tags": []
   },
   "source": [
    "# Practice with loops and lists.\n",
    "\n",
    "## 1. Loop through the provided list `my_list`.\n",
    "\n",
    "For each element, check if it is an even number. If the element is an even number, append the **index** of that element to the list `inds`.  \n",
    "\n",
    "Note that you are adding the index to `inds`, **not the element itself.** \n",
    "\n",
    "Hints:  \n",
    "1. To check if a number is even, you can use the modulo `%` operator.\n",
    "2. To loop through an iterable while keeping track of the index, you can use the `enumerate` function. Given a list, calling `enumerate` in a for loop will unpack both the index as well as the value in the list it is acting on. Example usage:\n",
    "\n",
    "```python\n",
    "for idx, val in enumerate(some_list):\n",
    "```"
   ]
  },
  {
   "cell_type": "code",
   "execution_count": null,
   "id": "e4646bf6-0eff-4938-b4ab-5acd98841497",
   "metadata": {},
   "outputs": [],
   "source": [
    "# These variables are provided to you.\n",
    "my_list = [1, 2, 3, 4, 5, 6, 7, 8, 9, 10, 11, 12, 13, 14, 15]\n",
    "inds = []\n",
    "\n",
    "# Your answer here\n",
    "\n"
   ]
  },
  {
   "cell_type": "markdown",
   "id": "605edba0-710a-4223-98bd-f5c829c961f6",
   "metadata": {},
   "source": [
    "---\n",
    "## 2. Looping through Dictionaries.\n",
    "\n",
    "Using the `students` dictionary provided below, write a for loop that loops across the dictionary and collects all subject numbers (e.g., 'S2') where the dictionary value is `False`. \n",
    "\n",
    "Imagine, for example, the dictionary indicates whether a student has completed an assignment, and we wanted to get a list of the students who had *not yet completed the assignment*. \n",
    "\n",
    "To answer this question, use a for loop across the `students` dictionary. You then need to get the associated value in each iteration, and check if it is `True`. If it is `True`, you can use `continue` to skip ahead to the next iteration. Otherwise, append the subject number (i.e. 'S2') to a list called `incomplete`."
   ]
  },
  {
   "cell_type": "code",
   "execution_count": null,
   "id": "b2edcd99-000e-4a32-b7af-a182af758cb1",
   "metadata": {},
   "outputs": [],
   "source": [
    "# Run this cell\n",
    "students = {\n",
    "    \"S1\": True,\n",
    "    \"S2\": False,\n",
    "    \"S3\": True,\n",
    "    \"S4\": False\n",
    "}"
   ]
  },
  {
   "cell_type": "code",
   "execution_count": null,
   "id": "bbee1183-00e3-4020-8d5b-ab49560380f8",
   "metadata": {},
   "outputs": [],
   "source": [
    "# Your answer here\n",
    "\n"
   ]
  },
  {
   "cell_type": "markdown",
   "id": "91c6c751-2c22-4e9a-9cf4-e3a218709674",
   "metadata": {},
   "source": [
    "---\n",
    "# Writing a function"
   ]
  },
  {
   "cell_type": "markdown",
   "id": "bb7994a3-d734-41c3-b3f5-a85711fae326",
   "metadata": {},
   "source": [
    "In the next several problems you will need to write little functions that accomplish various goals. ***Be sure to include example usages of your custom-written functions (i.e., test them).***"
   ]
  },
  {
   "cell_type": "markdown",
   "id": "62ebfd3f-f5bf-4870-97a6-1cf3623078a5",
   "metadata": {},
   "source": [
    "## 3. Defining a function."
   ]
  },
  {
   "cell_type": "markdown",
   "id": "2a93b453-d802-4535-9a27-31fc19d18f97",
   "metadata": {},
   "source": [
    "What does this function do?  Write a new cell below the function definition that calls the function using five different inputs and verify the outputs match your expectation."
   ]
  },
  {
   "cell_type": "code",
   "execution_count": null,
   "id": "c48947e6-eada-48d4-9c2b-137da5a504f0",
   "metadata": {},
   "outputs": [],
   "source": [
    "def my_function(x, y):\n",
    "    return x + y"
   ]
  },
  {
   "cell_type": "markdown",
   "id": "88c9ad3d-cc07-425c-9da7-f1253ed2ab58",
   "metadata": {},
   "source": [
    "---\n",
    "## 4. What is not great about this function?"
   ]
  },
  {
   "cell_type": "markdown",
   "id": "803ccf70-ec88-4bb8-94c5-f07823646488",
   "metadata": {},
   "source": [
    "This function works but is not ideal, why?"
   ]
  },
  {
   "cell_type": "code",
   "execution_count": null,
   "id": "d47731a4-55f2-4a5a-b097-e9950d297ab0",
   "metadata": {},
   "outputs": [],
   "source": [
    "def my_function_2(x, y, z):\n",
    "    return x + y"
   ]
  },
  {
   "cell_type": "markdown",
   "id": "4e3d4ce0-a065-4455-9db6-421406adf4af",
   "metadata": {},
   "source": [
    "---\n",
    "## 5. Write your own function."
   ]
  },
  {
   "cell_type": "markdown",
   "id": "12ce8083-531a-4556-9e88-2b6c37b59a44",
   "metadata": {},
   "source": [
    "Write your own custom function named `catchy_name()` to write a program that takes as input two arguments which are assumed to be strings.  Return a new string which is the concatenations of the first two letters of each of the inputs.  e.g.: \n",
    "```\n",
    "catchy_name(\"South\", \"Houston\") -> \"SoHo\"\n",
    "catchy_name(\"Jennifer\", \"Lopez\") -> \"JeLo\"\n",
    "```\n",
    "\n",
    "Test it on your full name. "
   ]
  },
  {
   "cell_type": "code",
   "execution_count": null,
   "id": "ecdd5d4e-d2fc-4e6d-9f27-45387f7cd604",
   "metadata": {},
   "outputs": [],
   "source": [
    "# These variables are provided to you.\n",
    "first_name = \"Jennifer\"\n",
    "last_name = \"Lopez\"\n",
    "\n",
    "# Your answer here\n",
    "\n"
   ]
  },
  {
   "cell_type": "markdown",
   "id": "c61bb8a9-db04-48fe-83f7-0e4672b3e334",
   "metadata": {},
   "source": [
    "---\n",
    "## 6. Cat-Dog."
   ]
  },
  {
   "cell_type": "markdown",
   "id": "0e48a5cd-1bea-481f-b1be-3c22ecc5443a",
   "metadata": {},
   "source": [
    "Write a function called `catdog` that returns True if an input string given has the word cat and dog an equal number of times.  For example, \n",
    "```\n",
    "cat_dog('catdog') # should return True\n",
    "cat_dog('catcat') # should return False\n",
    "cat_dog('1cat1cadodog') # should return True\n",
    "```"
   ]
  },
  {
   "cell_type": "markdown",
   "id": "23c39609-fdd0-470c-961c-398da31a14a2",
   "metadata": {},
   "source": [
    "Google 'python count occurrences in string' to find an existing function or method that counts the number of times a substring appears in a string to get started."
   ]
  },
  {
   "cell_type": "code",
   "execution_count": null,
   "id": "c55a753d-0b3b-4702-9bc0-4106ce28e8d9",
   "metadata": {},
   "outputs": [],
   "source": [
    "# Your answer here\n",
    "\n"
   ]
  },
  {
   "cell_type": "markdown",
   "id": "5a0c3514-4df3-48f9-9c79-ca9f59805d30",
   "metadata": {},
   "source": [
    "---\n",
    "## 7. Summing function."
   ]
  },
  {
   "cell_type": "markdown",
   "id": "968f3bc9-0b34-42f7-94a2-0557466ee404",
   "metadata": {},
   "source": [
    "Write a function called `summing()` that takes a list of numbers as input and returns the sum of all the numbers.  Use a `for` loop to do this.\n",
    "\n",
    "```\n",
    "summing([1, 2, 3]) → 6\n",
    "summing([5, 11, 2]) → 18\n",
    "summming([7, 0, 0]) → 7\n",
    "```"
   ]
  },
  {
   "cell_type": "code",
   "execution_count": null,
   "id": "faa56b58-0c63-4a1c-9c94-5d3dad428a25",
   "metadata": {},
   "outputs": [],
   "source": [
    "# Your answer here\n",
    "\n"
   ]
  },
  {
   "cell_type": "markdown",
   "id": "e37e100a-c74e-461c-af36-d7ef8b6d9a37",
   "metadata": {},
   "source": [
    "---\n",
    "## 8. Biggest difference function. "
   ]
  },
  {
   "cell_type": "markdown",
   "id": "3c6283ad-cd33-48bb-9615-87e4d15e6730",
   "metadata": {},
   "source": [
    "Given an array length 1 or more of ints, return the difference between the largest and smallest values in the array. Hint: You can use the built-in `min` and `max` functions.\n",
    "\n",
    "```\n",
    "big_diff([10, 3, 5, 6])  # Should return 7\n",
    "big_diff([7, 2, 10, 9])  # Should return 8\n",
    "big_diff([2, 10, 7, 2])  # Should return 8\n",
    "```"
   ]
  },
  {
   "cell_type": "code",
   "execution_count": null,
   "id": "14d04546-3889-4f2d-a32a-fc9781043774",
   "metadata": {},
   "outputs": [],
   "source": [
    "# Your answer here\n",
    "\n"
   ]
  },
  {
   "cell_type": "markdown",
   "id": "8180145b-1e41-46fc-95a0-daa915eb665b",
   "metadata": {},
   "source": [
    "---\n",
    "## 9. Simulating a dynamical system \n",
    "\n",
    "In mathematics, a [dynamical system](https://en.wikipedia.org/wiki/Dynamical_system) is a system\n",
    "in which a function describes the time dependence of a point in a geometrical space. A canonical\n",
    "example of a dynamical system is the [logistic map](https://en.wikipedia.org/wiki/Logistic_map),\n",
    "a growth model that computes a new population density (between  0 and 1) based on the current\n",
    "density. In the model, time takes discrete values 0, 1, 2, ...\n",
    "\n",
    "\n",
    "1) Define a function called `logistic_map` that takes two inputs: `x`, representing the current\n",
    "population (at time `t`), and a parameter `r = 1`. This function should return a value \n",
    "representing the state of the system (population) at the next time step `t + 1`, using the mapping function: \n",
    "$$f(t+1) = r * f(t) * [1 - f(t)]$$\n",
    "Note that the indexing is not necessary within the function itself, as you will be using a loop in next step(s).\n",
    "\n",
    "2) Using a `for` loop, iterate the `logistic_map` function defined in part 1, starting\n",
    "from an initial population of 0.5, for a period of time `t_final = 10`. Store the intermediate\n",
    "results in a list so that after the loop terminates you have accumulated a sequence of values\n",
    "representing the state of the logistic map at times `t = [0,1,...,t_final]` (11 values in total).\n",
    "Print this list to see the evolution of the population.\n",
    "\n",
    "3) Encapsulate the logic of your loop into a function called `iterate` that takes the initial\n",
    "population as its first input, the parameter `t_final` as its second input and the parameter\n",
    "`r` as its third input. The function should return the list of values representing the state of\n",
    "the logistic map at times `t = [0,1,...,t_final]`. Run this function for periods `t_final = 100`\n",
    "and `1000` and print some of the values. Is the population trending toward a steady state?"
   ]
  },
  {
   "cell_type": "code",
   "execution_count": null,
   "id": "7a92ccd8-adb3-4195-8fa1-f323035dd1d1",
   "metadata": {},
   "outputs": [],
   "source": [
    "# Your answer here (Part 1)\n"
   ]
  },
  {
   "cell_type": "code",
   "execution_count": null,
   "id": "e32818ba-e3a0-4ef4-a744-9a163fa4bee7",
   "metadata": {},
   "outputs": [],
   "source": [
    "# Your answer here (Part 2)\n",
    "\n"
   ]
  },
  {
   "cell_type": "code",
   "execution_count": null,
   "id": "8a9b3323-13c7-48cb-823f-69120e5a3caa",
   "metadata": {},
   "outputs": [],
   "source": [
    "# Your answer here (Part 3)\n",
    "\n",
    "\n"
   ]
  },
  {
   "cell_type": "code",
   "execution_count": null,
   "id": "336edf04-b5c3-4d72-822f-9a89381429aa",
   "metadata": {},
   "outputs": [],
   "source": [
    "# Your answer here (use this cell to call \"iterate\" and run for different\n",
    "# periods.\n"
   ]
  },
  {
   "cell_type": "markdown",
   "id": "f88db840-d2d5-4f33-ac5f-bc73623f8d76",
   "metadata": {},
   "source": [
    "---\n",
    "# `pandas` DataFrames\n",
    "\n",
    "In this portion of the lab we will be working with pseudo data from a motor control experiment involving reaching movements to visual targets. The goal is to familiarize yourselves with processing and analyzing data using the `pandas` library. **Hint: Every answer should be possible with one line of code. The only exceptions are when you want to view your data frame after doing the task, i.e., call `df.head()` or something similar.** "
   ]
  },
  {
   "cell_type": "markdown",
   "id": "eb625774-f88d-4814-b899-1d9777d20820",
   "metadata": {},
   "source": [
    "## Preliminaries\n",
    "Import the `NumPy` and `pandas` libraries using appropriate aliases."
   ]
  },
  {
   "cell_type": "code",
   "execution_count": null,
   "id": "f60f1b82-204c-4acf-8c67-4ebc57761b6d",
   "metadata": {},
   "outputs": [],
   "source": [
    "# Your answer here\n"
   ]
  },
  {
   "cell_type": "markdown",
   "id": "c183b1a0-c1ca-442d-82d7-0e50f8112755",
   "metadata": {},
   "source": [
    "Execute the next cell so that the `data` dictionary is created. Besides `participantID`, the values in each cell represent the corresponding subject's average for that variable across the 100 trials of the experiment.\n",
    "- `sex` represents the biological sex of the subject \n",
    "- `RT` stands for \"reaction time\", the elapsed time between visual target presentation and movement onset\n",
    "- `MT` stands for \"movement time\", the elapsed time between movement onset and movement end\n",
    "- `Error` refers to the Euclidean distance (in mm) between the reach endpoint and the center of the target"
   ]
  },
  {
   "cell_type": "code",
   "execution_count": null,
   "id": "8855b31f-4576-46f2-a1c4-31435854963c",
   "metadata": {},
   "outputs": [],
   "source": [
    "# Run this cell\n",
    "data = {\n",
    "    \"participantID\": [\"s01\", \"s02\", \"s03\", \"s04\", \"s05\", \n",
    "                      \"s06\", \"s07\", \"s08\", \"s09\", \"s10\"],\n",
    "    \"sex\": [\"M\", \"M\", \"F\", \"M\", \"F\", \"F\", \"F\", \"M\", \"F\", \"M\"], \n",
    "    \"RT\": [432, 501, 498, 1399, 359, 444, 442, 491, 508, 380], \n",
    "    \"MT\": [195, 233, 201, 176, 240, 300, 205, 223, 191, 366],\n",
    "    \"Error\": [23.2, 15.6, 10.9, 11.3, 19.0, 10.1, 24.2, 11.7, 9.8, 8.3]\n",
    "}"
   ]
  },
  {
   "cell_type": "markdown",
   "id": "71d42741-db96-44b8-936a-98367f3c0602",
   "metadata": {},
   "source": [
    "---\n",
    "## 10. Convert `data` to a pandas DataFrame called `df`. Use the `.head()` method to view your new data frame."
   ]
  },
  {
   "cell_type": "code",
   "execution_count": null,
   "id": "7f734c52-537e-403e-8e11-2ab73c3ec95f",
   "metadata": {},
   "outputs": [],
   "source": [
    "# Your answer here\n"
   ]
  },
  {
   "cell_type": "markdown",
   "id": "3fbed4ee-42e7-4381-ac1b-30a27f44df5d",
   "metadata": {},
   "source": [
    "---\n",
    "## 11. Use the `participantID` variable as indices for the DataFrame. "
   ]
  },
  {
   "cell_type": "code",
   "execution_count": null,
   "id": "ee02a3b1-099d-43af-89af-5ec42f1cd08e",
   "metadata": {},
   "outputs": [],
   "source": [
    "# Your answer here\n"
   ]
  },
  {
   "cell_type": "markdown",
   "id": "e3c1a7d5-77cc-4a07-8045-19dc312fabc5",
   "metadata": {},
   "source": [
    "---\n",
    "## 12. Edit the DataFrame.\n",
    "\n",
    "A mistake was made recording s3's `MT`. After cross-referencing the values in the original data, you realize the value should actually be 374 ms. Replace the incorrect value with the correct one."
   ]
  },
  {
   "cell_type": "code",
   "execution_count": null,
   "id": "2a524cf6-96bd-41af-91e0-244889f0f9b3",
   "metadata": {},
   "outputs": [],
   "source": [
    "# Your answer here\n"
   ]
  },
  {
   "cell_type": "markdown",
   "id": "24061164-9308-461f-af02-04c244d3a02c",
   "metadata": {},
   "source": [
    "---\n",
    "## 13. Filter the data.\n",
    "\n",
    "Create a Boolean mask to differentiate between valid and invalid data (or \"outliers\"). Here, invalid data are defined as an `Error` greater than 20mm *or* a `RT` greater than 1000ms. (Note: these are arbitrary thresholds; soon, you will learn much more principled ways of determining what is or is *not* an outlier value.) Also, it's typically your choice of whether you want your Boolean mask to have `True` values to represent valid or invalid data. However, for now, make sure `True` represents valid (i.e., non-outlier) values. "
   ]
  },
  {
   "cell_type": "code",
   "execution_count": null,
   "id": "44acabf2-ff4b-4e7d-bf9a-5a124bc2f122",
   "metadata": {},
   "outputs": [],
   "source": [
    "# Your answer here\n"
   ]
  },
  {
   "cell_type": "markdown",
   "id": "6f6ee54e-a600-48fd-8a8c-c719a5ab481a",
   "metadata": {},
   "source": [
    "#### Use your mask to display only valid rows from `df`. "
   ]
  },
  {
   "cell_type": "code",
   "execution_count": null,
   "id": "eb0a194f-84f4-4e61-b3ba-67da6e7fc4fd",
   "metadata": {},
   "outputs": [],
   "source": [
    "# Your answer here\n"
   ]
  },
  {
   "cell_type": "markdown",
   "id": "a9cfd79b-5a89-42e1-a77c-2656a5ca74de",
   "metadata": {},
   "source": [
    "#### Assign the processed (filtered) data to a new DataFrame `df_filt`. "
   ]
  },
  {
   "cell_type": "code",
   "execution_count": null,
   "id": "640a40a3-7fd9-4d07-af14-743f678910b6",
   "metadata": {},
   "outputs": [],
   "source": [
    "# Your answer here\n"
   ]
  },
  {
   "cell_type": "markdown",
   "id": "ebc044ad-f395-43a5-b9d4-603145dc1efe",
   "metadata": {},
   "source": [
    "---\n",
    "## 14. Analyze the filtered data.\n",
    "\n",
    "Calculate mean `RT`s, `MT`s, and `Error`s across the remaining subjects and print the results. Do this in one line. "
   ]
  },
  {
   "cell_type": "code",
   "execution_count": null,
   "id": "df7a8091-c0b2-47ca-9806-22a7ab5f0365",
   "metadata": {},
   "outputs": [],
   "source": [
    "# Your answer here\n"
   ]
  },
  {
   "cell_type": "markdown",
   "id": "ff930f1f-8944-425a-9248-596c15e07410",
   "metadata": {},
   "source": [
    "#### Create a new column `PerfIndex` that represents each participant's overall performance on the task (a lower score means better performance). The formula is: $$PerfIndex_i = \\frac{1}{3}RT_i + \\frac{2}{3}MT_i + Error_i^2$$  \n",
    "\n",
    "Here, $i$ indexes the subject whose data is being converted. Note that you may receive a \"SettingWithCopyWarning\" message; however, this is one case where you can ignore the message for now. If you want to get rid of it, you can explicitly create a copy of the subsetted data frame you created in problem 13. (**Warning:** This is a rather arbitrary performance index; its use here is simply as part of the exercise and is not meant to provide any insight into actual motor control.)"
   ]
  },
  {
   "cell_type": "code",
   "execution_count": null,
   "id": "877cade4-414e-4ac7-89f4-0d67fb530955",
   "metadata": {},
   "outputs": [],
   "source": [
    "# Your answer here\n"
   ]
  },
  {
   "cell_type": "markdown",
   "id": "eecd18af-0675-435f-82ef-d7b6d32b287f",
   "metadata": {},
   "source": [
    "#### Using a `pandas` method, determine who performed best in this experiment? "
   ]
  },
  {
   "cell_type": "code",
   "execution_count": null,
   "id": "c5ffaef7-5fcc-4524-b248-cf4e424e8b2c",
   "metadata": {},
   "outputs": [],
   "source": [
    "# Your answer here\n"
   ]
  },
  {
   "cell_type": "markdown",
   "id": "d0bc77bb-9623-4a74-87d4-5be73b9ddbe1",
   "metadata": {},
   "source": [
    "**Split-apply-combine.** Were there any salient differences between males and females on this task? Apply the **split-apply-combine** paradigm to find out. There's no single right answer, but there are some logical starting points--e.g., comparing some measure of central tendency. By the way, I'm not looking for a rigorous statistical inference; I just want you to think and practice using the **split-apply-combine** technique. "
   ]
  },
  {
   "cell_type": "code",
   "execution_count": null,
   "id": "b94a8c4e-50bf-40c4-8d20-4baeef59c7c7",
   "metadata": {},
   "outputs": [],
   "source": [
    "# Your answer here\n"
   ]
  },
  {
   "cell_type": "markdown",
   "id": "f54395d2-c564-4639-ba9b-e110a8890e77",
   "metadata": {},
   "source": [
    "---\n",
    "This notebook has been adapted from materials from NYU's [Lab in Cognition and Perception](https://cims.nyu.edu/~brenden/courses/labincp/course-content/syllabus.html), the [Data Science in Practice textbook](https://datascienceinpractice.github.io/docs/index.html), and [Software Carpentry's Plotting and Programming in Python workshop](https://swcarpentry.github.io/python-novice-gapminder/index.html)."
   ]
  }
 ],
 "metadata": {
  "kernelspec": {
   "display_name": "Python 3 (ipykernel)",
   "language": "python",
   "name": "python3"
  },
  "language_info": {
   "codemirror_mode": {
    "name": "ipython",
    "version": 3
   },
   "file_extension": ".py",
   "mimetype": "text/x-python",
   "name": "python",
   "nbconvert_exporter": "python",
   "pygments_lexer": "ipython3",
   "version": "3.10.8"
  }
 },
 "nbformat": 4,
 "nbformat_minor": 5
}
