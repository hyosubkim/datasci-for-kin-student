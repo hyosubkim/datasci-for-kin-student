{
 "cells": [
  {
   "cell_type": "markdown",
   "id": "41aa8e0a-d0fc-4909-ade9-15f1213f5e9d",
   "metadata": {},
   "source": [
    "# Lab 1 - Jupyter, Variables, and an Introduction to LaTeX (21 pts total; due Sunday, Sept 17 at 11:59 pm)\n",
    "---"
   ]
  },
  {
   "cell_type": "markdown",
   "id": "deed97e1-bed3-44dd-8e0a-2898f276f367",
   "metadata": {},
   "source": [
    "This notebook gives another overview of the Jupyter Notebook, reviewing some by now familiar concepts and branching off into some new territory as well. After this tutorial session, I will assume we're all fairly comfortable working in this environment. Therefore, make sure you leave this tutorial feeling confident about editing notebooks, completing assignments, and formatting text and equations within Jupyter notebooks running on JupyterHub. "
   ]
  },
  {
   "cell_type": "markdown",
   "id": "732e5ef8-c5de-4a0b-8632-181906257a7f",
   "metadata": {},
   "source": [
    "---\n",
    "## Reviewing the Jupyter Notebook "
   ]
  },
  {
   "cell_type": "markdown",
   "id": "6734b6eb-935e-471a-a448-740e5dccf472",
   "metadata": {},
   "source": [
    "### Executing cells"
   ]
  },
  {
   "cell_type": "markdown",
   "id": "7a59d585-0d6a-4c0d-a7dc-7d367f266b46",
   "metadata": {},
   "source": [
    "Code cells can contain any valid Python code in them. When you run the cell, the code is executed and any output is displayed."
   ]
  },
  {
   "cell_type": "markdown",
   "id": "7c3230c1-3670-4dfb-8648-a8b69860cc59",
   "metadata": {},
   "source": [
    "<div class=\"alert alert-info\">\n",
    "You can execute cells with <b><code>Ctrl-Enter</code></b> (which will keep the cell selected), or <b><code>Shift-Enter</code></b> (which will select the next cell).\n",
    "</div>"
   ]
  },
  {
   "cell_type": "markdown",
   "id": "79c200d6-a2a3-4ae3-990c-f7de1835cda4",
   "metadata": {},
   "source": [
    "Try running the following cell and see what it prints out (don't worry about specifics of the actual code for now):"
   ]
  },
  {
   "cell_type": "code",
   "execution_count": null,
   "id": "82095a65-dc98-497a-b9d2-db1c7981ff37",
   "metadata": {},
   "outputs": [],
   "source": [
    "print(\"Printing cumulative sum from 1-10:\")\n",
    "total = 0\n",
    "for i in range(1, 11):\n",
    "    total += i\n",
    "    print(\"Sum of 1 to \" + str(i) + \" is: \" + str(total))\n",
    "print(\"Done printing numbers.\")"
   ]
  },
  {
   "cell_type": "markdown",
   "id": "15b6701e-8157-4a20-9a9d-f75052fb137a",
   "metadata": {},
   "source": [
    "You'll notice that the output beneath the cell corresponds to the `print` statements in the code. Here is another example, which only prints out the final sum:"
   ]
  },
  {
   "cell_type": "code",
   "execution_count": null,
   "id": "767e5f52-f827-4432-9e65-49299fec2199",
   "metadata": {},
   "outputs": [],
   "source": [
    "total = 0\n",
    "for i in range(1, 11):\n",
    "    total += i\n",
    "print(total)"
   ]
  },
  {
   "cell_type": "markdown",
   "id": "d0a4c45a-4853-4f7d-9a55-ea3f98553204",
   "metadata": {},
   "source": [
    "Another way to print something out is to have that thing be the last line in the cell. For example, we could rewrite our example above to be:"
   ]
  },
  {
   "cell_type": "code",
   "execution_count": null,
   "id": "e0e38481-9fd9-4b43-b14a-541d7a41c5df",
   "metadata": {},
   "outputs": [],
   "source": [
    "total = 0\n",
    "for i in range(1, 11):\n",
    "    total += i\n",
    "total"
   ]
  },
  {
   "cell_type": "markdown",
   "id": "28631ede-bc0b-4c4a-8407-84d7004c1363",
   "metadata": {},
   "source": [
    "However, this *will not work* unless the thing to be displayed is on the last line. For example, if we wanted to print the total sum and then a message after that, this will not do what we want (it will only print \"Done computing total.\", and not the total sum itself)."
   ]
  },
  {
   "cell_type": "code",
   "execution_count": null,
   "id": "240360c3-7566-4fbf-b6c8-7b274a2e975f",
   "metadata": {},
   "outputs": [],
   "source": [
    "total = 0\n",
    "for i in range(1, 11):\n",
    "    total += i\n",
    "total\n",
    "print(\"Done computing total.\")"
   ]
  },
  {
   "cell_type": "markdown",
   "id": "e1471d45-33e7-4e29-81d5-8ac46f893677",
   "metadata": {},
   "source": [
    "---\n",
    "## The IPython kernel"
   ]
  },
  {
   "cell_type": "markdown",
   "id": "c376fc1c-4b1a-477c-bd6c-296e62985d9c",
   "metadata": {},
   "source": [
    "When you first start a notebook, you are also starting what is called a *kernel*. This is a special program that runs in the background and executes code (by default, this is Python, but it could be other languages too, like Julia or R!). Whenever you run a code cell, you are telling the kernel to execute the code that is in the cell, and to print the output (if any).\n",
    "\n",
    "Just like if you were typing code at the Python interpreter, you need to make sure your variables are declared before you can use them. What will happen when you run the following cell? Try it and see:"
   ]
  },
  {
   "cell_type": "code",
   "execution_count": null,
   "id": "45982e26-d8c4-474a-9b3e-99b1e0813638",
   "metadata": {},
   "outputs": [],
   "source": [
    "a"
   ]
  },
  {
   "cell_type": "markdown",
   "id": "883ee059-e175-4d74-bad9-7865648637e5",
   "metadata": {},
   "source": [
    "The issue is that the variable `a` does not exist. Modify the cell above so that `a` is declared first (for example, you could set the value of `a` to 1 -- or pick whatever value you want). Once you have modified the above cell, you should be able to run the following cell (if you haven't modified the above cell, you'll get the same error!):"
   ]
  },
  {
   "cell_type": "code",
   "execution_count": null,
   "id": "797ae57e-7aea-47bd-aac1-0a46c333f108",
   "metadata": {},
   "outputs": [],
   "source": [
    "print(\"The value of 'a' is: \" + str(a))"
   ]
  },
  {
   "cell_type": "markdown",
   "id": "fd53a84d-db0b-46ad-bcdf-03cf61e1d925",
   "metadata": {},
   "source": [
    "Running the above cell should work, because `a` has now been declared. To see what variables have been declared, you can use the `%whos` command:"
   ]
  },
  {
   "cell_type": "code",
   "execution_count": null,
   "id": "64fad1ed-b8d0-4588-b426-995f85c7d3e0",
   "metadata": {},
   "outputs": [],
   "source": [
    "%whos"
   ]
  },
  {
   "cell_type": "markdown",
   "id": "424a8482-299c-4635-bcb4-5c6d3c228dc2",
   "metadata": {},
   "source": [
    "If you ran the summing examples from the previous section, you'll notice that `total` and `i` are listed under the `%whos` command. That is because when we ran the code for those examples, they also modified the kernel state."
   ]
  },
  {
   "cell_type": "markdown",
   "id": "0da9bcd5-8c6e-43b5-a828-cd4f6126afda",
   "metadata": {},
   "source": [
    "(Note that commands beginning with a percent (%) or double percent (%%) are special IPython commands called *magics*. They will **only** work in IPython/Jupyter notebooks.)"
   ]
  },
  {
   "cell_type": "markdown",
   "id": "0bf33e0e-7466-4b19-82e9-81a9de7d5b6e",
   "metadata": {},
   "source": [
    "### Restarting the kernel"
   ]
  },
  {
   "cell_type": "markdown",
   "id": "3d138bdd-4193-4350-b9a6-2585dfd74d12",
   "metadata": {},
   "source": [
    "It is generally a good idea to periodically restart the kernel and start fresh, because you may be using some variables that you declared at some point, but at a later point deleted that declaration. "
   ]
  },
  {
   "cell_type": "markdown",
   "id": "a6512c29-9601-40e6-8181-ae4a482fce73",
   "metadata": {},
   "source": [
    "<div class=\"alert alert-info\">\n",
    "Your code should <b>always</b> be able to work if you run every cell in the notebook, in order, starting from a new kernel. </div>"
   ]
  },
  {
   "cell_type": "markdown",
   "id": "01f0cf64-51d8-48ed-99ed-5b2b998189d5",
   "metadata": {},
   "source": [
    "To test that your code can do this, you can first choose `Kernel > Restart Kernel and Clear All Outputs`. Next, you can choose `Run > Run All Cells`.\n",
    "\n",
    "Alternatively, if you know you want to restart the kernel and run everything, select `Kernel > Restart Kernel and Run All Cells`.\n"
   ]
  },
  {
   "cell_type": "markdown",
   "id": "9048dca7-d93b-4fea-aa27-eabb357a3026",
   "metadata": {},
   "source": [
    "There are many keyboard shortcuts for Jupyter notebooks. To see a full list of them for the Jupyter Lab notebook, go to [this website](https://gist.github.com/discdiver/9e00618756d120a8c9fa344ac1c375ac)."
   ]
  },
  {
   "cell_type": "markdown",
   "id": "f3e49ddc-4fb0-449f-b560-857f82900a93",
   "metadata": {},
   "source": [
    "---"
   ]
  },
  {
   "cell_type": "markdown",
   "id": "ff28fdd2-b038-4d09-b9e8-68644a183d65",
   "metadata": {},
   "source": [
    "## Markdown (5 pts)"
   ]
  },
  {
   "cell_type": "markdown",
   "id": "53b10d77-7e2a-445a-bdb9-6e6ec3b6046b",
   "metadata": {},
   "source": [
    "As mentioned above, Markdown is a special way of writing text in order to specify formatting, like whether text should be bold, italicized, etc.\n",
    "\n",
    "For the following few exercises, try to format the specified text using Markdown. You can use [this website](https://docs.github.com/en/get-started/writing-on-github/getting-started-with-writing-and-formatting-on-github/basic-writing-and-formatting-syntax) as a reference.\n",
    "\n",
    "- Hint #1: After editing the Markdown, you will need to run the cell so that the formatting appears.\n",
    "- Hint #2: Try selecting *this* cell so you can see what the Markdown looks like when you're editing it. Remember to run the cell again to see what it looks like when it is formatted.\n",
    "\n",
    "Note that in this notebook, the formatted text and equations are actually images, so you cannot look at the cell in edit mode to see the answer. However, in all the other notebooks, I will write all the instructions and equations in Markdown, so in the future you will always be able to look at the cell in edit mode to see how the formatting is done."
   ]
  },
  {
   "cell_type": "markdown",
   "id": "d55ba2e8-d252-4c61-8887-8ef2f164b13b",
   "metadata": {},
   "source": [
    "<div class=\"alert alert-success\">\n",
    "Italicize the words \"Data Science\" in the cell below."
   ]
  },
  {
   "cell_type": "markdown",
   "id": "84644e8f-eb53-4174-9ad5-af46105a0079",
   "metadata": {},
   "source": [
    "**YOUR ANSWER HERE (here, and everywhere else, make sure your answers appear on a new line; you may have to add 2 spaces after this line)**  \n",
    "\n"
   ]
  },
  {
   "cell_type": "markdown",
   "id": "d083cf97-98fb-4c96-a80c-8d2ffea482c5",
   "metadata": {},
   "source": [
    "<div class=\"alert alert-success\">\n",
    "Bold the word \"Python\" below."
   ]
  },
  {
   "cell_type": "markdown",
   "id": "a2902143-8ebb-4744-ad55-6f4a3b89779b",
   "metadata": {},
   "source": [
    "**YOUR ANSWER HERE**\n",
    "\n"
   ]
  },
  {
   "cell_type": "markdown",
   "id": "e67846b2-222a-4d15-96d4-36c23af82e05",
   "metadata": {},
   "source": [
    "<div class=\"alert alert-success\">\n",
    "Create a bulleted list with three levels of bullets. At the first level, you should list the courses you are taking; for the second level, list the days and times of each course; at the third level of bullets, write a single sentence summary of the course in italics."
   ]
  },
  {
   "cell_type": "markdown",
   "id": "b3846bf5-361b-49de-9f06-c62fe15e8a0d",
   "metadata": {},
   "source": [
    "**YOUR ANSWER HERE**  \n"
   ]
  },
  {
   "cell_type": "markdown",
   "id": "96ae4c15-3a0e-4f6b-a11c-cff1c2ead945",
   "metadata": {},
   "source": [
    "<div class=\"alert alert-success\">\n",
    "Create a numbered list of five different fruits."
   ]
  },
  {
   "cell_type": "markdown",
   "id": "ffdc599b-d6e2-48b5-9c84-eda054470cb5",
   "metadata": {},
   "source": [
    "**YOUR ANSWER HERE**  \n"
   ]
  },
  {
   "cell_type": "markdown",
   "id": "6bb29c39-4660-4532-92f6-fa76584f5462",
   "metadata": {},
   "source": [
    "### More Practice with Markdown. \n",
    "\n",
    "Create a cell below this one, convert it to Markdown, and use Markdown to write the following:\n",
    "- Your name, with your last name in bold\n",
    "- A bulleted list of your favorite names for pets (real or imaginary)\n",
    "- A second-level heading that reads \"Education\"\n",
    "- A numbered list of your three favorite classes at UBC, so far (KIN 482E is a valid answer!)\n",
    "\n"
   ]
  },
  {
   "cell_type": "markdown",
   "id": "58b417e7-42e7-42ed-b482-f2572fea7196",
   "metadata": {},
   "source": [
    "**YOUR ANSWER HERE**  \n"
   ]
  },
  {
   "cell_type": "markdown",
   "id": "c2fb0908-4101-4e13-ba4d-ec2138621236",
   "metadata": {},
   "source": [
    "---\n",
    "## Data Types and Evaluating Expressions (8 pts)"
   ]
  },
  {
   "cell_type": "markdown",
   "id": "78de9db2-a1a9-4fad-87bc-f432883a1853",
   "metadata": {},
   "source": [
    "**1. What type of data is each of the following values?** Each one is either of type `float`, `int`, `str`, or `bool`. Write your answer in Markdown in the cell below. *Make sure to add two spaces after each answer in order to print each new letter on a new line.*    \n",
    "    a) 10.0  \n",
    "    b)'pi'  \n",
    "    c) 17  \n",
    "    d) '3.14'  \n",
    "    e) True  \n",
    "    f) \"False\"  \n",
    "    g) -0.01  "
   ]
  },
  {
   "cell_type": "markdown",
   "id": "030e0dd3-7390-4dd1-b7db-c8aa78fa0db1",
   "metadata": {},
   "source": [
    "**YOUR ANSWER HERE**  \n"
   ]
  },
  {
   "cell_type": "markdown",
   "id": "84232d50-db8c-4e05-8e64-5a9dbdc6b72b",
   "metadata": {},
   "source": [
    "\n"
   ]
  },
  {
   "cell_type": "markdown",
   "id": "1656500c-576a-448b-8d54-8f86c237763d",
   "metadata": {},
   "source": []
  },
  {
   "cell_type": "markdown",
   "id": "521c2b2c-182e-4905-857f-abcbef9ca60b",
   "metadata": {},
   "source": [
    "**2. What are the first three things you look for to figure out what type of data a value is?** (There's not a single correct answer, but there some logical starting points.)"
   ]
  },
  {
   "cell_type": "markdown",
   "id": "aac5b495-1d83-415f-8056-c372f9213147",
   "metadata": {},
   "source": [
    "**YOUR ANSWER HERE**  \n"
   ]
  },
  {
   "cell_type": "markdown",
   "id": "8337990a-693a-4b74-9ef7-f1998d2e47c0",
   "metadata": {},
   "source": [
    "**3a. For each of the following expressions, write down what value it will evaluate to (you can do this in an empty cell).** Then, test your answers by creating new code cells below.\n",
    "\n",
    "```python\n",
    "3 * 4 + 7\n",
    "3 * 1.5\n",
    "4 * 1.0\n",
    "4.0 + '1'\n",
    "4.0 / 2.0 + 1.0\n",
    "10 / 2 + 3\n",
    "```"
   ]
  },
  {
   "cell_type": "markdown",
   "id": "ff6f1d95-cbc6-4052-98f5-ebe6a539fa86",
   "metadata": {},
   "source": [
    "**YOUR ANSWER HERE**  \n"
   ]
  },
  {
   "cell_type": "markdown",
   "id": "a65f91d5-f420-4b1a-a582-d4fad428b31a",
   "metadata": {},
   "source": [
    "**3b. Copy the following variable assignments into the cell below:**\n",
    "\n",
    "```python\n",
    "x = 1\n",
    "y = 2\n",
    "z = 3\n",
    "```"
   ]
  },
  {
   "cell_type": "code",
   "execution_count": 1,
   "id": "2dcc432d-ea71-44c5-ac3e-a2b97f4e1229",
   "metadata": {},
   "outputs": [],
   "source": [
    "# Copy code above into this cell\n"
   ]
  },
  {
   "cell_type": "markdown",
   "id": "3b7c74b4-a48d-4851-b37f-6692b30df210",
   "metadata": {},
   "source": [
    "Now, using those variables, match each of these expressions with the values they evaluate to by translating them into Python code (i.e., after executing the equations in Python, write a print statement indicating which equation evaluates to which output):\n",
    "\n",
    "$\\dfrac{(x + 1)^2}{y} - z^y$ (Eqn. 1)  \n",
    "$y - \\dfrac{z/x}{y^2} $ (Eqn. 2)   \n",
    "$y - \\dfrac{y}{2x^2} + \\dfrac{y^2\\cdot{z^2}}{y^3}$ (Eqn. 3)\n",
    "\n",
    "a) 5.5  \n",
    "b) 1.25  \n",
    "c) -7  \n",
    "d) 10  "
   ]
  },
  {
   "cell_type": "code",
   "execution_count": 2,
   "id": "3367c049-3f74-4f0a-9f82-66cb2cf65042",
   "metadata": {},
   "outputs": [],
   "source": [
    "# Write your answer here\n"
   ]
  },
  {
   "cell_type": "markdown",
   "id": "a9e2b770-353a-46b5-8462-209a3df44244",
   "metadata": {},
   "source": [
    "**4. Similar to Q3, write down what the below expressions will evalute to before checking your answers in a new cell.**\n",
    "\n",
    "```python\n",
    "2 > 3 \n",
    "3 == 3.0\n",
    "5.0 == 5.0\n",
    "3.0 != 4.0\n",
    "False or True\n",
    "False and True \n",
    "True and True\n",
    "(4 < 8 and 3 + 1 == 4) or 1 != 2\n",
    "```"
   ]
  },
  {
   "cell_type": "markdown",
   "id": "22d203b9-9569-4b6b-86b8-3303376b945c",
   "metadata": {},
   "source": [
    "**YOUR ANSWER HERE**  \n"
   ]
  },
  {
   "cell_type": "markdown",
   "id": "753acfb0-0580-4031-8d82-fadc03aae385",
   "metadata": {},
   "source": [
    "**5. The following code is evaluated in order.** Write down the value that the last line in each cell will evaluate to. Once you've written your answers, copy the code and execute it to check you answers."
   ]
  },
  {
   "cell_type": "markdown",
   "id": "8aa07c0c-aaf3-41fc-b0bd-76b7f9a7638b",
   "metadata": {},
   "source": [
    "```python\n",
    "a = 3\n",
    "a + 2\n",
    "```"
   ]
  },
  {
   "cell_type": "markdown",
   "id": "715b0495-748c-42e7-9229-f47f8471b98f",
   "metadata": {},
   "source": [
    "**YOUR ANSWER HERE**  \n"
   ]
  },
  {
   "cell_type": "markdown",
   "id": "a899bcc1-334c-4096-b9dc-23959f6e8727",
   "metadata": {},
   "source": [
    "```python\n",
    "a = a + 1\n",
    "b = 2 \n",
    "a == 4\n",
    "```"
   ]
  },
  {
   "cell_type": "markdown",
   "id": "ca5d543c-1298-4644-b9e1-26a189a4fc08",
   "metadata": {},
   "source": [
    "**YOUR ANSWER HERE**  \n"
   ]
  },
  {
   "cell_type": "markdown",
   "id": "0a363942-d5bb-4b88-95b9-ed15f79a3b7b",
   "metadata": {},
   "source": [
    "```python\n",
    "a + b\n",
    "```"
   ]
  },
  {
   "cell_type": "markdown",
   "id": "2411e030-d849-4021-9a37-eb7ab4a5423f",
   "metadata": {},
   "source": [
    "**YOUR ANSWER HERE**  \n"
   ]
  },
  {
   "cell_type": "markdown",
   "id": "6122d5ee-4c6c-4874-a27c-1f703d4cdceb",
   "metadata": {},
   "source": [
    "```python\n",
    "b\n",
    "```"
   ]
  },
  {
   "cell_type": "markdown",
   "id": "aa2f7441-10e5-4ebe-a451-cf9c101f3df8",
   "metadata": {},
   "source": [
    "**YOUR ANSWER HERE**  \n"
   ]
  },
  {
   "cell_type": "markdown",
   "id": "34f8b647-41d3-43ea-945a-dadf5390a995",
   "metadata": {},
   "source": [
    "**6. For each of the following expressions, indicate what value the expression will be evaluated to, or if it will produce an error.** "
   ]
  },
  {
   "cell_type": "markdown",
   "id": "56b3901f-b5d8-4f0c-a782-3c5386e39d5b",
   "metadata": {},
   "source": [
    "```python\n",
    "\"hello\" + \"world\"\n",
    "\"hello\" * 3\n",
    "'hello' + 3.0\n",
    "'hello' * '3'\n",
    "'world'[2]\n",
    "'world'[:2]\n",
    "'world'[2:]\n",
    "'helloworld'[-1]\n",
    "```"
   ]
  },
  {
   "cell_type": "markdown",
   "id": "7c8cbfc4-3ee9-4c67-aa03-0258f66c040e",
   "metadata": {},
   "source": [
    "**YOUR ANSWER HERE**  \n"
   ]
  },
  {
   "cell_type": "markdown",
   "id": "89295527-0386-4107-8df7-7136b2f1bdc7",
   "metadata": {},
   "source": [
    "**7. Using only the variables str1, str2, and str3 and basic string operations, write an expression that will evaluate to each of the following strings.** "
   ]
  },
  {
   "cell_type": "code",
   "execution_count": null,
   "id": "36380642-2695-49f5-bf4c-560c8940bec3",
   "metadata": {},
   "outputs": [],
   "source": [
    "# Strings provided to you\n",
    "str1 = \"University\"\n",
    "str2 = \"of\"\n",
    "str3 = \"British Columbia\""
   ]
  },
  {
   "cell_type": "markdown",
   "id": "0b731566-62d4-48d1-bc56-180dda45ccbd",
   "metadata": {},
   "source": [
    "a) \"University of British Columbia\""
   ]
  },
  {
   "cell_type": "code",
   "execution_count": null,
   "id": "f5d91349-43de-4f4e-b354-e63cd2e4b7d8",
   "metadata": {},
   "outputs": [],
   "source": [
    "# Write your answer here\n"
   ]
  },
  {
   "cell_type": "markdown",
   "id": "b8f8b020-b7a7-4b7e-80c9-ebc57940db0d",
   "metadata": {},
   "source": [
    "b) \"Universal\""
   ]
  },
  {
   "cell_type": "code",
   "execution_count": null,
   "id": "8ba2ef7f-ad41-4829-8be5-3740aa7b7aa9",
   "metadata": {},
   "outputs": [],
   "source": [
    "# Write your answer here\n"
   ]
  },
  {
   "cell_type": "markdown",
   "id": "1e89d8b0-d8db-481a-bf0a-a6ed38f9b5cb",
   "metadata": {
    "tags": []
   },
   "source": [
    "**8. Ask a 'user' (i.e., you) to enter the number of credit hours you are taking this semester and store the answer in a variable.**  "
   ]
  },
  {
   "cell_type": "code",
   "execution_count": null,
   "id": "82c0eed8-d6db-4bf9-a8c9-9573c10943f0",
   "metadata": {
    "tags": []
   },
   "outputs": [],
   "source": [
    "# Write your answer here\n"
   ]
  },
  {
   "cell_type": "markdown",
   "id": "19e10073-b693-4acf-b365-c100e0090a37",
   "metadata": {
    "tags": []
   },
   "source": [
    "Check what type of variable it is. Does the answer surprise you? "
   ]
  },
  {
   "cell_type": "code",
   "execution_count": null,
   "id": "9ef94c69-785b-4e5b-b014-06b94d2ebcd4",
   "metadata": {
    "tags": []
   },
   "outputs": [],
   "source": []
  },
  {
   "cell_type": "markdown",
   "id": "55bf9caa-0532-4fce-9c14-50ee4a807d7f",
   "metadata": {
    "tags": []
   },
   "source": [
    "Now convert the variable to an `int` data type."
   ]
  },
  {
   "cell_type": "code",
   "execution_count": null,
   "id": "8f507a4d-f37c-4203-a26e-14a0198158b9",
   "metadata": {
    "tags": []
   },
   "outputs": [],
   "source": []
  },
  {
   "cell_type": "markdown",
   "id": "a269dcc8-e4ee-4632-a556-49d412f7ef1f",
   "metadata": {},
   "source": [
    "Now ask the user the same question, but store the variable as an `int` and do it in one line. "
   ]
  },
  {
   "cell_type": "code",
   "execution_count": null,
   "id": "d148c7d2-98db-49a3-955e-aff78eb6c8ac",
   "metadata": {},
   "outputs": [],
   "source": []
  },
  {
   "cell_type": "markdown",
   "id": "1d000a31-733e-4a1a-ac30-eb9467681a7d",
   "metadata": {
    "tags": []
   },
   "source": [
    "---\n",
    "## LaTeX (8 pts)"
   ]
  },
  {
   "cell_type": "markdown",
   "id": "2eb776a8-ca19-4013-8cc7-c8f269852509",
   "metadata": {},
   "source": [
    "One of the advantages of using Markdown is that it allows us to easily write beautiful equations using LaTeX.\n",
    "\n",
    "The next few exercises will go over the basics of LaTeX equation formatting. You should be able to find all of the symbols you need on [this  page](https://observablehq.com/@s-haensch/latex-notation). Alternatively, if you forget the mathematical operation that a particular symbol corresponds to, check the [Wikipedia page](https://en.wikipedia.org/wiki/List_of_mathematical_symbols_by_subject) on mathematical notation."
   ]
  },
  {
   "cell_type": "markdown",
   "id": "0fa46027-373e-41ad-a3ac-d49335d88760",
   "metadata": {
    "tags": []
   },
   "source": [
    "<div class=\"alert alert-success\">\n",
    "In order to to format an equation using LaTeX, you must wrap the text in <b>dollar signs</b>, <code>$like this$</code>. Using LaTeX, write the equation for a straight line: y = ax + b.\n",
    "</div>\n",
    "\n",
    "![](images/latex-basic-equation.png)"
   ]
  },
  {
   "cell_type": "markdown",
   "id": "22287626-93d8-4824-b4ae-17e6d4dc1161",
   "metadata": {},
   "source": [
    "**YOUR ANSWER HERE**    \n",
    "\n"
   ]
  },
  {
   "cell_type": "markdown",
   "id": "74bc9106-0a64-4ab9-8641-14096bb5bd04",
   "metadata": {},
   "source": [
    "## Subscripts and superscripts\n",
    "\n",
    "Many equations require the use of exponents or underscores. To include a superscript, use the `^` symbol, and for subscripts, use the `_` symbol. When a variable is associated with both sub- and super-scripts, you can choose the order of their special symbols. \n",
    "<div class=\"alert alert-success\">\n",
    "<h3> Format the following equation:</h3>  \n",
    "</div>\n",
    "\n",
    "![](images/latex-subscripts-and-superscripts.png)"
   ]
  },
  {
   "cell_type": "markdown",
   "id": "1f35d063-6825-4857-83d2-0660db55ea61",
   "metadata": {},
   "source": [
    "**YOUR ANSWER HERE**   \n"
   ]
  },
  {
   "cell_type": "markdown",
   "id": "164e05ba-35a2-40ae-bb67-2cc415d24c23",
   "metadata": {},
   "source": [
    "Sometimes, we need to use exponents or underscores that require more than one character. By default, the `^` or `_` symbols only apply to the *next* character. To tell them to apply to multiple characters, the exponent or subscript needs to be wrapped in curly braces.\n",
    "\n",
    "<div class=\"alert alert-success\">\n",
    "<h3> Format the following equation: </h3>  \n",
    "</div>\n",
    "\n",
    "![](images/latex-curly-braces.png)"
   ]
  },
  {
   "cell_type": "markdown",
   "id": "a3a1bc99-a942-42e9-81be-3107ab230428",
   "metadata": {},
   "source": [
    "**YOUR ANSWER HERE**   \n"
   ]
  },
  {
   "cell_type": "markdown",
   "id": "76f658e2-f7ba-4537-ae8f-85c616614c58",
   "metadata": {},
   "source": [
    "### Greek letters"
   ]
  },
  {
   "cell_type": "markdown",
   "id": "f2331df6-e3e2-42a3-81df-3f22258d5b84",
   "metadata": {},
   "source": [
    "We may ask you to use Greek variable names or letters in some of the assignments for this course. In general, Greek letters can be formatted in LaTeX with `\\letter`, where \"letter\" is the name of the greek letter. For the lowercase version, use `\\letter`, and for the uppercase version, use `\\Letter`. For example, to format the greek letter \"delta\", you would do `\\delta` to produce $\\delta$ and `\\Delta` to produce $\\Delta$.\n",
    "\n",
    "<div class=\"alert alert-success\">\n",
    "Format the following equation, which uses several common Greek variables (note: the only letters that are *not* greek are the numbers and the \"m\" and \"n\" subscripts).\n",
    "</div>\n",
    "\n",
    "![](images/latex-greek-variables.png)"
   ]
  },
  {
   "cell_type": "markdown",
   "id": "07185716-1560-4321-8412-3b6652f26c42",
   "metadata": {},
   "source": [
    "For reference, the Greek letters used in this equation are called:  \n",
    "\n",
    "![](images/latex-greek-variable-names.png)"
   ]
  },
  {
   "cell_type": "markdown",
   "id": "4ebf5841-d903-4dff-87b1-eedf28c2fd38",
   "metadata": {},
   "source": [
    "**YOUR ANSWER HERE**   \n"
   ]
  },
  {
   "cell_type": "markdown",
   "id": "09456fcd-5ec0-4cc1-86f4-9bc61e20a0fa",
   "metadata": {},
   "source": [
    "### Sums and products"
   ]
  },
  {
   "cell_type": "markdown",
   "id": "d96e13db-2ea3-4d27-b80d-8811f0d31e50",
   "metadata": {},
   "source": [
    "Sums and products across variables can be displayed using `\\sum` and `\\prod`. To get the variables above and below the sum or product symbols, you can use superscripts and subscripts.\n",
    "\n",
    "As a reminder, the large sum and product symbols mean the sum or product of a series of numbers or variables. Usually, the index variable along with its starting value is defined underneath the sum/product symbol (e.g. $i=1$), and its final value is given above the sum/product. For example, the following is a sum of all $x_i$ where $1\\leq i\\leq N$:\n",
    "\n",
    "![](images/latex-example-sum.png)\n",
    "\n",
    "and similarly, the following is a product of all $y_j$ where $1\\leq j\\leq M$:  \n",
    "![](images/latex-example-product.png)"
   ]
  },
  {
   "cell_type": "markdown",
   "id": "e80f9c66-90ac-4f15-ad3f-ff6b5bc02702",
   "metadata": {},
   "source": [
    "<div class=\"alert alert-success\">\n",
    "Format the following equation using <b>double dollar signs</b> (instead of single dollar signs like above). This will always make the equation display on a new line, and will make symbols like sums and products look nicer.\n",
    "</div>\n",
    "\n",
    "![](images/latex-sum-product.png)"
   ]
  },
  {
   "cell_type": "markdown",
   "id": "fb480288-a421-4a2b-91f3-c5a9b8739364",
   "metadata": {},
   "source": [
    "**YOUR ANSWER HERE**   \n",
    "\n"
   ]
  },
  {
   "cell_type": "markdown",
   "id": "7e95da91-b7c8-4f0c-b11e-4926c2eea8b3",
   "metadata": {},
   "source": [
    "### Putting it all together"
   ]
  },
  {
   "cell_type": "markdown",
   "id": "54428bcd-e6cd-49c2-b799-b91062a8c9cf",
   "metadata": {},
   "source": [
    "<div class=\"alert alert-success\">\n",
    "Format the following equation using <b>double dollar signs</b> (Hints: the integral symbol is \\int and infinity is \\infty):\n",
    "</div>\n",
    "\n",
    "![](images/latex-challenge.png)"
   ]
  },
  {
   "cell_type": "markdown",
   "id": "f463d16e-ee3a-4125-8b24-8858151ab214",
   "metadata": {},
   "source": [
    "**YOUR ANSWER HERE**   \n",
    "\n"
   ]
  },
  {
   "cell_type": "markdown",
   "id": "a6b2e153-4574-4e2d-a453-aee233a17af2",
   "metadata": {},
   "source": [
    "## Have some fun! (0 pts)\n",
    "By the way, what is being integrated here is the Gaussian (aka, \"normal\", \"bell-shaped\") distribution, probably the most famous of all probability distributions. You've encountered it before, and you will continue to see it everywhere in statistics, machine learning, data science, computational modeling, etc. It's good to get some familiarity with it now. It is defined by two, and *only* two, parameters: its mean ($\\mu$) and standard deviation ($\\sigma$). Go ahead and play around with the code below by changing the parameter values and get some intuition of it. What does changing its mean do? Changing its SD?"
   ]
  },
  {
   "cell_type": "code",
   "execution_count": null,
   "id": "36b16668-ddc4-4549-8553-e817c9114a13",
   "metadata": {},
   "outputs": [],
   "source": [
    "# Import required packages\n",
    "import numpy as np\n",
    "import matplotlib.pyplot as plt\n",
    "\n",
    "# Define the range over which the probability distribution is defined\n",
    "x = np.linspace(-20, 20, 201)\n",
    "\n",
    "# Set the parameter values (this is what you can play around with)\n",
    "mu = 0\n",
    "sigma = 1\n",
    "\n",
    "# Define the probability distribution  \n",
    "prob = 1 / np.sqrt(2 * np.pi * sigma**2) * np.exp(-(x - mu)**2 / (2 * sigma**2))\n",
    "prob /= np.sum(prob)  # Need to normalize, since this is a discrete prob dist\n",
    "\n",
    "# Plot the distribution\n",
    "fig, ax = plt.subplots()\n",
    "ax.plot(x, prob, color=\"r\")\n",
    "ax.set(title=\"My Gaussian\", xlabel=\"X\", ylabel=\"Probability\");\n"
   ]
  },
  {
   "cell_type": "markdown",
   "id": "a2ee66ef-1193-4719-840b-99fb0ec684ed",
   "metadata": {},
   "source": [
    "---\n",
    "Major portions of this lab were adapted from [Todd M. Gureckis](http://gureckislab.org/~gureckis) and [Brenden M. Lake](https://cims.nyu.edu/~brenden/), tutorials developed by Jessica Hamrick, and [Meghan Allen's](https://www.cs.ubc.ca/people/meghan-allen) CPSC 103 course at UBC. Code shared under the [CC BY-SA 4.0](https://creativecommons.org/licenses/by-sa/4.0/) license.  "
   ]
  }
 ],
 "metadata": {
  "kernelspec": {
   "display_name": "jupyter_books",
   "language": "python",
   "name": "jupyter_books"
  },
  "language_info": {
   "codemirror_mode": {
    "name": "ipython",
    "version": 3
   },
   "file_extension": ".py",
   "mimetype": "text/x-python",
   "name": "python",
   "nbconvert_exporter": "python",
   "pygments_lexer": "ipython3",
   "version": "3.10.8"
  }
 },
 "nbformat": 4,
 "nbformat_minor": 5
}
