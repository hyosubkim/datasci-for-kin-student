{
 "cells": [
  {
   "cell_type": "markdown",
   "id": "72ba840e-5ed7-4c07-a347-7de626631b40",
   "metadata": {},
   "source": [
    "# Lab 8: NumPy (due Sunday, Nov 12)\n",
    "---\n",
    "\n",
    "Complete both Part 1 and Part 2 of [Advent of Code 2015 Day 6](https://adventofcode.com/2015/day/6).\n",
    "\n",
    "**Hints:**\n",
    "- You can use a 1000x1000 2D matrix to represent the grid of lights\n",
    "- Here is some python code you can use to load in the input file, and for each line, split the instructions into a list of items:\n",
    "```python\n",
    "    with open(\"data/A6_input.txt\") as fp:\n",
    "      for line in fp:\n",
    "          e = line.strip().split(\" \")\n",
    "          print(e)\n",
    "```\n",
    "\n",
    "- You will need some if statements to determine which instruction it is, and how to act on them.\n",
    "- The `.split()` method is your friend.\n",
    "- Remember to add 1 to the second x-coordinate and the second y-coordinate, to handle how Python indexes into arrays. For example, Z[0:5] results in the first, second, third, and fourth values of the array Z. To get the first 5 values you would have to use Z[0:6].\n"
   ]
  },
  {
   "cell_type": "markdown",
   "id": "4079964c-e553-41f6-ab8f-c4ca812a7cbc",
   "metadata": {
    "tags": []
   },
   "source": [
    "## Problem 1"
   ]
  },
  {
   "cell_type": "code",
   "execution_count": 1,
   "id": "31264c72-72ac-4825-888c-cd1dd5d08af2",
   "metadata": {
    "tags": []
   },
   "outputs": [],
   "source": [
    "# Imports\n",
    "import numpy as np"
   ]
  },
  {
   "cell_type": "code",
   "execution_count": 2,
   "id": "3c715aed-6c3e-4b7a-9211-909592e09974",
   "metadata": {
    "tags": []
   },
   "outputs": [
    {
     "name": "stdout",
     "output_type": "stream",
     "text": [
      "569999.0\n"
     ]
    }
   ],
   "source": [
    "# ENTER YOUR CODE HERE\n",
    "\n",
    "# Creating grid of lights; '0' means that the light is off\n",
    "\n",
    "lights = np.zeros((1000, 1000))\n",
    "\n",
    "# Defining function that reads the instructions \n",
    "\n",
    "def read_instruction(lights, instruction, start, end):\n",
    "    if instruction == 'on':\n",
    "        lights[start[0]:end[0] + 1, start[1]:end[1] + 1] = 1\n",
    "    elif instruction == 'off':\n",
    "        lights[start[0]:end[0] + 1, start[1]:end[1] + 1] = 0\n",
    "    elif instruction == 'toggle':\n",
    "        lights[start[0]:end[0] + 1, start[1]:end[1] + 1] = (1 - lights[start[0]:end[0] + 1, start[1]:end[1] + 1])\n",
    "    \n",
    "\n",
    "# Defining function that counts the number of lights that are on\n",
    "\n",
    "def count_lights(lights):\n",
    "    return np.sum(lights)\n",
    "\n",
    "# Processing all the instructions \n",
    "\n",
    "with open(\"data/A6_input.txt\") as fp:\n",
    "    \n",
    "    for line in fp:\n",
    "        data = line.strip().split(\" \")\n",
    "    \n",
    "        if data[0] == 'toggle':\n",
    "            instruction = 'toggle'\n",
    "            start = list(map(int, data[1].split(\",\")))\n",
    "            end = list(map(int, data[3].split(\",\")))\n",
    "        else:\n",
    "            instruction = data[1]\n",
    "            start = list(map(int, data[2].split(\",\")))\n",
    "            end = list(map(int, data[4].split(\",\")))\n",
    "        \n",
    "        read_instruction(lights, instruction, start, end)\n",
    "        \n",
    "print(count_lights(lights))"
   ]
  },
  {
   "cell_type": "markdown",
   "id": "da0497d1-0e40-4055-a787-980f780aa2da",
   "metadata": {},
   "source": [
    "## Problem 2\n",
    "\n",
    "You just finish implementing your winning light pattern when you realize you mistranslated Santa's message from Ancient Nordic Elvish. The light grid you bought actually has individual brightness controls; each light can have a brightness of zero or more. The lights all start at zero. \n",
    "- The phrase turn on actually means that you should increase the brightness of those lights by 1. \n",
    "- The phrase turn off actually means that you should decrease the brightness of those lights by 1, to a minimum of zero.\n",
    "- The phrase toggle actually means that you should increase the brightness of those lights by 2.\n",
    "\n",
    "For example:\n",
    "\n",
    "    turn on 0,0 through 0,0 would increase the total brightness by 1.\n",
    "    toggle 0,0 through 999,999 would increase the total brightness by 2000000.\n",
    "\n",
    "What is the total brightness of all lights combined after following Santa's instructions?"
   ]
  },
  {
   "cell_type": "code",
   "execution_count": 3,
   "id": "e055b3b8-a00d-4147-bc5b-72aec0c8da6c",
   "metadata": {},
   "outputs": [
    {
     "name": "stdout",
     "output_type": "stream",
     "text": [
      "17836115.0\n"
     ]
    }
   ],
   "source": [
    "# ENTER YOUR CODE HERE\n",
    "\n",
    "# Creating grid of lights; '0' means that the light is off\n",
    "\n",
    "lights = np.zeros((1000, 1000))\n",
    "\n",
    "# Defining function that reads the instructions \n",
    "\n",
    "def read_instruction(lights, instruction, start, end):\n",
    "    if instruction == 'on':\n",
    "        lights[start[0]:end[0] + 1, start[1]:end[1] + 1] += 1\n",
    "    elif instruction == 'off':\n",
    "        lights[start[0]:end[0] + 1, start[1]:end[1] + 1] = np.maximum(0, lights[start[0]:end[0] + 1, start[1]:end[1] + 1] - 1)\n",
    "    elif instruction == 'toggle':\n",
    "        lights[start[0]:end[0] + 1, start[1]:end[1] + 1] += 2\n",
    "    \n",
    "\n",
    "# Defining function that calculates the total brightness \n",
    "\n",
    "def brightness(lights):\n",
    "    return np.sum(lights)\n",
    "\n",
    "# Processing all the instructions \n",
    "\n",
    "with open(\"data/A6_input.txt\") as fp:\n",
    "    \n",
    "    for line in fp:\n",
    "        data = line.strip().split(\" \")\n",
    "    \n",
    "        if data[0] == 'toggle':\n",
    "            instruction = 'toggle'\n",
    "            start = list(map(int, data[1].split(\",\")))\n",
    "            end = list(map(int, data[3].split(\",\")))\n",
    "        else:\n",
    "            instruction = data[1]\n",
    "            start = list(map(int, data[2].split(\",\")))\n",
    "            end = list(map(int, data[4].split(\",\")))\n",
    "        \n",
    "        read_instruction(lights, instruction, start, end)\n",
    "        \n",
    "print(brightness(lights))"
   ]
  },
  {
   "cell_type": "markdown",
   "id": "676cc119-b6b9-4ad2-b4db-6935f395803b",
   "metadata": {},
   "source": [
    "---\n",
    "This lab was adapted from Paul Gribble's [Scientific Computing course](https://gribblelab.org/teaching/scicomp2020/)."
   ]
  }
 ],
 "metadata": {
  "kernelspec": {
   "display_name": "Python 3 (ipykernel)",
   "language": "python",
   "name": "python3"
  },
  "language_info": {
   "codemirror_mode": {
    "name": "ipython",
    "version": 3
   },
   "file_extension": ".py",
   "mimetype": "text/x-python",
   "name": "python",
   "nbconvert_exporter": "python",
   "pygments_lexer": "ipython3",
   "version": "3.10.8"
  }
 },
 "nbformat": 4,
 "nbformat_minor": 5
}
