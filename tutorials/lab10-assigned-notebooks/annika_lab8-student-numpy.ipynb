{
 "cells": [
  {
   "cell_type": "markdown",
   "id": "72ba840e-5ed7-4c07-a347-7de626631b40",
   "metadata": {},
   "source": [
    "# Lab 8: NumPy (due Sunday, Nov 12)\n",
    "---\n",
    "\n",
    "Complete both Part 1 and Part 2 of [Advent of Code 2015 Day 6](https://adventofcode.com/2015/day/6).\n",
    "\n",
    "**Hints:**\n",
    "- You can use a 1000x1000 2D matrix to represent the grid of lights\n",
    "- Here is some python code you can use to load in the input file, and for each line, split the instructions into a list of items:\n",
    "```python\n",
    "    with open(\"data/A6_input.txt\") as fp:\n",
    "      for line in fp:\n",
    "          e = line.strip().split(\" \")\n",
    "          print(e)\n",
    "```\n",
    "\n",
    "- You will need some if statements to determine which instruction it is, and how to act on them.\n",
    "- The `.split()` method is your friend.\n",
    "- Remember to add 1 to the second x-coordinate and the second y-coordinate, to handle how Python indexes into arrays. For example, Z[0:5] results in the first, second, third, and fourth values of the array Z. To get the first 5 values you would have to use Z[0:6].\n"
   ]
  },
  {
   "cell_type": "code",
   "execution_count": 1,
   "id": "31264c72-72ac-4825-888c-cd1dd5d08af2",
   "metadata": {
    "tags": []
   },
   "outputs": [],
   "source": [
    "# Imports\n",
    "import numpy as np"
   ]
  },
  {
   "cell_type": "markdown",
   "id": "4079964c-e553-41f6-ab8f-c4ca812a7cbc",
   "metadata": {},
   "source": [
    "## Problem 1"
   ]
  },
  {
   "cell_type": "code",
   "execution_count": 2,
   "id": "07b3f662-27e9-4ce0-85ae-fc50a7505448",
   "metadata": {
    "tags": []
   },
   "outputs": [
    {
     "name": "stdout",
     "output_type": "stream",
     "text": [
      "After following all instructions, 569999 lights are lit.\n"
     ]
    }
   ],
   "source": [
    "# ENTER YOUR CODE HERE\n",
    "\n",
    "# Initialize light grid\n",
    "light_grid = np.zeros((1000,1000))\n",
    "\n",
    "# Going through Santa's instructions:\n",
    "with open(\"data/A6_input.txt\") as fp:\n",
    "      for line in fp:\n",
    "            e = line.strip().split(\" \")\n",
    "            \n",
    "            if e[0] == 'toggle':\n",
    "                x1y1 = e[1].split(',')\n",
    "                x2y2 = e[-1].split(',')\n",
    "                for x in range(int(x1y1[0]), int(x2y2[0])+1):\n",
    "                    for y in range(int(x1y1[1]), int(x2y2[1])+1):\n",
    "                        if light_grid[x,y] == 0:\n",
    "                            light_grid[x,y] = 1\n",
    "                        else:\n",
    "                            light_grid[x,y] = 0\n",
    "                \n",
    "            elif e[1] == 'on':\n",
    "                x1y1 = e[2].split(',')\n",
    "                x2y2 = e[-1].split(',')\n",
    "                light_grid[int(x1y1[0]):int(x2y2[0])+1, int(x1y1[1]):int(x2y2[1])+1] = 1\n",
    "            else:\n",
    "                x1y1 = e[2].split(',')\n",
    "                x2y2 = e[-1].split(',')\n",
    "                light_grid[int(x1y1[0]):int(x2y2[0])+1, int(x1y1[1]):int(x2y2[1])+1] = 0\n",
    "\n",
    "num_light = light_grid.sum()\n",
    "print('After following all instructions,', round(num_light), 'lights are lit.')"
   ]
  },
  {
   "cell_type": "markdown",
   "id": "da0497d1-0e40-4055-a787-980f780aa2da",
   "metadata": {
    "tags": []
   },
   "source": [
    "## Problem 2\n",
    "\n",
    "You just finish implementing your winning light pattern when you realize you mistranslated Santa's message from Ancient Nordic Elvish. The light grid you bought actually has individual brightness controls; each light can have a brightness of zero or more. The lights all start at zero. \n",
    "- The phrase turn on actually means that you should increase the brightness of those lights by 1. \n",
    "- The phrase turn off actually means that you should decrease the brightness of those lights by 1, to a minimum of zero.\n",
    "- The phrase toggle actually means that you should increase the brightness of those lights by 2.\n",
    "\n",
    "For example:\n",
    "\n",
    "    turn on 0,0 through 0,0 would increase the total brightness by 1.\n",
    "    toggle 0,0 through 999,999 would increase the total brightness by 2000000.\n",
    "\n",
    "What is the total brightness of all lights combined after following Santa's instructions?"
   ]
  },
  {
   "cell_type": "code",
   "execution_count": null,
   "id": "e055b3b8-a00d-4147-bc5b-72aec0c8da6c",
   "metadata": {
    "tags": []
   },
   "outputs": [],
   "source": [
    "# ENTER YOUR CODE HERE\n",
    "# Initialize light grid\n",
    "bright_grid = np.zeros((1000,1000))\n",
    "\n",
    "# Going through Santa's instructions:\n",
    "with open(\"data/A6_input.txt\") as fp:\n",
    "      for line in fp:\n",
    "            e = line.strip().split(\" \")\n",
    "            \n",
    "            if e[0] == 'toggle':\n",
    "                x1y1 = e[1].split(',')\n",
    "                x2y2 = e[-1].split(',')\n",
    "                bright_grid[int(x1y1[0]):int(x2y2[0])+1, int(x1y1[1]):int(x2y2[1])+1] = bright_grid[int(x1y1[0]):int(x2y2[0])+1, int(x1y1[1]):int(x2y2[1])+1] + 2\n",
    "                \n",
    "            elif e[1] == 'on':\n",
    "                x1y1 = e[2].split(',')\n",
    "                x2y2 = e[-1].split(',')\n",
    "                bright_grid[int(x1y1[0]):int(x2y2[0])+1, int(x1y1[1]):int(x2y2[1])+1] = bright_grid[int(x1y1[0]):int(x2y2[0])+1, int(x1y1[1]):int(x2y2[1])+1] + 1\n",
    "                \n",
    "            else:\n",
    "                x1y1 = e[2].split(',')\n",
    "                x2y2 = e[-1].split(',')\n",
    "                bright_grid[int(x1y1[0]):int(x2y2[0])+1, int(x1y1[1]):int(x2y2[1])+1] = bright_grid[int(x1y1[0]):int(x2y2[0])+1, int(x1y1[1]):int(x2y2[1])+1] - 1\n",
    "                for x in range(int(x1y1[0]), int(x2y2[0])+1):\n",
    "                    for y in range(int(x1y1[1]), int(x2y2[1])+1):\n",
    "                        bright_grid[x,y] = max(bright_grid[x,y], 0)\n",
    "\n",
    "level_bright = bright_grid.sum()\n",
    "print('Total brightness of all lights is', round(level_bright))\n"
   ]
  },
  {
   "cell_type": "code",
   "execution_count": null,
   "id": "2172e365-2a36-4d8c-aa0f-917e0b432ae7",
   "metadata": {
    "tags": []
   },
   "outputs": [],
   "source": [
    "# TESTING ON A 10x10 GRID\n",
    "\n",
    "# Problem #1:\n",
    "test_grid = np.zeros((10,10))\n",
    "test_list = [['turn', 'on', '2,3', 'through', '3,7'],\n",
    "             ['turn', 'off', '3,3', 'through', '3,7'],\n",
    "             ['toggle', '2,3', 'through', '3,7']]\n",
    "\n",
    "for e in test_list:         \n",
    "    if e[0] == 'toggle':\n",
    "        x1y1 = e[1].split(',')\n",
    "        x2y2 = e[-1].split(',')\n",
    "        for x in range(int(x1y1[0]), int(x2y2[0])+1):\n",
    "            for y in range(int(x1y1[1]), int(x2y2[1])+1):\n",
    "                if test_grid[x,y] == 0:\n",
    "                    test_grid[x,y] = 1\n",
    "                else:\n",
    "                    test_grid[x,y] = 0\n",
    "\n",
    "    elif e[1] == 'on':\n",
    "        x1y1 = e[2].split(',')\n",
    "        x2y2 = e[-1].split(',')\n",
    "        test_grid[int(x1y1[0]):int(x2y2[0])+1, int(x1y1[1]):int(x2y2[1])+1] = 1\n",
    "    else:\n",
    "        x1y1 = e[2].split(',')\n",
    "        x2y2 = e[-1].split(',')\n",
    "        test_grid[int(x1y1[0]):int(x2y2[0])+1, int(x1y1[1]):int(x2y2[1])+1] = 0\n",
    "    print(test_grid)\n",
    "\n",
    "num_light_test = test_grid.sum()\n",
    "print(num_light_test)"
   ]
  },
  {
   "cell_type": "code",
   "execution_count": null,
   "id": "ab63e7c6-63d1-462d-afbb-b4aa8b1d3be9",
   "metadata": {
    "tags": []
   },
   "outputs": [],
   "source": [
    "# Problem #2:\n",
    "test_bright = np.zeros((10,10))\n",
    "test_list = [['turn', 'on', '2,3', 'through', '3,7'],\n",
    "             ['turn', 'off', '3,3', 'through', '3,7'],\n",
    "             ['turn', 'off', '3,3', 'through', '3,7'],\n",
    "             ['toggle', '2,3', 'through', '3,7']]\n",
    "\n",
    "for e in test_list:          \n",
    "    if e[0] == 'toggle':\n",
    "        x1y1 = e[1].split(',')\n",
    "        x2y2 = e[-1].split(',')\n",
    "        test_bright[int(x1y1[0]):int(x2y2[0])+1, int(x1y1[1]):int(x2y2[1])+1] = test_bright[int(x1y1[0]):int(x2y2[0])+1, int(x1y1[1]):int(x2y2[1])+1] + 2\n",
    "\n",
    "    elif e[1] == 'on':\n",
    "        x1y1 = e[2].split(',')\n",
    "        x2y2 = e[-1].split(',')\n",
    "        test_bright[int(x1y1[0]):int(x2y2[0])+1, int(x1y1[1]):int(x2y2[1])+1] = test_bright[int(x1y1[0]):int(x2y2[0])+1, int(x1y1[1]):int(x2y2[1])+1] + 1\n",
    "    else:\n",
    "        x1y1 = e[2].split(',')\n",
    "        x2y2 = e[-1].split(',')\n",
    "        test_bright[int(x1y1[0]):int(x2y2[0])+1, int(x1y1[1]):int(x2y2[1])+1] = test_bright[int(x1y1[0]):int(x2y2[0])+1, int(x1y1[1]):int(x2y2[1])+1] - 1\n",
    "        for x in range(int(x1y1[0]), int(x2y2[0])+1):\n",
    "            for y in range(int(x1y1[1]), int(x2y2[1])+1):\n",
    "                test_bright[x,y] = max(test_bright[x,y], 0)\n",
    "    print(test_bright)\n",
    "\n",
    "bright_level_test = test_bright.sum()\n",
    "print(bright_level_test)"
   ]
  },
  {
   "cell_type": "markdown",
   "id": "676cc119-b6b9-4ad2-b4db-6935f395803b",
   "metadata": {},
   "source": [
    "---\n",
    "This lab was adapted from Paul Gribble's [Scientific Computing course](https://gribblelab.org/teaching/scicomp2020/)."
   ]
  }
 ],
 "metadata": {
  "kernelspec": {
   "display_name": "Python 3 (ipykernel)",
   "language": "python",
   "name": "python3"
  },
  "language_info": {
   "codemirror_mode": {
    "name": "ipython",
    "version": 3
   },
   "file_extension": ".py",
   "mimetype": "text/x-python",
   "name": "python",
   "nbconvert_exporter": "python",
   "pygments_lexer": "ipython3",
   "version": "3.10.8"
  }
 },
 "nbformat": 4,
 "nbformat_minor": 5
}
