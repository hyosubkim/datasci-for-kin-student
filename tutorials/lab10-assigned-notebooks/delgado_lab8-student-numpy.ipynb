{
 "cells": [
  {
   "cell_type": "markdown",
   "id": "72ba840e-5ed7-4c07-a347-7de626631b40",
   "metadata": {},
   "source": [
    "# Lab 8: NumPy (due Sunday, Nov 12)\n",
    "---\n",
    "\n",
    "Complete both Part 1 and Part 2 of [Advent of Code 2015 Day 6](https://adventofcode.com/2015/day/6).\n",
    "\n",
    "**Hints:**\n",
    "- You can use a 1000x1000 2D matrix to represent the grid of lights\n",
    "- Here is some python code you can use to load in the input file, and for each line, split the instructions into a list of items:\n",
    "```python\n",
    "    with open(\"data/A6_input.txt\") as fp:\n",
    "      for line in fp:\n",
    "          e = line.strip().split(\" \")\n",
    "          print(e)\n",
    "```\n",
    "\n",
    "- You will need some if statements to determine which instruction it is, and how to act on them.\n",
    "- The `.split()` method is your friend.\n",
    "- Remember to add 1 to the second x-coordinate and the second y-coordinate, to handle how Python indexes into arrays. For example, Z[0:5] results in the first, second, third, and fourth values of the array Z. To get the first 5 values you would have to use Z[0:6].\n"
   ]
  },
  {
   "cell_type": "code",
   "execution_count": 2,
   "id": "31264c72-72ac-4825-888c-cd1dd5d08af2",
   "metadata": {
    "tags": []
   },
   "outputs": [],
   "source": [
    "# Imports|\n",
    "import numpy as np"
   ]
  },
  {
   "cell_type": "code",
   "execution_count": 46,
   "id": "554bc44d-93e7-486c-aee2-d1ac8dbc8722",
   "metadata": {
    "tags": []
   },
   "outputs": [],
   "source": [
    "# Initialize the array\n",
    "lights = np.zeros(shape=(1000, 1000))"
   ]
  },
  {
   "cell_type": "markdown",
   "id": "4079964c-e553-41f6-ab8f-c4ca812a7cbc",
   "metadata": {},
   "source": [
    "## Problem 1"
   ]
  },
  {
   "cell_type": "code",
   "execution_count": 50,
   "id": "8b6872d6-cff3-404c-a62e-1fd7134edfce",
   "metadata": {
    "tags": []
   },
   "outputs": [],
   "source": [
    "lights = np.zeros(shape=(1000, 1000))\n",
    "\n",
    "with open(\"data/A6_input.txt\") as fp:\n",
    "    for line in fp:\n",
    "        e = line.strip().split(\" \")\n",
    "        if e[1] == 'on':\n",
    "            split1 = [int(coord) for coord in e[2].split(',')]\n",
    "            split2 = [int(coord) for coord in e[-1].split(',')]\n",
    "            lights[split1[0]:split2[0]+1, \n",
    "                   split1[1]:split2[1]+1] = 1\n",
    "        elif e[1] == 'off':\n",
    "            split1 = [int(coord) for coord in e[2].split(',')]\n",
    "            split2 = [int(coord) for coord in e[-1].split(',')]\n",
    "            lights[split1[0]:split2[0]+1, \n",
    "                   split1[1]:split2[1]+1] = 0\n",
    "        elif e[0] == 'toggle':\n",
    "            split1 = [int(coord) for coord in e[1].split(',')]\n",
    "            split2 = [int(coord) for coord in e[-1].split(',')]\n",
    "            lights[split1[0]:split2[0]+1, \n",
    "                   split1[1]:split2[1]+1] = (\n",
    "                1 - lights[split1[0]:split2[0]+1, split1[1]:split2[1]+1]\n",
    "            )\n"
   ]
  },
  {
   "cell_type": "code",
   "execution_count": 51,
   "id": "c42339de-9112-4411-a2b2-2d42c218d05d",
   "metadata": {
    "tags": []
   },
   "outputs": [
    {
     "data": {
      "text/plain": [
       "569999.0"
      ]
     },
     "execution_count": 51,
     "metadata": {},
     "output_type": "execute_result"
    }
   ],
   "source": [
    "lights.sum()"
   ]
  },
  {
   "cell_type": "markdown",
   "id": "da0497d1-0e40-4055-a787-980f780aa2da",
   "metadata": {},
   "source": [
    "## Problem 2\n",
    "\n",
    "You just finish implementing your winning light pattern when you realize you mistranslated Santa's message from Ancient Nordic Elvish. The light grid you bought actually has individual brightness controls; each light can have a brightness of zero or more. The lights all start at zero. \n",
    "- The phrase turn on actually means that you should increase the brightness of those lights by 1. \n",
    "- The phrase turn off actually means that you should decrease the brightness of those lights by 1, to a minimum of zero.\n",
    "- The phrase toggle actually means that you should increase the brightness of those lights by 2.\n",
    "\n",
    "For example:\n",
    "\n",
    "    turn on 0,0 through 0,0 would increase the total brightness by 1.\n",
    "    toggle 0,0 through 999,999 would increase the total brightness by 2000000.\n",
    "\n",
    "What is the total brightness of all lights combined after following Santa's instructions?"
   ]
  },
  {
   "cell_type": "code",
   "execution_count": 59,
   "id": "e055b3b8-a00d-4147-bc5b-72aec0c8da6c",
   "metadata": {},
   "outputs": [],
   "source": [
    "# ENTER YOUR CODE HERE\n",
    "lights = np.zeros(shape=(1000, 1000))\n",
    "\n",
    "with open(\"data/A6_input.txt\") as fp:\n",
    "    for line in fp:\n",
    "        e = line.strip().split(\" \")\n",
    "        \n",
    "        if e[1] == 'on':\n",
    "            split1 = [int(coord) for coord in e[2].split(',')]\n",
    "            split2 = [int(coord) for coord in e[-1].split(',')]\n",
    "            lights[split1[0]:split2[0]+1, \n",
    "                   split1[1]:split2[1]+1] += 1\n",
    "            \n",
    "        elif e[1] == 'off':\n",
    "            split1 = [int(coord) for coord in e[2].split(',')]\n",
    "            split2 = [int(coord) for coord in e[-1].split(',')]\n",
    "            lights[split1[0]:split2[0]+1, \n",
    "                   split1[1]:split2[1]+1] -= 1\n",
    "            lights = np.where(lights < 0, 0, lights)\n",
    "            \n",
    "        elif e[0] == 'toggle':\n",
    "            split1 = [int(coord) for coord in e[1].split(',')]\n",
    "            split2 = [int(coord) for coord in e[-1].split(',')]\n",
    "            lights[split1[0]:split2[0]+1, \n",
    "                   split1[1]:split2[1]+1] += 2"
   ]
  },
  {
   "cell_type": "code",
   "execution_count": 60,
   "id": "cc61bca4-5f3d-4da7-8714-ea4721d289a7",
   "metadata": {
    "tags": []
   },
   "outputs": [
    {
     "name": "stdout",
     "output_type": "stream",
     "text": [
      "17836115.0\n"
     ]
    }
   ],
   "source": [
    "brightness = np.sum(lights)\n",
    "print(brightness)"
   ]
  },
  {
   "cell_type": "markdown",
   "id": "676cc119-b6b9-4ad2-b4db-6935f395803b",
   "metadata": {},
   "source": [
    "---\n",
    "This lab was adapted from Paul Gribble's [Scientific Computing course](https://gribblelab.org/teaching/scicomp2020/)."
   ]
  }
 ],
 "metadata": {
  "kernelspec": {
   "display_name": "Python 3 (ipykernel)",
   "language": "python",
   "name": "python3"
  },
  "language_info": {
   "codemirror_mode": {
    "name": "ipython",
    "version": 3
   },
   "file_extension": ".py",
   "mimetype": "text/x-python",
   "name": "python",
   "nbconvert_exporter": "python",
   "pygments_lexer": "ipython3",
   "version": "3.10.8"
  }
 },
 "nbformat": 4,
 "nbformat_minor": 5
}
