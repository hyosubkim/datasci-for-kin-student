{
 "cells": [
  {
   "cell_type": "markdown",
   "id": "72ba840e-5ed7-4c07-a347-7de626631b40",
   "metadata": {},
   "source": [
    "# Lab 8: NumPy (due Sunday, Nov 12)\n",
    "---\n",
    "\n",
    "Complete both Part 1 and Part 2 of [Advent of Code 2015 Day 6](https://adventofcode.com/2015/day/6).\n",
    "\n",
    "**Hints:**\n",
    "- You can use a 1000x1000 2D matrix to represent the grid of lights\n",
    "- Here is some python code you can use to load in the input file, and for each line, split the instructions into a list of items:\n",
    "```python\n",
    "    with open(\"data/A6_input.txt\") as fp:\n",
    "      for line in fp:\n",
    "          e = line.strip().split(\" \")\n",
    "          print(e)\n",
    "```\n",
    "\n",
    "- You will need some if statements to determine which instruction it is, and how to act on them.\n",
    "- The `.split()` method is your friend.\n",
    "- Remember to add 1 to the second x-coordinate and the second y-coordinate, to handle how Python indexes into arrays. For example, Z[0:5] results in the first, second, third, and fourth values of the array Z. To get the first 5 values you would have to use Z[0:6].\n"
   ]
  },
  {
   "cell_type": "code",
   "execution_count": 1,
   "id": "31264c72-72ac-4825-888c-cd1dd5d08af2",
   "metadata": {
    "tags": []
   },
   "outputs": [],
   "source": [
    "# Imports\n",
    "import numpy as np\n",
    "with open(\"data/A6_input.txt\") as fp:\n",
    "      for line in fp:\n",
    "          e = line.strip().split(\" \")\n",
    "          #print(e)"
   ]
  },
  {
   "cell_type": "markdown",
   "id": "4079964c-e553-41f6-ab8f-c4ca812a7cbc",
   "metadata": {},
   "source": [
    "## Problem 1"
   ]
  },
  {
   "cell_type": "code",
   "execution_count": 2,
   "id": "07b3f662-27e9-4ce0-85ae-fc50a7505448",
   "metadata": {
    "tags": []
   },
   "outputs": [],
   "source": [
    "# test\n",
    "#light_data = np.zeros(shape=(1000,1000))\n",
    "#with open(\"data/A6_input.txt\") as fp:\n",
    "#    x = [0,0]\n",
    "#    y = [0,0]\n",
    "#    for line in fp:\n",
    "#            e = line.strip().split(\" \")\n",
    "#            if e[1] == 'on':\n",
    "#                x[0],y[0] = int(e[2].split(',')[0]),int(e[2].split(',')[1])\n",
    "#                x[1],y[1] = int(e[4].split(',')[0]),int(e[4].split(',')[1])\n",
    "#                light_data[x[0]:x[1]+1,y[0]:y[1]+1] = 1\n",
    "#            elif e[1] == 'off':\n",
    "#                x[0],y[0] = int(e[2].split(',')[0]),int(e[2].split(',')[1])\n",
    "#                x[1],y[1] = int(e[4].split(',')[0]),int(e[4].split(',')[1])\n",
    "#                light_data[x[0]:x[1]+1,y[0]:y[1]+1] = 0\n",
    "#            elif e[0] == 'toggle':\n",
    "#                x[0],y[0] = int(e[1].split(',')[0]),int(e[1].split(',')[1])\n",
    "#                x[1],y[1] = int(e[3].split(',')[0]),int(e[3].split(',')[1])\n",
    "#                light_data[x[0]:x[1]+1,y[0]:y[1]+1] = np.where(\n",
    "#                    light_data[x[0]:x[1]+1,y[0]:y[1]+1] == 1,0,1)\n",
    "#toggle 628,958 through 811,992\n",
    "\n",
    "#light_data = light_data.astype(int)\n",
    "#print(light_data[31:655,760:892])\n",
    "#print(light_data.dtype)\n",
    "#print(np.sum(light_data))\n",
    "#print(light_data.shape)\n",
    "#print([int(coord) for coord in e[2].split(',')])\n",
    "\n",
    "\n",
    "#print(light_data[x[0]:x[1],y[0]:y[1]])\n",
    "#can just put toggle first, then only need 1 conditional\n",
    "\n",
    "# for a given line, \n",
    "# are you turning off, on, or toggling?\n",
    "# what is the index, then how do we turn it off"
   ]
  },
  {
   "cell_type": "code",
   "execution_count": 7,
   "id": "0a080569-3a9a-4ca2-8779-f86a2e6c76c1",
   "metadata": {
    "tags": []
   },
   "outputs": [
    {
     "name": "stdout",
     "output_type": "stream",
     "text": [
      "Total number of lights on: 569999.0\n"
     ]
    }
   ],
   "source": [
    "# ENTER YOUR CODE HERE\n",
    "light_data = np.zeros(shape=(1000,1000))\n",
    "with open(\"data/A6_input.txt\") as fp:\n",
    "    x = [0,0]\n",
    "    y = [0,0]\n",
    "    for line in fp:\n",
    "            e = line.strip().split(\" \")\n",
    "            if e[1] == 'on':\n",
    "                x[0],y[0] = int(e[2].split(',')[0]),int(e[2].split(',')[1])\n",
    "                x[1],y[1] = int(e[4].split(',')[0]),int(e[4].split(',')[1])\n",
    "                light_data[x[0]:x[1]+1,y[0]:y[1]+1] = 1\n",
    "            elif e[1] == 'off':\n",
    "                x[0],y[0] = int(e[2].split(',')[0]),int(e[2].split(',')[1])\n",
    "                x[1],y[1] = int(e[4].split(',')[0]),int(e[4].split(',')[1])\n",
    "                light_data[x[0]:x[1]+1,y[0]:y[1]+1] = 0\n",
    "            elif e[0] == 'toggle':\n",
    "                x[0],y[0] = int(e[1].split(',')[0]),int(e[1].split(',')[1])\n",
    "                x[1],y[1] = int(e[3].split(',')[0]),int(e[3].split(',')[1])\n",
    "                light_data[x[0]:x[1]+1,y[0]:y[1]+1]= np.where(\n",
    "                    light_data[x[0]:x[1]+1,y[0]:y[1]+1] == 0,1,0\n",
    "                )\n",
    "\n",
    "print('Total number of lights on:', np.sum(light_data))"
   ]
  },
  {
   "cell_type": "code",
   "execution_count": null,
   "id": "18463674-5ee5-4e3a-b33a-c0c629686227",
   "metadata": {
    "tags": []
   },
   "outputs": [],
   "source": []
  },
  {
   "cell_type": "markdown",
   "id": "da0497d1-0e40-4055-a787-980f780aa2da",
   "metadata": {},
   "source": [
    "## Problem 2\n",
    "\n",
    "You just finish implementing your winning light pattern when you realize you mistranslated Santa's message from Ancient Nordic Elvish. The light grid you bought actually has individual brightness controls; each light can have a brightness of zero or more. The lights all start at zero. \n",
    "- The phrase turn on actually means that you should increase the brightness of those lights by 1. \n",
    "- The phrase turn off actually means that you should decrease the brightness of those lights by 1, to a minimum of zero.\n",
    "- The phrase toggle actually means that you should increase the brightness of those lights by 2.\n",
    "\n",
    "For example:\n",
    "\n",
    "    turn on 0,0 through 0,0 would increase the total brightness by 1.\n",
    "    toggle 0,0 through 999,999 would increase the total brightness by 2000000.\n",
    "\n",
    "What is the total brightness of all lights combined after following Santa's instructions?"
   ]
  },
  {
   "cell_type": "code",
   "execution_count": 4,
   "id": "e055b3b8-a00d-4147-bc5b-72aec0c8da6c",
   "metadata": {},
   "outputs": [
    {
     "name": "stdout",
     "output_type": "stream",
     "text": [
      "2287103.0\n"
     ]
    }
   ],
   "source": [
    "# ENTER YOUR CODE HERE\n",
    "\n",
    "light_data_nord = np.zeros(shape=(1000,1000))\n",
    "with open(\"data/A6_input.txt\") as fp:\n",
    "    x = [0,0]\n",
    "    y = [0,0]\n",
    "    for line in fp:\n",
    "            e = line.strip().split(\" \")\n",
    "            if len(e)==5:\n",
    "                x[0],y[0] = int(e[2].split(',')[0]),int(e[2].split(',')[1])\n",
    "                x[1],y[1] = int(e[4].split(',')[0]),int(e[4].split(',')[1])\n",
    "            if e[1] == 'on':\n",
    "                light_data_nord[x[0]:x[1]+1,y[0]:y[1]+1] = light_data_nord[\n",
    "                    x[0]:x[1]+1,y[0]:y[1]+1] + 1\n",
    "            elif e[1] == 'off':\n",
    "                light_data_nord[x[0]:x[1]+1,y[0]:y[1]+1] = np.where(\n",
    "                    light_data_nord[x[0]:x[1]+1,y[0]:y[1]+1]>=1,-1,0)\n",
    "            elif e[0] == 'toggle':\n",
    "                x[0],y[0] = int(e[1].split(',')[0]),int(e[1].split(',')[1])\n",
    "                x[1],y[1] = int(e[3].split(',')[0]),int(e[3].split(',')[1])\n",
    "                light_data_nord[x[0]:x[1]+1,y[0]:y[1]+1]= light_data_nord[\n",
    "                    x[0]:x[1]+1,y[0]:y[1]+1] + 2\n",
    "                \n",
    "print(np.sum(light_data_nord))"
   ]
  },
  {
   "cell_type": "markdown",
   "id": "676cc119-b6b9-4ad2-b4db-6935f395803b",
   "metadata": {},
   "source": [
    "---\n",
    "This lab was adapted from Paul Gribble's [Scientific Computing course](https://gribblelab.org/teaching/scicomp2020/)."
   ]
  },
  {
   "cell_type": "code",
   "execution_count": null,
   "id": "6e7a122f-d08e-4895-90bf-e96cf2d6d964",
   "metadata": {},
   "outputs": [],
   "source": []
  }
 ],
 "metadata": {
  "kernelspec": {
   "display_name": "Python 3 (ipykernel)",
   "language": "python",
   "name": "python3"
  },
  "language_info": {
   "codemirror_mode": {
    "name": "ipython",
    "version": 3
   },
   "file_extension": ".py",
   "mimetype": "text/x-python",
   "name": "python",
   "nbconvert_exporter": "python",
   "pygments_lexer": "ipython3",
   "version": "3.10.8"
  }
 },
 "nbformat": 4,
 "nbformat_minor": 5
}
