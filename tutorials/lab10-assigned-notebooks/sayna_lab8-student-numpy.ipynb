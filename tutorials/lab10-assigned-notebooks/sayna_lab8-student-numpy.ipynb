{
 "cells": [
  {
   "cell_type": "markdown",
   "id": "72ba840e-5ed7-4c07-a347-7de626631b40",
   "metadata": {},
   "source": [
    "# Lab 8: NumPy (due Sunday, Nov 12)\n",
    "---\n",
    "\n",
    "Complete both Part 1 and Part 2 of [Advent of Code 2015 Day 6](https://adventofcode.com/2015/day/6).\n",
    "\n",
    "**Hints:**\n",
    "- You can use a 1000x1000 2D matrix to represent the grid of lights\n",
    "- Here is some python code you can use to load in the input file, and for each line, split the instructions into a list of items:\n",
    "```python\n",
    "    with open(\"data/A6_input.txt\") as fp:\n",
    "      for line in fp:\n",
    "          e = line.strip().split(\" \")\n",
    "          print(e)\n",
    "```\n",
    "\n",
    "- You will need some if statements to determine which instruction it is, and how to act on them.\n",
    "- The `.split()` method is your friend.\n",
    "- Remember to add 1 to the second x-coordinate and the second y-coordinate, to handle how Python indexes into arrays. For example, Z[0:5] results in the first, second, third, and fourth values of the array Z. To get the first 5 values you would have to use Z[0:6].\n"
   ]
  },
  {
   "cell_type": "code",
   "execution_count": 1,
   "id": "31264c72-72ac-4825-888c-cd1dd5d08af2",
   "metadata": {},
   "outputs": [],
   "source": [
    "# Imports\n",
    "import numpy as np"
   ]
  },
  {
   "cell_type": "code",
   "execution_count": 2,
   "id": "6d508a12-5d85-4c93-b419-7fb24afd197f",
   "metadata": {
    "tags": []
   },
   "outputs": [],
   "source": [
    "#array = np.zeros((3, 4))\n",
    "array = []\n",
    "arrayy = np.arange(10 * 10).reshape(10, 10)\n",
    "\n",
    "array = np.arange(1000 * 1000).reshape(1000, 1000)\n",
    "array1 = np.arange(1000 * 1000).reshape(1000, 1000)\n",
    "array = np.zeros_like(array)\n",
    "arrayy = np.zeros_like(arrayy)\n",
    "array1 = np.zeros_like(array1)"
   ]
  },
  {
   "cell_type": "markdown",
   "id": "4079964c-e553-41f6-ab8f-c4ca812a7cbc",
   "metadata": {},
   "source": [
    "## Problem 1"
   ]
  },
  {
   "cell_type": "code",
   "execution_count": 3,
   "id": "b4502701-3473-44f4-9b69-4660bc8e14bc",
   "metadata": {
    "tags": []
   },
   "outputs": [
    {
     "name": "stdout",
     "output_type": "stream",
     "text": [
      "300\n",
      "123\n"
     ]
    }
   ],
   "source": [
    "instructions = []\n",
    "with open(\"data/A6_input.txt\") as fp:\n",
    "    for line in fp:\n",
    "        e = line.strip().split(\" \")\n",
    "        instructions.append(e)\n",
    "\n",
    "print(len(instructions))\n",
    "instructions\n",
    "\n",
    "numm = ['123,456']\n",
    "numm = numm[0].split(\",\")\n",
    "print(numm[0])"
   ]
  },
  {
   "cell_type": "code",
   "execution_count": 4,
   "id": "07b3f662-27e9-4ce0-85ae-fc50a7505448",
   "metadata": {
    "tags": []
   },
   "outputs": [],
   "source": [
    "# ENTER YOUR CODE HERE\n",
    "            \n",
    "#toggle - takes start val, finish val, and light array\n",
    "# switches 0 to 1 and 1 to 0 in given values\n",
    "def toggle(s, f, ar):\n",
    "    s = s.split(\",\")\n",
    "    f = f.split(\",\")\n",
    "    a = int(s[0]) #y\n",
    "    b = int(s[1]) #x\n",
    "    x = int(f[0]) - int(s[0]) + 1\n",
    "    y = int(f[1]) - int(s[1]) + 1\n",
    "    for i in range(y):\n",
    "        for o in range(x):\n",
    "            if ar[a,b] == 0:\n",
    "                ar[a,b] = 1\n",
    "            else:\n",
    "                ar[a,b] = 0\n",
    "        b = b + 1\n",
    "    a = a + 1\n",
    "            \n",
    "#on - takes start val, finish val, and light array\n",
    "# sets given range of values to 1\n",
    "def on(s, f, ar):\n",
    "    s = s.split(\",\")\n",
    "    f = f.split(\",\")\n",
    "    a = int(s[0]) #y\n",
    "    b = int(s[1]) #x\n",
    "    x = int(f[0]) - int(s[0]) + 1\n",
    "    y = int(f[1]) - int(s[1]) + 1\n",
    "    for i in range(y):\n",
    "        for o in range(x):\n",
    "            ar[a,b] = 1\n",
    "        b = b + 1\n",
    "    a = a + 1\n",
    "\n",
    "#off - takes start val, finish val, and light array\n",
    "# sets given range of values to 0\n",
    "def off(s, f, ar):\n",
    "    s = s.split(\",\")\n",
    "    f = f.split(\",\")\n",
    "    a = int(s[0]) #y\n",
    "    b = int(s[1]) #x\n",
    "    x = int(f[0]) - int(s[0]) + 1\n",
    "    y = int(f[1]) - int(s[1]) + 1\n",
    "    for i in range(y):\n",
    "        for o in range(x):\n",
    "            ar[a,b] = 0\n",
    "        b = b + 1\n",
    "    a = a + 1\n",
    "            "
   ]
  },
  {
   "cell_type": "code",
   "execution_count": 5,
   "id": "22e1ea16-7010-4d0f-9c4d-1e67c0f725ee",
   "metadata": {
    "tags": []
   },
   "outputs": [],
   "source": [
    "#i[2] = s, i[5] = f\n",
    "for i in instructions: \n",
    "    if i[0] == \"toggle\":\n",
    "        toggle(i[1], i[3], array)\n",
    "    elif i[1] == \"on\":\n",
    "            on(i[2], i[4], array)\n",
    "    else:\n",
    "            off(i[2], i[4], array)\n",
    "            "
   ]
  },
  {
   "cell_type": "code",
   "execution_count": 6,
   "id": "3e82299f-198e-4235-a3ed-3512bce2acc6",
   "metadata": {},
   "outputs": [
    {
     "data": {
      "text/plain": [
       "40595"
      ]
     },
     "execution_count": 6,
     "metadata": {},
     "output_type": "execute_result"
    }
   ],
   "source": [
    "array.sum()"
   ]
  },
  {
   "cell_type": "code",
   "execution_count": 7,
   "id": "fc97cacd-049e-42b6-bc71-335cec074863",
   "metadata": {
    "tags": []
   },
   "outputs": [
    {
     "data": {
      "text/plain": [
       "array([[0, 0, 0, 0, 0, 0, 0, 0, 0, 0],\n",
       "       [0, 0, 1, 1, 1, 0, 0, 0, 0, 0],\n",
       "       [0, 0, 0, 0, 0, 0, 0, 0, 0, 0],\n",
       "       [0, 0, 0, 0, 0, 0, 0, 0, 0, 0],\n",
       "       [0, 0, 0, 0, 1, 1, 0, 0, 0, 0],\n",
       "       [0, 0, 0, 0, 0, 0, 0, 0, 0, 0],\n",
       "       [0, 0, 0, 0, 0, 0, 0, 0, 0, 0],\n",
       "       [0, 0, 0, 0, 0, 0, 0, 0, 0, 0],\n",
       "       [0, 0, 0, 0, 0, 0, 0, 0, 0, 0],\n",
       "       [0, 0, 0, 0, 0, 0, 0, 0, 0, 0]])"
      ]
     },
     "execution_count": 7,
     "metadata": {},
     "output_type": "execute_result"
    }
   ],
   "source": [
    "#TESTING\n",
    "\n",
    "inst = [['turn', 'on', '1,2', 'through', '3,4'],\n",
    " ['turn', 'off', '4,5', 'through', '4,9'],\n",
    " ['turn', 'on', '4,4', 'through', '5,5']]\n",
    " #['turn', 'on', '410,146', 'through', '864,337'],\n",
    " #['turn', 'on', '931,331', 'through', '939,812']\n",
    "\n",
    "for i in inst:\n",
    "    if i[0] == \"toggle\":\n",
    "        toggle(i[1], i[3], arrayy)\n",
    "    elif i[1] == \"on\":\n",
    "            on(i[2], i[4], arrayy)\n",
    "    else:\n",
    "            off(i[2], i[4], arrayy)\n",
    "            \n",
    "arrayy"
   ]
  },
  {
   "cell_type": "markdown",
   "id": "da0497d1-0e40-4055-a787-980f780aa2da",
   "metadata": {},
   "source": [
    "## Problem 2\n",
    "\n",
    "You just finish implementing your winning light pattern when you realize you mistranslated Santa's message from Ancient Nordic Elvish. The light grid you bought actually has individual brightness controls; each light can have a brightness of zero or more. The lights all start at zero. \n",
    "- The phrase turn on actually means that you should increase the brightness of those lights by 1. \n",
    "- The phrase turn off actually means that you should decrease the brightness of those lights by 1, to a minimum of zero.\n",
    "- The phrase toggle actually means that you should increase the brightness of those lights by 2.\n",
    "\n",
    "For example:\n",
    "\n",
    "    turn on 0,0 through 0,0 would increase the total brightness by 1.\n",
    "    toggle 0,0 through 999,999 would increase the total brightness by 2000000.\n",
    "\n",
    "What is the total brightness of all lights combined after following Santa's instructions?"
   ]
  },
  {
   "cell_type": "code",
   "execution_count": 8,
   "id": "6823f5e4-f9b4-4a66-ac2a-770e732bea5a",
   "metadata": {
    "tags": []
   },
   "outputs": [],
   "source": [
    "# ENTER YOUR CODE HERE\n",
    "            \n",
    "#toggle - takes start val, finish val, and light array\n",
    "# switches 0 to 1 and 1 to 0 in given values\n",
    "def toggle1(s, f, ar):\n",
    "    s = s.split(\",\")\n",
    "    f = f.split(\",\")\n",
    "    a = int(s[0]) #y\n",
    "    b = int(s[1]) #x\n",
    "    x = int(f[0]) - int(s[0]) + 1\n",
    "    y = int(f[1]) - int(s[1]) + 1\n",
    "    for i in range(y):\n",
    "        for o in range(x):\n",
    "            ar[a,b] = b + 2\n",
    "        b = b + 1\n",
    "    a = a + 1\n",
    "            \n",
    "#on - takes start val, finish val, and light array\n",
    "# sets given range of values to 1\n",
    "def on1(s, f, ar):\n",
    "    s = s.split(\",\")\n",
    "    f = f.split(\",\")\n",
    "    a = int(s[0]) #y\n",
    "    b = int(s[1]) #x\n",
    "    x = int(f[0]) - int(s[0]) + 1\n",
    "    y = int(f[1]) - int(s[1]) + 1\n",
    "    for i in range(y):\n",
    "        for o in range(x):\n",
    "            ar[a,b] = b + 1\n",
    "        b = b + 1\n",
    "    a = a + 1\n",
    "\n",
    "#off - takes start val, finish val, and light array\n",
    "# sets given range of values to 0\n",
    "def off1(s, f, ar):\n",
    "    s = s.split(\",\")\n",
    "    f = f.split(\",\")\n",
    "    a = int(s[0]) #y\n",
    "    b = int(s[1]) #x\n",
    "    x = int(f[0]) - int(s[0]) + 1\n",
    "    y = int(f[1]) - int(s[1]) + 1\n",
    "    for i in range(y):\n",
    "        for o in range(x):\n",
    "            if b >= 0:\n",
    "                ar[a,b] = b - 1\n",
    "        b = b + 1\n",
    "    a = a + 1\n",
    "            "
   ]
  },
  {
   "cell_type": "code",
   "execution_count": 10,
   "id": "a16cafff-92c5-498f-9746-de1149953b5d",
   "metadata": {
    "tags": []
   },
   "outputs": [
    {
     "data": {
      "text/plain": [
       "43195670"
      ]
     },
     "execution_count": 10,
     "metadata": {},
     "output_type": "execute_result"
    }
   ],
   "source": [
    "for i in instructions: \n",
    "    if i[0] == \"toggle\":\n",
    "        toggle1(i[1], i[3], array1)\n",
    "    elif i[1] == \"on\":\n",
    "            on1(i[2], i[4], array1)\n",
    "    else:\n",
    "            off1(i[2], i[4], array1)\n",
    "\n",
    "array1.sum()"
   ]
  },
  {
   "cell_type": "markdown",
   "id": "676cc119-b6b9-4ad2-b4db-6935f395803b",
   "metadata": {},
   "source": [
    "---\n",
    "This lab was adapted from Paul Gribble's [Scientific Computing course](https://gribblelab.org/teaching/scicomp2020/)."
   ]
  }
 ],
 "metadata": {
  "kernelspec": {
   "display_name": "Python 3 (ipykernel)",
   "language": "python",
   "name": "python3"
  },
  "language_info": {
   "codemirror_mode": {
    "name": "ipython",
    "version": 3
   },
   "file_extension": ".py",
   "mimetype": "text/x-python",
   "name": "python",
   "nbconvert_exporter": "python",
   "pygments_lexer": "ipython3",
   "version": "3.10.8"
  }
 },
 "nbformat": 4,
 "nbformat_minor": 5
}
