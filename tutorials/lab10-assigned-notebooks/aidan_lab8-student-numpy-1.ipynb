{
 "cells": [
  {
   "cell_type": "markdown",
   "id": "72ba840e-5ed7-4c07-a347-7de626631b40",
   "metadata": {},
   "source": [
    "# Lab 8: NumPy (due Sunday, Nov 12)\n",
    "---\n",
    "\n",
    "Complete both Part 1 and Part 2 of [Advent of Code 2015 Day 6](https://adventofcode.com/2015/day/6).\n",
    "\n",
    "**Hints:**\n",
    "- You can use a 1000x1000 2D matrix to represent the grid of lights\n",
    "- Here is some python code you can use to load in the input file, and for each line, split the instructions into a list of items:\n",
    "```python\n",
    "    with open(\"data/A6_input.txt\") as fp:\n",
    "      for line in fp:\n",
    "          e = line.strip().split(\" \")\n",
    "          print(e)\n",
    "```\n",
    "\n",
    "- You will need some if statements to determine which instruction it is, and how to act on them.\n",
    "- The `.split()` method is your friend.\n",
    "- Remember to add 1 to the second x-coordinate and the second y-coordinate, to handle how Python indexes into arrays. For example, Z[0:5] results in the first, second, third, and fourth values of the array Z. To get the first 5 values you would have to use Z[0:6].\n"
   ]
  },
  {
   "cell_type": "code",
   "execution_count": 3,
   "id": "31264c72-72ac-4825-888c-cd1dd5d08af2",
   "metadata": {
    "tags": []
   },
   "outputs": [],
   "source": [
    "# Imports\n",
    "import numpy as np"
   ]
  },
  {
   "cell_type": "markdown",
   "id": "4079964c-e553-41f6-ab8f-c4ca812a7cbc",
   "metadata": {},
   "source": [
    "## Problem 1"
   ]
  },
  {
   "cell_type": "code",
   "execution_count": 12,
   "id": "73e5b01a-2117-491e-b1d4-b075939b149d",
   "metadata": {
    "tags": []
   },
   "outputs": [
    {
     "name": "stdout",
     "output_type": "stream",
     "text": [
      "The number of lights that are on are: 501660\n"
     ]
    }
   ],
   "source": [
    "# ENTER YOUR CODE HERE\n",
    "# answer to the question on the webpage\n",
    "\n",
    "#e = ['turn', 'on', '489,959', 'through', '759,964']\n",
    "#e = ['turn', 'off', '820,516', 'through', '871,914']\n",
    "#e = ['toggle', '756,965', 'through', '812,992'] \n",
    "\n",
    "# need same variable names for the list and for the coordinates\n",
    "\n",
    "matrix = np.zeros((1000,1000),dtype=int)\n",
    "#print(matrix)\n",
    "\n",
    "with open(\"data/A6_input.txt\") as fp:\n",
    "    for line in fp:\n",
    "        e = line.strip().split(\" \")\n",
    "        if e[0] == 'turn':\n",
    "            if e[1] == 'on':\n",
    "                x = (e[2].split(','))\n",
    "                y = (e[4].split(',')) #new lists x and y are created \n",
    "                #print(x)\n",
    "                #print(y)\n",
    "                # use the coordinates you made to index into the matrix\n",
    "                x1 = int(x[0])\n",
    "                #print(x1)\n",
    "                y1 = int(x[1])\n",
    "                #print(y1)\n",
    "                x2 = int(y[0])\n",
    "                #print(x2)\n",
    "                y2= int(y[1])\n",
    "                #print(y2)\n",
    "                # new variables x1y1 x2y2 represent coordinates \n",
    "            # need to turn the 0s into 1\n",
    "                matrix[x1:x2+1,y1:y2+1]=1\n",
    "            else:\n",
    "                x = (e[2].split(','))\n",
    "                y = (e[4].split(','))\n",
    "                #print(x)\n",
    "                #print(y)\n",
    "                x1 = int(x[0])\n",
    "                #print(x1)\n",
    "                y1 = int(x[1])\n",
    "                #print(y1)\n",
    "                x2 = int(y[0])\n",
    "                #print(x2)\n",
    "                y2= int(y[1])\n",
    "                #print(y2)\n",
    "            # need to turn the 1s into 0\n",
    "                matrix[x1:x2+1,y1:y2+1]=0\n",
    "                \n",
    "        else: # toggle: switches btw 0 and 1; if on turns off if off turns on, indexing numbers change\n",
    "            x = (e[1].split(','))\n",
    "            y = (e[3].split(','))\n",
    "            x1 = int(x[0]) \n",
    "            y1 = int(x[1])\n",
    "            x2 = int(y[0])\n",
    "            y2= int(y[1])\n",
    "            np.where(matrix[x1:x2+1,y1:y2+1],0,1) #np.where is used here for toggle\n",
    "\n",
    "number_of_lights_on = np.sum(matrix ==1)\n",
    "print('The number of lights that are on are:', number_of_lights_on)\n",
    "\n",
    "#end: need to count the 1s. use np.sum()\n",
    "       \n",
    "#print(matrix[0:2,0:2])\n",
    "        \n",
    "#type(x1)\n",
    "\n",
    "\n",
    "# matrix has rows and columns\n",
    "#(x1,y1),(x2,y2)\n",
    "#489 = x1, 959=y1, 759=x2,964=y2\n"
   ]
  },
  {
   "cell_type": "markdown",
   "id": "da0497d1-0e40-4055-a787-980f780aa2da",
   "metadata": {},
   "source": [
    "## Problem 2\n",
    "\n",
    "You just finish implementing your winning light pattern when you realize you mistranslated Santa's message from Ancient Nordic Elvish. The light grid you bought actually has individual brightness controls; each light can have a brightness of zero or more. The lights all start at zero. \n",
    "- The phrase turn on actually means that you should increase the brightness of those lights by 1. \n",
    "- The phrase turn off actually means that you should decrease the brightness of those lights by 1, to a minimum of zero.\n",
    "- The phrase toggle actually means that you should increase the brightness of those lights by 2.\n",
    "\n",
    "For example:\n",
    "\n",
    "    turn on 0,0 through 0,0 would increase the total brightness by 1.\n",
    "    toggle 0,0 through 999,999 would increase the total brightness by 2000000.\n",
    "\n",
    "What is the total brightness of all lights combined after following Santa's instructions?"
   ]
  },
  {
   "cell_type": "code",
   "execution_count": 17,
   "id": "e055b3b8-a00d-4147-bc5b-72aec0c8da6c",
   "metadata": {},
   "outputs": [
    {
     "name": "stdout",
     "output_type": "stream",
     "text": [
      "The total brightness of all lights are: 432234\n"
     ]
    }
   ],
   "source": [
    "# ENTER YOUR CODE HERE\n",
    "\n",
    "# each light: brightness of 0 or more\n",
    "# brightness starts at 0\n",
    "# turn on = increase brightness by 1\n",
    "# turn off = decrease brightness by 1\n",
    "# toggle = increase brightness by 2\n",
    "# need total brightness of all lights = np.sum(matrix)\n",
    "\n",
    "matrix = np.zeros((1000,1000),dtype=int)\n",
    "#print(matrix)\n",
    "\n",
    "with open(\"data/A6_input.txt\") as fp:\n",
    "    for line in fp:\n",
    "        e = line.strip().split(\" \")\n",
    "        if e[0] == 'turn':\n",
    "            if e[1] == 'on':\n",
    "                x = (e[2].split(','))\n",
    "                y = (e[4].split(',')) #new lists x and y are created \n",
    "                #print(x)\n",
    "                #print(y)\n",
    "                # use the coordinates you made to index into the matrix\n",
    "                x1 = int(x[0])\n",
    "                #print(x1)\n",
    "                y1 = int(x[1])\n",
    "                #print(y1)\n",
    "                x2 = int(y[0])\n",
    "                #print(x2)\n",
    "                y2= int(y[1])\n",
    "                #print(y2)\n",
    "                # new variables x1y1 x2y2 represent coordinates \n",
    "            # need to turn the 0s into 1\n",
    "                matrix[x1:x2+1,y1:y2+1]=2 #1+1: 1 from before, add 1 for increased brightness   \n",
    "            else:\n",
    "                x = (e[2].split(','))\n",
    "                y = (e[4].split(','))\n",
    "                #print(x)\n",
    "                #print(y)\n",
    "                x1 = int(x[0])\n",
    "                #print(x1)\n",
    "                y1 = int(x[1])\n",
    "                #print(y1)\n",
    "                x2 = int(y[0])\n",
    "                #print(x2)\n",
    "                y2= int(y[1])\n",
    "                #print(y2)\n",
    "            # need to turn the 1s into 0\n",
    "                matrix[x1:x2+1,y1:y2+1]= 1 # add 1\n",
    "                \n",
    "        else: # toggle: switches btw 0 and 1; if on turns off if off turns on, indexing numbers change\n",
    "            x = (e[1].split(','))\n",
    "            y = (e[3].split(','))\n",
    "            x1 = int(x[0]) \n",
    "            y1 = int(x[1])\n",
    "            x2 = int(y[0])\n",
    "            y2= int(y[1])\n",
    "            np.where(matrix[x1:x2+1,y1:y2+1],0,3) #np.where is used here for toggle, 1 from before +2=3\n",
    "\n",
    "number_of_lights_on = np.sum(matrix ==1)\n",
    "print('The total brightness of all lights are:', number_of_lights_on)\n",
    "\n",
    "\n",
    "\n",
    "\n"
   ]
  },
  {
   "cell_type": "markdown",
   "id": "676cc119-b6b9-4ad2-b4db-6935f395803b",
   "metadata": {},
   "source": [
    "---\n",
    "This lab was adapted from Paul Gribble's [Scientific Computing course](https://gribblelab.org/teaching/scicomp2020/)."
   ]
  }
 ],
 "metadata": {
  "kernelspec": {
   "display_name": "Python 3 (ipykernel)",
   "language": "python",
   "name": "python3"
  },
  "language_info": {
   "codemirror_mode": {
    "name": "ipython",
    "version": 3
   },
   "file_extension": ".py",
   "mimetype": "text/x-python",
   "name": "python",
   "nbconvert_exporter": "python",
   "pygments_lexer": "ipython3",
   "version": "3.10.8"
  }
 },
 "nbformat": 4,
 "nbformat_minor": 5
}
