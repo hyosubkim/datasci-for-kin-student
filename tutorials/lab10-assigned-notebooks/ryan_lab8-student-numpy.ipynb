{
 "cells": [
  {
   "cell_type": "markdown",
   "id": "72ba840e-5ed7-4c07-a347-7de626631b40",
   "metadata": {},
   "source": [
    "# Lab 8: NumPy (due Sunday, Nov 12)\n",
    "---\n",
    "\n",
    "Complete both Part 1 and Part 2 of [Advent of Code 2015 Day 6](https://adventofcode.com/2015/day/6).\n",
    "\n",
    "**Hints:**\n",
    "- You can use a 1000x1000 2D matrix to represent the grid of lights\n",
    "- Here is some python code you can use to load in the input file, and for each line, split the instructions into a list of items:\n",
    "```python\n",
    "    with open(\"data/A6_input.txt\") as fp:\n",
    "      for line in fp:\n",
    "          e = line.strip().split(\" \")\n",
    "          print(e)\n",
    "```\n",
    "\n",
    "- You will need some if statements to determine which instruction it is, and how to act on them.\n",
    "- The `.split()` method is your friend.\n",
    "- Remember to add 1 to the second x-coordinate and the second y-coordinate, to handle how Python indexes into arrays. For example, Z[0:5] results in the first, second, third, and fourth values of the array Z. To get the first 5 values you would have to use Z[0:6].\n"
   ]
  },
  {
   "cell_type": "code",
   "execution_count": 1,
   "id": "31264c72-72ac-4825-888c-cd1dd5d08af2",
   "metadata": {},
   "outputs": [],
   "source": [
    "# Imports\n",
    "import numpy as np"
   ]
  },
  {
   "cell_type": "code",
   "execution_count": 62,
   "id": "6be16661-4706-44c5-b93a-b36da531bcf6",
   "metadata": {
    "tags": []
   },
   "outputs": [],
   "source": [
    "loe = []\n",
    "with open(\"data/A6_input.txt\") as fp:\n",
    "      for line in fp:\n",
    "          e = line.strip().split(\" \")\n",
    "          loe.append(e)\n",
    "# loe"
   ]
  },
  {
   "cell_type": "markdown",
   "id": "4079964c-e553-41f6-ab8f-c4ca812a7cbc",
   "metadata": {},
   "source": [
    "## Problem 1"
   ]
  },
  {
   "cell_type": "code",
   "execution_count": 52,
   "id": "b54dc68f-d934-4020-8842-2ce39b5b5722",
   "metadata": {
    "tags": []
   },
   "outputs": [],
   "source": [
    "# get the start/end coordinates from a given instruction\n",
    "\n",
    "def get_coors(los):\n",
    "    '''\n",
    "    identify the two coordinates given by an instruction\n",
    "    return a dictionary that contains the information of the coordinates (coors)\n",
    "    los: a list of strings that make up a single instruction\n",
    "    '''\n",
    "    coor1_str = los[-3]\n",
    "    coor2_str = los[-1]\n",
    "    # print(coor1_str, coor2_str)\n",
    "    x1_str,y1_str = coor1_str.split(',')\n",
    "    x2_str,y2_str = coor2_str.split(',')\n",
    "    \n",
    "    x1 = int(x1_str)\n",
    "    y1 = int(y1_str)\n",
    "    x2 = int(x2_str)\n",
    "    y2 = int(y2_str)\n",
    "\n",
    "    return x1, y1, x2, y2"
   ]
  },
  {
   "cell_type": "code",
   "execution_count": 54,
   "id": "6d47bca1-c48a-4863-8001-a75df4aa87c1",
   "metadata": {
    "tags": []
   },
   "outputs": [],
   "source": [
    "# testing\n",
    "\n",
    "# los = ['toggle', '628,958', 'through', '811,992']\n",
    "# get_coors(los)"
   ]
  },
  {
   "cell_type": "code",
   "execution_count": 55,
   "id": "a0a8f8e2-3a30-4420-b6a1-dac1d1102792",
   "metadata": {
    "tags": []
   },
   "outputs": [],
   "source": [
    "# functions on the lights: define three actions for a light: turn on/turn off/toggle a light\n",
    "\n",
    "def action_on(arr, x1, y1, x2, y2):\n",
    "    arr[y1:y2+1, x1:x2+1] = True\n",
    "    return arr\n",
    "    \n",
    "def action_off(arr, x1, y1, x2, y2):\n",
    "    arr[y1:y2+1, x1:x2+1] = False\n",
    "    return arr\n",
    "    \n",
    "def action_toggle(arr, x1, y1, x2, y2):\n",
    "    arr[y1:y2+1, x1:x2+1] = np.logical_not(arr[y1:y2+1, x1:x2+1])\n",
    "    return arr"
   ]
  },
  {
   "cell_type": "code",
   "execution_count": 56,
   "id": "7e9a4bd0-9f94-4187-ba0b-088b809c0ba4",
   "metadata": {
    "tags": []
   },
   "outputs": [],
   "source": [
    "# testing \n",
    "\n",
    "# arr = np.full((5,5),False)\n",
    "# arr"
   ]
  },
  {
   "cell_type": "code",
   "execution_count": 57,
   "id": "961e160f-04b2-4794-9871-929d572e4627",
   "metadata": {
    "tags": []
   },
   "outputs": [],
   "source": [
    "# action_on(arr, 1,2,2,4)"
   ]
  },
  {
   "cell_type": "code",
   "execution_count": 58,
   "id": "089afcb9-d6e5-4c89-ab29-1cba504ab993",
   "metadata": {
    "tags": []
   },
   "outputs": [],
   "source": [
    "# action_off(arr, 0,1,1,2)"
   ]
  },
  {
   "cell_type": "code",
   "execution_count": 59,
   "id": "291c055a-1bb6-4e8a-8398-28f45f9deaa2",
   "metadata": {
    "tags": []
   },
   "outputs": [],
   "source": [
    "# action_toggle(arr, 2,4,4,4)"
   ]
  },
  {
   "cell_type": "code",
   "execution_count": 60,
   "id": "7c1b3af5-5609-4497-b78e-c450c254ad3f",
   "metadata": {
    "tags": []
   },
   "outputs": [],
   "source": [
    "def instruction(los, arr):\n",
    "    '''\n",
    "    make the change on the array accroding to the instruction\n",
    "    los: list of strings (i.e. the given instruction)\n",
    "    arr: current state of the light array\n",
    "    '''\n",
    "    \n",
    "    x1,y1,x2,y2 = get_coors(los)\n",
    "    \n",
    "    if 'on' in los: \n",
    "        action_on(arr, x1, y1, x2, y2)\n",
    "    elif 'off' in los: \n",
    "        action_off(arr, x1, y1, x2, y2)\n",
    "    else:\n",
    "        action_toggle(arr, x1, y1, x2, y2)\n",
    "    \n",
    "    return arr\n",
    "\n",
    "\n",
    "def instructions(lol, arr):\n",
    "    '''\n",
    "    make changes on the array accroding to the full set of instructions\n",
    "    lol: list of lists/instructions\n",
    "    arr: the initial array of light\n",
    "    '''\n",
    "    for los in lol: \n",
    "        arr = instruction(los, arr)\n",
    "    return arr"
   ]
  },
  {
   "cell_type": "code",
   "execution_count": 74,
   "id": "1149bdb4-66e6-4dec-b6a1-4ca96b70d1f5",
   "metadata": {
    "tags": []
   },
   "outputs": [
    {
     "data": {
      "text/plain": [
       "569999"
      ]
     },
     "execution_count": 74,
     "metadata": {},
     "output_type": "execute_result"
    }
   ],
   "source": [
    "# initialize an 2D array of lights where True means 'on' and False means 'off'\n",
    "lights = np.full((1000,1000), False)\n",
    "# lights\n",
    "\n",
    "\n",
    "# pass all the instructions to it\n",
    "final_array = instructions(loe, lights)\n",
    "final_array.sum()"
   ]
  },
  {
   "cell_type": "code",
   "execution_count": 79,
   "id": "a262f1eb-cbdc-49e7-9f48-2cc19f22b112",
   "metadata": {
    "tags": []
   },
   "outputs": [],
   "source": [
    "# checking the answer with the set given for my githib\n",
    "\n",
    "# lomy = []\n",
    "# with open(\"data/my_lights.txt\") as fp:\n",
    "#       for line in fp:\n",
    "#           e = line.strip().split(\" \")\n",
    "#           lomy.append(e)\n",
    "# # lomy"
   ]
  },
  {
   "cell_type": "code",
   "execution_count": null,
   "id": "3f5ef24e-e736-453d-a3b9-3db0b2a3179d",
   "metadata": {},
   "outputs": [],
   "source": [
    "# lights = np.full((1000,1000), False)\n",
    "# # lights\n",
    "\n",
    "\n",
    "# # pass all the instructions to it\n",
    "\n",
    "# final_array = instructions(lomy, lights)\n",
    "# final_array.sum()"
   ]
  },
  {
   "cell_type": "markdown",
   "id": "da0497d1-0e40-4055-a787-980f780aa2da",
   "metadata": {},
   "source": [
    "## Problem 2\n",
    "\n",
    "You just finish implementing your winning light pattern when you realize you mistranslated Santa's message from Ancient Nordic Elvish. The light grid you bought actually has individual brightness controls; each light can have a brightness of zero or more. The lights all start at zero. \n",
    "- The phrase turn on actually means that you should increase the brightness of those lights by 1. \n",
    "- The phrase turn off actually means that you should decrease the brightness of those lights by 1, to a minimum of zero.\n",
    "- The phrase toggle actually means that you should increase the brightness of those lights by 2.\n",
    "\n",
    "For example:\n",
    "\n",
    "    turn on 0,0 through 0,0 would increase the total brightness by 1.\n",
    "    toggle 0,0 through 999,999 would increase the total brightness by 2000000.\n",
    "\n",
    "What is the total brightness of all lights combined after following Santa's instructions?"
   ]
  },
  {
   "cell_type": "code",
   "execution_count": 80,
   "id": "e055b3b8-a00d-4147-bc5b-72aec0c8da6c",
   "metadata": {
    "tags": []
   },
   "outputs": [],
   "source": [
    "# ENTER YOUR CODE HERE\n",
    "\n",
    "def action_inc(arr, x1, y1, x2, y2):\n",
    "    arr[y1:y2+1, x1:x2+1] = arr[y1:y2+1, x1:x2+1] + 1\n",
    "    return arr\n",
    "    \n",
    "def action_dec(arr, x1, y1, x2, y2):\n",
    "    arr[y1:y2+1, x1:x2+1] = arr[y1:y2+1, x1:x2+1] - 1\n",
    "    arr[arr < 0] = 0\n",
    "    return arr\n",
    "    \n",
    "def action_toggle_new(arr, x1, y1, x2, y2):\n",
    "    arr[y1:y2+1, x1:x2+1] = arr[y1:y2+1, x1:x2+1] + 2\n",
    "    return arr"
   ]
  },
  {
   "cell_type": "code",
   "execution_count": 81,
   "id": "d75bdbd3-86cb-4295-b81d-6ab0ec73f811",
   "metadata": {
    "tags": []
   },
   "outputs": [],
   "source": [
    "def instruction(los, arr):\n",
    "    '''\n",
    "    make the change on the array accroding to the instruction\n",
    "    los: list of strings (i.e. the given instruction)\n",
    "    arr: current state of the light array\n",
    "    '''\n",
    "    \n",
    "    x1,y1,x2,y2 = get_coors(los)\n",
    "    \n",
    "    if 'on' in los: \n",
    "        action_inc(arr, x1, y1, x2, y2)\n",
    "    elif 'off' in los: \n",
    "        action_dec(arr, x1, y1, x2, y2)\n",
    "    else:\n",
    "        action_toggle_new(arr, x1, y1, x2, y2)\n",
    "    \n",
    "    return arr\n",
    "\n",
    "\n",
    "def instructions(lol, arr):\n",
    "    '''\n",
    "    make changes on the array accroding to the full set of instructions\n",
    "    lol: list of lists/instructions\n",
    "    arr: the initial array of light\n",
    "    '''\n",
    "    for los in lol: \n",
    "        arr = instruction(los, arr)\n",
    "    return arr"
   ]
  },
  {
   "cell_type": "code",
   "execution_count": 85,
   "id": "b05172f2-2f9d-4fa3-ad2b-b5774bb397cc",
   "metadata": {
    "tags": []
   },
   "outputs": [
    {
     "data": {
      "text/plain": [
       "17836115.0"
      ]
     },
     "execution_count": 85,
     "metadata": {},
     "output_type": "execute_result"
    }
   ],
   "source": [
    "# initialize an 2D array of lights where True means 'on' and False means 'off'\n",
    "lights = np.zeros((1000,1000))\n",
    "# lights\n",
    "\n",
    "# pass all the instructions to it\n",
    "final_array = instructions(loe, lights)\n",
    "final_array.sum()"
   ]
  },
  {
   "cell_type": "code",
   "execution_count": 86,
   "id": "8774a630-cf46-4d2e-beed-321896b63659",
   "metadata": {
    "tags": []
   },
   "outputs": [
    {
     "data": {
      "text/plain": [
       "15343601.0"
      ]
     },
     "execution_count": 86,
     "metadata": {},
     "output_type": "execute_result"
    }
   ],
   "source": [
    "# checking the answer with the set given for my githib\n",
    "\n",
    "lights = np.zeros((1000,1000))\n",
    "\n",
    "# pass all the instructions to it\n",
    "final_array = instructions(lomy, lights)\n",
    "final_array.sum()"
   ]
  },
  {
   "cell_type": "markdown",
   "id": "676cc119-b6b9-4ad2-b4db-6935f395803b",
   "metadata": {},
   "source": [
    "---\n",
    "This lab was adapted from Paul Gribble's [Scientific Computing course](https://gribblelab.org/teaching/scicomp2020/)."
   ]
  }
 ],
 "metadata": {
  "kernelspec": {
   "display_name": "Python 3 (ipykernel)",
   "language": "python",
   "name": "python3"
  },
  "language_info": {
   "codemirror_mode": {
    "name": "ipython",
    "version": 3
   },
   "file_extension": ".py",
   "mimetype": "text/x-python",
   "name": "python",
   "nbconvert_exporter": "python",
   "pygments_lexer": "ipython3",
   "version": "3.10.8"
  }
 },
 "nbformat": 4,
 "nbformat_minor": 5
}
