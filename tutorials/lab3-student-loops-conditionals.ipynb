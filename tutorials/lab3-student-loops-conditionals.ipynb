{
 "cells": [
  {
   "cell_type": "markdown",
   "id": "f3b388ea-60e7-493b-aee1-81da7484d2eb",
   "metadata": {},
   "source": [
    "# Lab 3: For loops and conditionals\n",
    "---"
   ]
  },
  {
   "cell_type": "markdown",
   "id": "227d49c0-7d59-4211-b321-b7fce9d017f9",
   "metadata": {
    "tags": []
   },
   "source": [
    "### 1. Loop over a dictionary."
   ]
  },
  {
   "cell_type": "markdown",
   "id": "a57231cb-d72d-47b7-b8d1-0a914201258a",
   "metadata": {
    "tags": []
   },
   "source": [
    "Here is a dictionary `colleges` that lists the city and zip (as values) for several schools in NYC (the keys)."
   ]
  },
  {
   "cell_type": "code",
   "execution_count": null,
   "id": "daeb9368-bcc5-482d-9144-9f4c96b2c0c2",
   "metadata": {
    "tags": []
   },
   "outputs": [],
   "source": [
    "colleges = {}\n",
    "colleges['NYU'] = 'New York, NY 10012'\n",
    "colleges['Columbia'] = 'New York, NY 10027'\n",
    "colleges['Fordham'] = 'Bronx, NY 10458'\n",
    "colleges['Brooklyn college'] = 'Brooklyn, NY 11210'"
   ]
  },
  {
   "cell_type": "markdown",
   "id": "706cf048-8bf9-4bdd-b6f5-bef7a3aa0e0a",
   "metadata": {},
   "source": [
    "Write a `for` loop to iterate over the keys and return the values, printing in this format:"
   ]
  },
  {
   "cell_type": "markdown",
   "id": "c99ae589-158c-406a-97cb-c12f66249520",
   "metadata": {},
   "source": [
    "```\n",
    "NYU : New York, NY 10012  \n",
    "Columbia : New York, NY 10027  \n",
    "Fordham : Bronx, NY 10458  \n",
    "Brooklyn college : Brooklyn, NY 11210 \n",
    "```"
   ]
  },
  {
   "cell_type": "code",
   "execution_count": null,
   "id": "ea1d0cc4-57cd-4d29-ab34-dc509d007d42",
   "metadata": {},
   "outputs": [],
   "source": [
    "# Enter your answer here\n",
    "\n"
   ]
  },
  {
   "cell_type": "markdown",
   "id": "13e2966a-6a45-4180-a894-46ddce8c8e98",
   "metadata": {},
   "source": [
    "---\n",
    "### 2. Create a multiplication table using nested for loops"
   ]
  },
  {
   "cell_type": "markdown",
   "id": "1d01e80e-76fc-4cf8-b740-b6a2942f5c4e",
   "metadata": {},
   "source": [
    "You can also place `for` loops inside another `for` loop, allowing you to repeat things in more complex ways. For instance, you can print out a square as shown below. Before you execute the code, go through it line-by-line to see if you can figure out how it will end up printing a square. In other words, write your prediction down on paper/tablet/whiteboard/etc."
   ]
  },
  {
   "cell_type": "code",
   "execution_count": null,
   "id": "afaeb389-3eaa-482c-8f9c-aa56872ed85b",
   "metadata": {},
   "outputs": [],
   "source": [
    "for i in range(10):\n",
    "    for j in range(10):\n",
    "        print(\"*\", end=\" \")\n",
    "    print(\"\")"
   ]
  },
  {
   "cell_type": "markdown",
   "id": "7477a9b1-6e97-4e9b-884e-ea92afd5bd9d",
   "metadata": {},
   "source": [
    "Write some code that produces the multiplication table below. Note that for each cell $c_{ij}$, its value is equal to the product of the row number $i$ and column number $j$, assuming they are numbered $1, 2, 3$.\n",
    "\n",
    "Here is what the output should look like when you run your code:     "
   ]
  },
  {
   "cell_type": "markdown",
   "id": "2ce4a55b-c10c-43fa-aeb3-fc6384763904",
   "metadata": {},
   "source": [
    "```\n",
    "1 2 3      \n",
    "2 4 6        \n",
    "3 6 9 \n",
    "```"
   ]
  },
  {
   "cell_type": "code",
   "execution_count": null,
   "id": "fe0a19fe-e8b1-4631-87a4-40e6915dd525",
   "metadata": {},
   "outputs": [],
   "source": [
    "# Enter your answer here\n",
    "\n"
   ]
  },
  {
   "cell_type": "markdown",
   "id": "7907c63b-5503-4b60-9eed-c0ac37ff7582",
   "metadata": {},
   "source": [
    "---\n",
    "### 3. Fizz Buzz!\n",
    "\n",
    "Write a short program that prints each number from 1 to 100 on a new line:\n",
    "\n",
    "- For each multiple of 3, print “Fizz” instead of the number.   \n",
    "- For each multiple of 5, print “Buzz” instead of the number.  \n",
    "- For numbers which are multiples of both 3 and 5, print “Fizz Buzz” instead of the number.  \n",
    "\n",
    "**Hint:** You will probably want to use the modulo operator (which is the symbol `%` in Python) to test whether the remainder is zero after dividing a number $N$ by another number $m$. Your program should produce output like this:\n",
    "\n"
   ]
  },
  {
   "cell_type": "markdown",
   "id": "fcaaa6d0-25d7-48ba-8045-a7ffeb9dc11d",
   "metadata": {},
   "source": [
    "```\n",
    "1  \n",
    "2  \n",
    "Fizz  \n",
    "4  \n",
    "Buzz  \n",
    "Fizz  \n",
    "7  \n",
    "8  \n",
    "Fizz  \n",
    "Buzz  \n",
    "11  \n",
    "Fizz  \n",
    "13  \n",
    "14  \n",
    "Fizz Buzz  \n",
    "16  \n",
    "...\n",
    "```"
   ]
  },
  {
   "cell_type": "code",
   "execution_count": null,
   "id": "c1b9d85e-b035-44b1-bfdd-007bb7141107",
   "metadata": {},
   "outputs": [],
   "source": [
    "# Enter your answer here\n",
    "\n"
   ]
  },
  {
   "cell_type": "markdown",
   "id": "ad53e310-d826-410e-8618-cafecc43080c",
   "metadata": {},
   "source": [
    "---\n",
    "### 4. Is it prime?\n",
    "\n",
    "Write a short program that determines whether a number $N$ is a prime number. Remember, a prime number is a natural number greater than 1 that is only divisible with zero remainder by the number 1 and itself. The first few prime numbers are 2, 3, 5, 7, 11, 13, 17, 19, 23, 29,...\n",
    "\n",
    "Don't worry about implementing a fancy algorithm for testing primeness. For now, it’s ok to implement a simple brute force method. And to simplify things, only positive integer values are allowed to be used for testing. Do not use a function you find on the internet or a built-in function to test primeness. *The purpose of this exercise is for you to write your own code.*\n",
    "\n",
    "Your program should run like so:"
   ]
  },
  {
   "cell_type": "markdown",
   "id": "5a78721d-ed53-4d99-b0e6-0aaab235d562",
   "metadata": {},
   "source": [
    "```python\n",
    "Enter a number: 7  \n",
    "The number 7 is prime.\n",
    "```"
   ]
  },
  {
   "cell_type": "markdown",
   "id": "6bcbba3e-401e-44fa-b216-3dd32d2f3370",
   "metadata": {},
   "source": [
    "and:"
   ]
  },
  {
   "cell_type": "markdown",
   "id": "68619c66-4570-4c27-9cdb-caaf9bf933aa",
   "metadata": {},
   "source": [
    "```\n",
    "Enter a number: 12  \n",
    "The number 12 is not prime.\n",
    "```"
   ]
  },
  {
   "cell_type": "code",
   "execution_count": null,
   "id": "7f4ecffb-79e8-46b4-8a8a-670e1db0a474",
   "metadata": {},
   "outputs": [],
   "source": [
    "# Enter your answer here\n",
    "\n"
   ]
  },
  {
   "cell_type": "markdown",
   "id": "ee4c3b8e-b02b-490c-aaf3-9d5eacdb05bf",
   "metadata": {},
   "source": [
    "---\n",
    "This lab was adapted from materials from Paul Gribble's Western U [course on Scientific Computing](https://gribblelab.org/teaching/scicomp2020/) and Brendan Lake and Todd Gureckis's NYU course [Lab in Cognition and Perception](https://cims.nyu.edu/~brenden/courses/labincp/course-content/syllabus.html).\n"
   ]
  }
 ],
 "metadata": {
  "kernelspec": {
   "display_name": "jupyter_books",
   "language": "python",
   "name": "jupyter_books"
  },
  "language_info": {
   "codemirror_mode": {
    "name": "ipython",
    "version": 3
   },
   "file_extension": ".py",
   "mimetype": "text/x-python",
   "name": "python",
   "nbconvert_exporter": "python",
   "pygments_lexer": "ipython3",
   "version": "3.10.8"
  }
 },
 "nbformat": 4,
 "nbformat_minor": 5
}
