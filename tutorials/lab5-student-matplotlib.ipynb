{
 "cells": [
  {
   "cell_type": "markdown",
   "id": "123c2828-10c9-45c6-b1f1-274661be6acc",
   "metadata": {},
   "source": [
    "# Lab 5: Practice plotting data with `Matplotlib`\n",
    "---"
   ]
  },
  {
   "cell_type": "markdown",
   "id": "ae28a2ba-cf5d-4d27-916d-3074f83d0a9d",
   "metadata": {},
   "source": [
    "## Scenario\n",
    "\n",
    "Our imaginary colleague “Dr. Maverick” has invented a new miracle drug that promises to cure arthritis inflammation flare-ups after only 3 weeks since initially taking the medication! Naturally, we wish to see the clinical trial data, and so they have provided us with a CSV spreadsheet containing the clinical trial data.\n",
    "\n",
    "The CSV file contains the number of inflammation flare-ups per day for the 60 patients in the initial clinical trial, with the trial lasting 40 days. Each row corresponds to a patient, and each column corresponds to a day in the trial (i.e., wide-form data). Once a patient has their first inflammation flare-up they take the medication and wait a few weeks for it to take effect and reduce flare-ups.\n",
    "\n",
    "To see how effective the treatment is we would like to:\n",
    "\n",
    "- Calculate the average inflammation per day across all patients.\n",
    "- Plot the result to discuss and share with colleagues.\n"
   ]
  },
  {
   "cell_type": "markdown",
   "id": "6a459bde-a548-4732-a04e-27dc9b07e823",
   "metadata": {},
   "source": [
    "---\n",
    "## Preliminaries  \n",
    "\n",
    "Import `Numpy`, `matplotlib` and `pandas` libraries. "
   ]
  },
  {
   "cell_type": "code",
   "execution_count": null,
   "id": "3c0f2c84-14bc-4333-8964-040d8e65d432",
   "metadata": {},
   "outputs": [],
   "source": [
    "# ENTER YOUR ANSWER\n",
    "\n",
    "\n",
    "# # Uncomment the next line for retina displays to create higher-res figs in nb\n",
    "# %config InlineBackend.figure_format = 'retina'"
   ]
  },
  {
   "cell_type": "markdown",
   "id": "83fb5b18-be71-4a9c-bd4f-d64d6809293a",
   "metadata": {},
   "source": [
    "Using NumPy, import the CSV file named \"inflammation-01.csv\" from the `data` subdirectory and enter the correct value for the \"delimiter\" keyword argument (kwarg). Make sure your array has shape 60x40 (see: https://numpy.org/doc/stable/reference/generated/numpy.ndarray.shape.html). \n",
    "\n",
    "**Of course, you could read in the data first with `pandas`, but we want to at least see how NumPy could be used to read in data as well.**"
   ]
  },
  {
   "cell_type": "code",
   "execution_count": null,
   "id": "b93aa57d-60d5-4f48-bf80-9b56a0974a45",
   "metadata": {},
   "outputs": [],
   "source": [
    "# REPLACE ELLIPSES (...)\n",
    "data = np.loadtxt(..., delimiter=...)"
   ]
  },
  {
   "cell_type": "code",
   "execution_count": null,
   "id": "27dac0b9-0036-40c3-b4f2-26ae6ee97e8b",
   "metadata": {},
   "outputs": [],
   "source": [
    "# CHECK THE SHAPE\n"
   ]
  },
  {
   "cell_type": "markdown",
   "id": "f6a88185-9d4b-4f68-a37e-03fd51d7a5e8",
   "metadata": {},
   "source": [
    "---\n",
    "## Create a `subjects` variable containing each subject's ID\n",
    "\n",
    "Create a varaiable called `subjects` that holds a unique subject ID for each subject (i.e., \"s01, s02,...,s60\"), which you will use as indices for a data frame you will create in later steps. Note that each ID should be 3 characters in length. **Do this in one line by combining a list comprehension with a conditional.** The syntax for this is: \"do something if some-condition else do something-else...\" followed by the remaining list comprehension syntax you are already familiar with.  "
   ]
  },
  {
   "cell_type": "code",
   "execution_count": null,
   "id": "170787b1-9815-402c-8a36-54df10db99a0",
   "metadata": {},
   "outputs": [],
   "source": [
    "# YOUR ANSWER HERE\n"
   ]
  },
  {
   "cell_type": "markdown",
   "id": "d782683b-7126-46a6-90a0-ce788e0dd837",
   "metadata": {},
   "source": [
    "---\n",
    "## Create a DataFrame containing the inflammation data and use `subjects` as the index. \n",
    "\n",
    "Also, display the first several lines of your DataFrame to make sure the `subjects` variables serve as the index column. "
   ]
  },
  {
   "cell_type": "code",
   "execution_count": null,
   "id": "126b59b1-afde-4879-b760-4f4178f54374",
   "metadata": {},
   "outputs": [],
   "source": [
    "# YOUR ANSWER HERE\n"
   ]
  },
  {
   "cell_type": "markdown",
   "id": "58b353ff-397c-449b-9745-c9b09b60d85b",
   "metadata": {},
   "source": [
    "---\n",
    "## Plot the average inflammation for each day. \n",
    "We want to see how the average inflammation across subjects changes on a day-to-day basis. Take this step-by-step: First, assign these values to a variable `avg_inflammation`; second, use matplotlib to plot `avg_inflammation`."
   ]
  },
  {
   "cell_type": "code",
   "execution_count": null,
   "id": "16d5d290-e409-411f-9b6e-d87302183b92",
   "metadata": {},
   "outputs": [],
   "source": [
    "# YOUR ANSWER HERE\n"
   ]
  },
  {
   "cell_type": "markdown",
   "id": "751bdec6-305b-435f-af99-b7229e2a1364",
   "metadata": {},
   "source": [
    "---\n",
    "## Plot the max inflammation for each day.\n",
    "\n",
    "The result above should have been a reasonably linear rise and fall, in line with Dr. Maverick’s claim that the medication takes 3 weeks to take effect. But a good data scientist doesn’t just consider the average of a dataset, so let’s have a look at two other statistics, the max and min of the data. "
   ]
  },
  {
   "cell_type": "code",
   "execution_count": null,
   "id": "7cefd751-62a1-40d3-aa58-f6f6e2f62a37",
   "metadata": {},
   "outputs": [],
   "source": [
    "# YOUR ANSWER HERE\n"
   ]
  },
  {
   "cell_type": "markdown",
   "id": "46cd2975-4fe5-47f9-b91e-a6e2e9d282f7",
   "metadata": {},
   "source": [
    "Next, plot the min of the data. "
   ]
  },
  {
   "cell_type": "code",
   "execution_count": null,
   "id": "875aa4f0-d118-4033-b026-a77a5deb4817",
   "metadata": {},
   "outputs": [],
   "source": [
    "# YOUR ANSWER HERE\n"
   ]
  },
  {
   "cell_type": "markdown",
   "id": "5776b3b4-764d-45e3-9a5a-ea2e4503caf4",
   "metadata": {},
   "source": [
    "---\n",
    "## Plotting with subplots\n",
    "\n",
    "Since these plots are similar and can be thought of as all part of the same analysis, let's plot them in a single figure using subplots. First, create a single row of three figure panels (i.e., subplots). Specify a sensible figure size, too, but don't worry if it seems off - you can always go back and change it.\n",
    "\n",
    "Now, in the first set of axes, plot the average. In the second, plot the max, and in the third, plot the min."
   ]
  },
  {
   "cell_type": "code",
   "execution_count": null,
   "id": "78ddc38b-42d2-4b91-bdfb-72a8178c5bff",
   "metadata": {},
   "outputs": [],
   "source": [
    "# YOUR ANSWER HERE\n"
   ]
  },
  {
   "cell_type": "markdown",
   "id": "c31010a5-a9b1-4b26-a0c4-7b78e3472036",
   "metadata": {},
   "source": [
    "You should see the same figures you plotted earlier, but now all in one nice row. Now copy your code into the cell below and add appropriate `x` and `y` axis labels."
   ]
  },
  {
   "cell_type": "markdown",
   "id": "2230736b-73ac-4ad2-a39e-b825282e8712",
   "metadata": {},
   "source": [
    "After you add sensible axis labels, add a good figure title. And, as a last step, make sure the y-axis labels aren't smooshed up against the neighboring subplot."
   ]
  },
  {
   "cell_type": "markdown",
   "id": "f4a82b94-ea4e-4f2c-ac7f-9e78d2b648b7",
   "metadata": {},
   "source": [
    "One last thing, add a fourth subplot to show the standard deviation across days. Of course, you'll want to label its axes and make sure everything looks nice, just like you did for the first three panels. "
   ]
  },
  {
   "cell_type": "code",
   "execution_count": null,
   "id": "a4e2ab49-3e2a-400e-a799-cf9b4cc784b4",
   "metadata": {},
   "outputs": [],
   "source": [
    "# YOUR ANSWER HERE\n"
   ]
  },
  {
   "cell_type": "markdown",
   "id": "058881e0-d8f8-4c2f-96df-f4639346ace6",
   "metadata": {},
   "source": [
    "---\n",
    "## Using the `label` parameter to easily create legends\n",
    "\n",
    "Let's say you wanted to plot both max and min in the same figure. A nice way to do that would be to use different colors for each, and also to label them appropriately. Go ahead and do that, and remember to continue using object-oriented plotting as opposed to procedural. "
   ]
  },
  {
   "cell_type": "code",
   "execution_count": null,
   "id": "d2b992c8-1890-46f7-9132-518c288d505e",
   "metadata": {},
   "outputs": [],
   "source": [
    "# YOUR ANSWER HERE\n"
   ]
  },
  {
   "cell_type": "markdown",
   "id": "0add25e7-4a35-49d8-b8bc-a9782b1b02bf",
   "metadata": {},
   "source": [
    "Now add the average inflammation to the figure, making sure to include it in your legend as well. \n",
    "\n",
    "Personally, I prefer not having Matplotlib's default frame around the legend. Look at Matplotlib's API docs to see how you can get rid of it and test it out. "
   ]
  },
  {
   "cell_type": "code",
   "execution_count": null,
   "id": "47054bae-4c34-494b-93fb-d8b4c2139a90",
   "metadata": {},
   "outputs": [],
   "source": [
    "# YOUR ANSWER HERE\n"
   ]
  },
  {
   "cell_type": "markdown",
   "id": "f111e352-b8e6-4849-9072-34aca9bddf99",
   "metadata": {},
   "source": [
    "---\n",
    "## Fancy heatmap.\n",
    "\n",
    "You've seen figures like this before and may have even been a bit perplexed by them. Don't be! The figure below is a 2D grid of rows and columns in which the \"warmth\" of the color indicates the cell value (hence, the name \"heatmaps\"). In this particular case, the rows represent individual subjects and the columns the days. The color corresponds to the number of inflammation bouts for a particular subject on a particular day - in other words, all of the data are plotted compactly in one pretty cool looking figure! Every heatmap you see will be of the same structure; however, the particular mapping between what rows vs columns represent will be different, that's all. "
   ]
  },
  {
   "cell_type": "code",
   "execution_count": null,
   "id": "1b23d1f7-dfe2-4d2b-b34c-18f9f72d20bb",
   "metadata": {},
   "outputs": [],
   "source": [
    "image = plt.imshow(data)\n",
    "cax = plt.axes([0.75, 0.1, 0.025, 0.78])\n",
    "plt.colorbar(cax=cax)\n",
    "plt.show()"
   ]
  },
  {
   "cell_type": "markdown",
   "id": "7322d721-256f-4e63-81ca-539e1c24859f",
   "metadata": {},
   "source": [
    "---\n",
    "This lab comes from Software Carpentry's [Programming with Python workshop](https://swcarpentry.github.io/python-novice-inflammation/). "
   ]
  }
 ],
 "metadata": {
  "kernelspec": {
   "display_name": "jupyter_books",
   "language": "python",
   "name": "jupyter_books"
  },
  "language_info": {
   "codemirror_mode": {
    "name": "ipython",
    "version": 3
   },
   "file_extension": ".py",
   "mimetype": "text/x-python",
   "name": "python",
   "nbconvert_exporter": "python",
   "pygments_lexer": "ipython3",
   "version": "3.10.8"
  }
 },
 "nbformat": 4,
 "nbformat_minor": 5
}
