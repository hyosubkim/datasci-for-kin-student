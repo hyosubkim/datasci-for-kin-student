{
 "cells": [
  {
   "cell_type": "markdown",
   "id": "e76082c5-58ab-454f-8c29-24a9b32ce652",
   "metadata": {},
   "source": [
    "# Labs 6 and 7: More `pandas` and `Matplotlib` (Note: these labs are worth 3 total points, instead of usual 1.5)\n",
    "---"
   ]
  },
  {
   "cell_type": "markdown",
   "id": "17c1cedd-d1c6-46b2-bc6e-fd1f76ab9b7e",
   "metadata": {},
   "source": [
    "## `pandas`\n",
    "\n",
    "For the first part of this lab, you will be working with daily weather data from 2019 from Toronto, ON, and Vancouver, BC, by loading the following CSVs from inside your `data` subdirectory:\n",
    "\n",
    "- en_climate_daily_BC_1108395_2019_P1D.csv\n",
    "- en_climate_daily_BC_1108395_2019_P1D.csv\n"
   ]
  },
  {
   "cell_type": "markdown",
   "id": "5e729eb4-eed6-4014-be63-7355051e783c",
   "metadata": {},
   "source": [
    "#### 1. Import each file as a data frame, one called `toronto` and one called `vancouver`.\n",
    "\n",
    "Use the `.info()` method to view each data frame's contents. "
   ]
  },
  {
   "cell_type": "code",
   "execution_count": null,
   "id": "96ba7192-47df-4448-974c-195cc7739879",
   "metadata": {},
   "outputs": [],
   "source": [
    "# Import numpy and pandas and use standard aliases (these are the only \n",
    "# packages you need to import for the first half of this lab)\n"
   ]
  },
  {
   "cell_type": "code",
   "execution_count": null,
   "id": "87b6740d-c017-4925-8c97-2f4c7c9bf95a",
   "metadata": {},
   "outputs": [],
   "source": [
    "# YOUR ANSWER HERE\n"
   ]
  },
  {
   "cell_type": "markdown",
   "id": "f692bc9a-4897-4f1f-864f-0a967f71b843",
   "metadata": {},
   "source": [
    "---\n",
    "#### 2. For each city, calculate the maximum temperature range over the whole year (i.e., the difference between the highest maximum daily temperature and the lowest daily minimum temperature). "
   ]
  },
  {
   "cell_type": "code",
   "execution_count": null,
   "id": "ce77dfd5-42cd-49d4-a354-6d5669f539cd",
   "metadata": {},
   "outputs": [],
   "source": [
    "# YOUR ANSWER HERE\n",
    "\n",
    "\n",
    "\n",
    "\n",
    "# Check your answer: \n",
    "# 55.8 deg C for Toronto and 38.7 deg C for Vancouver"
   ]
  },
  {
   "cell_type": "markdown",
   "id": "87188605-f14c-4d39-9ed0-987a1fc4dc37",
   "metadata": {},
   "source": [
    "---\n",
    "#### 3(a) How many days did Vancouver have a maximum temperature less than 0 degrees Celsius? What about Toronto? \n"
   ]
  },
  {
   "cell_type": "code",
   "execution_count": null,
   "id": "dfe1c585-6d76-4753-a15f-e13cdd4d4a62",
   "metadata": {},
   "outputs": [],
   "source": [
    "# YOUR ANSWER HERE\n"
   ]
  },
  {
   "cell_type": "markdown",
   "id": "b304099f-4b84-40aa-8460-a72b80284c9c",
   "metadata": {},
   "source": [
    "#### 3(b) What was the total rainfall over the year in Vancouver? What about Toronto? "
   ]
  },
  {
   "cell_type": "code",
   "execution_count": null,
   "id": "62416172-89f0-417a-8bab-b96ba449f7cb",
   "metadata": {},
   "outputs": [],
   "source": [
    "# YOUR ANSWER HERE\n"
   ]
  },
  {
   "cell_type": "markdown",
   "id": "6a0f2890-3b38-44ab-82eb-a97e34c63c41",
   "metadata": {},
   "source": [
    "#### 3(c) What was the total snowfall over the year in Vancouver? In Toronto?"
   ]
  },
  {
   "cell_type": "code",
   "execution_count": null,
   "id": "53a3524d-368e-4c81-b55c-608758a30edf",
   "metadata": {},
   "outputs": [],
   "source": [
    "# YOUR ANSWER HERE\n"
   ]
  },
  {
   "cell_type": "code",
   "execution_count": 3,
   "id": "06ba2bd3-f477-4597-9c00-8b60d271c79b",
   "metadata": {},
   "outputs": [],
   "source": [
    "# Check your answer: \n",
    "# (a) Vancouver: 3 days, Toronto: 55 days; (b) Vancouver: 934.1 mm, Toronto: 799.6 mm; \n",
    "# (c) Vancouver: 32.2 cm, Toronto: 163.5 cm"
   ]
  },
  {
   "cell_type": "markdown",
   "id": "f4c230ab-5958-4245-bdbb-c41c98f5700b",
   "metadata": {},
   "source": [
    "---\n",
    "#### 4(a) How many days over the course of the whole year did Vancouver have Total Rain (mm) greater than zero? What about Toronto? \n"
   ]
  },
  {
   "cell_type": "code",
   "execution_count": null,
   "id": "91f555e8-7ef2-4d0b-9f26-accee321f794",
   "metadata": {},
   "outputs": [],
   "source": [
    "# YOUR ANSWER HERE\n"
   ]
  },
  {
   "cell_type": "markdown",
   "id": "875626bd-536d-4294-8813-fbc5849745b4",
   "metadata": {},
   "source": [
    "#### 4(b) How many days over the course of the whole year did Vancouver have Total Snow (cm) greater than zero? What about Toronto? "
   ]
  },
  {
   "cell_type": "code",
   "execution_count": null,
   "id": "f0e6ebea-a54d-4125-8886-82dbbb3aafea",
   "metadata": {},
   "outputs": [],
   "source": [
    "# YOUR ANSWER HERE\n"
   ]
  },
  {
   "cell_type": "markdown",
   "id": "41487825-c897-4232-9140-575cf6b654af",
   "metadata": {},
   "source": [
    "#### 4(c) How many days did Vancouver have Snow on Grnd (cm) greater than zero? What about Toronto?"
   ]
  },
  {
   "cell_type": "code",
   "execution_count": null,
   "id": "861bea47-e6ef-4ce4-b00e-60d27251b2a2",
   "metadata": {},
   "outputs": [],
   "source": [
    "# YOUR ANSWER HERE\n"
   ]
  },
  {
   "cell_type": "code",
   "execution_count": null,
   "id": "2858cf88-11c2-45b0-a6de-35b92b3ddfb7",
   "metadata": {},
   "outputs": [],
   "source": [
    "# Check your answer:\n",
    "# (a) Vancouver: 144 days, Toronto: 130 days; (b) Vancouver: 9 days, Toronto: 52 days; \n",
    "# (c) Vancouver: 11 days, Toronto: 76 days"
   ]
  },
  {
   "cell_type": "markdown",
   "id": "efde1fc5-d02a-4505-9e6e-41d9c2007809",
   "metadata": {},
   "source": [
    "---\n",
    "#### 5(a) How many days did both Toronto and Vancouver have Total Rain (mm) greater than 1.0 mm? "
   ]
  },
  {
   "cell_type": "code",
   "execution_count": null,
   "id": "63b662df-8379-438b-908b-a85c73544862",
   "metadata": {},
   "outputs": [],
   "source": [
    "# YOUR ANSWER HERE\n"
   ]
  },
  {
   "cell_type": "markdown",
   "id": "83f4846b-0c74-4285-b121-b77e42765c44",
   "metadata": {},
   "source": [
    "#### 5(b) What proportion of those days, in percent out of 100, using 2 decimal places (e.g. 12.34%), did Vancouver have greater Total Rain (mm) than Toronto? "
   ]
  },
  {
   "cell_type": "code",
   "execution_count": null,
   "id": "292a658d-4781-4567-9d16-33617f731dd9",
   "metadata": {},
   "outputs": [],
   "source": [
    "# YOUR ANSWER HERE\n"
   ]
  },
  {
   "cell_type": "markdown",
   "id": "be45d392-c756-4c0c-9019-4d0be9bc7a6d",
   "metadata": {},
   "source": [
    "#### 5(c),(d) Repeat the analysis for Total Snow (cm) greater than 0.0 cm"
   ]
  },
  {
   "cell_type": "code",
   "execution_count": null,
   "id": "9fcdaaca-6186-46de-96a2-563e4e4b0833",
   "metadata": {},
   "outputs": [],
   "source": [
    "# YOUR ANSWER HERE\n"
   ]
  },
  {
   "cell_type": "code",
   "execution_count": null,
   "id": "a74c8dfa-6bcd-4e5d-a57d-67a7d9325868",
   "metadata": {},
   "outputs": [],
   "source": [
    "# Check your answer:\n",
    "# (a) 21 days; (b) 38.10 %; (c) 5 days; (d) 40.00 %"
   ]
  },
  {
   "cell_type": "markdown",
   "id": "dd1ee02e-89cd-4e20-afc7-e653979046b1",
   "metadata": {},
   "source": [
    "---\n",
    "## `Matplotlib`\n",
    "\n",
    "**All of the following questions should be answered using `Matplotlib` only (i.e., no `seaborn`). The idea is to learn how to highly customize your figures.**\n",
    "\n",
    "#### 1. Generate a plot of a sine wave, as shown below. \n",
    "\n",
    "<img src=\"images/lab6-7-fig1.png\" width=600>"
   ]
  },
  {
   "cell_type": "markdown",
   "id": "0241504c-9974-455f-b935-71e6b65dfdb4",
   "metadata": {},
   "source": [
    "**Hint: Now would be a good time to review the NumPy chapter from DataCamp.** \n",
    "\n",
    "Using NumPy, define a 1D array $x$ containing 10 values starting at 0, ending at 0.9, in increments of 0.1. Define a vector $y$ that is equal to $\\text{sin}(2 * \\pi * x)$. ***Using object-oriented syntax***, generate a line plot with $x$ on the horizontal axis and $y$ on the vertical axis. Use blue circles at each data point (markersize of 8.0), connected by blue solid lines, with a linewidth of 2.0. Label the horizontal axis “X” and the vertical axis “Y”. Set the range on the horizontal axis so it goes from 0 to 0.9 in steps of 0.1, and on the vertical axis so it goes from -1 to 1 in steps of 0.2."
   ]
  },
  {
   "cell_type": "code",
   "execution_count": null,
   "id": "fc18f9b5-f0f6-4d44-8ad9-89b85dbbad3d",
   "metadata": {},
   "outputs": [],
   "source": [
    "# Import standard matplotlib module and use alias\n",
    "\n"
   ]
  },
  {
   "cell_type": "code",
   "execution_count": null,
   "id": "c80bd887-af34-4f6f-8c4a-9255649ef58e",
   "metadata": {},
   "outputs": [],
   "source": [
    "# YOUR ANSWER HERE\n"
   ]
  },
  {
   "cell_type": "markdown",
   "id": "d38fbfad-e3b7-4480-9499-c425989be986",
   "metadata": {},
   "source": [
    "---\n",
    "#### 2. Generate a multi-line plot, as shown below. \n",
    "\n",
    "<img src=\"images/lab6-7-fig2.png\" width=600>"
   ]
  },
  {
   "cell_type": "markdown",
   "id": "748c59b8-897b-4756-8dbe-1a6c6db4a83e",
   "metadata": {},
   "source": [
    "Define four 1D arrays: $x = [1,2,3,4,5]$; $y1 = [1,2,3,4,4]$; $y2 = [1,5,6,8,10]$; and $y3 = [5,4,2,1,1]$. Generate a multi-line plot using squares (markersize 6.0) connected with solid lines (linewidth 1.0). Label the axes as shown, and set axis limits and axis ticks as shown. Add a legend as shown. The $y1$ colour is blue, the $y2$ colour is red, and the $y3$ colour is magenta."
   ]
  },
  {
   "cell_type": "code",
   "execution_count": null,
   "id": "62eab7e7-a03a-4b52-b1be-bd58adb4be86",
   "metadata": {},
   "outputs": [],
   "source": [
    "# YOUR ANSWER HERE\n"
   ]
  },
  {
   "cell_type": "markdown",
   "id": "480954b8-d12b-4efd-819c-74ff989e2110",
   "metadata": {},
   "source": [
    "---\n",
    "#### 3. Generate scatterplots, as shown below. \n",
    "\n",
    "<img src=\"images/lab6-7-fig3.png\" width=600>"
   ]
  },
  {
   "cell_type": "markdown",
   "id": "0ee3f9bb-7fd1-4eeb-bc6d-536876f7f5cb",
   "metadata": {},
   "source": [
    "\n",
    "Define a 100-length 1D array $x$ starting at 1 and ending at 100 in increments of 1. Define $y$ equal to $(x * 0.15) + N$ where $N$ is a 100 element 1D array of random values chosen from a gaussian distribution with mean 0.0 and standard deviation 0.5. Let $z$ be equal to $((x * 0.05) + 2) + N2$ where $N2$ is a 100 element 1D array of random values chosen from a gaussian distribution with mean 0.0 and standard deviation 2.0. Generate a scatterplot as shown below, using filled circles (markersize 3.0). The $y$ colour is blue and the $z$ colour is red. Pay attention to the axis labels, tick marks, ranges, and spines (the borders around your plot)."
   ]
  },
  {
   "cell_type": "code",
   "execution_count": null,
   "id": "194228a5-3f95-454d-b351-c30ad570d3fa",
   "metadata": {},
   "outputs": [],
   "source": [
    "# YOUR ANSWER HERE\n"
   ]
  },
  {
   "cell_type": "markdown",
   "id": "3b947a42-fab0-4101-87f3-75d69cef7529",
   "metadata": {},
   "source": [
    "---\n",
    "#### 4. Re-plot the data from Q3 using subplots, as shown below. \n",
    "\n",
    "<img src=\"images/lab6-7-fig4.png\" width=800>"
   ]
  },
  {
   "cell_type": "markdown",
   "id": "bfa98c86-e59d-48cf-ba93-0cb4f9459cbe",
   "metadata": {},
   "source": [
    "Be sure to replicate the axis limits and labeling. Use boldface font to add a title to each subplot (A, B, and C) aligned to the left of each subplot as shown below). Take note that you *will* have to look up how to do some of these things by reading the Matplotlib API help. \n",
    "\n",
    "**Hint: You will want to import the `gridspec` module from `Matplotlib` (this is in addition to `pyplot`; done for you below). Checkout some helpful documentation on `gridspec` (https://matplotlib.org/stable/api/_as_gen/matplotlib.gridspec.GridSpec.html).**\n",
    "\n",
    "**Hint hint: adjust the `hspace` parameter for subplots so that the subplots don't overlap.**"
   ]
  },
  {
   "cell_type": "code",
   "execution_count": null,
   "id": "07c0fddf-04c5-4684-a906-3196d0f51bb9",
   "metadata": {},
   "outputs": [],
   "source": [
    "# Import gridspec\n",
    "import matplotlib.gridspec as gridspec"
   ]
  },
  {
   "cell_type": "code",
   "execution_count": null,
   "id": "45675b61-ccdf-4f9f-9498-713afa5961da",
   "metadata": {},
   "outputs": [],
   "source": [
    "# YOUR ANSWER HERE\n"
   ]
  },
  {
   "cell_type": "markdown",
   "id": "1b1e0057-d955-4930-870b-0781a6fccf3e",
   "metadata": {},
   "source": [
    "---\n",
    "This lab was adapted from Paul Gribble's [Scientific Computing course](https://gribblelab.org/teaching/scicomp2020/)."
   ]
  }
 ],
 "metadata": {
  "kernelspec": {
   "display_name": "Python 3 (ipykernel)",
   "language": "python",
   "name": "python3"
  },
  "language_info": {
   "codemirror_mode": {
    "name": "ipython",
    "version": 3
   },
   "file_extension": ".py",
   "mimetype": "text/x-python",
   "name": "python",
   "nbconvert_exporter": "python",
   "pygments_lexer": "ipython3",
   "version": "3.10.8"
  }
 },
 "nbformat": 4,
 "nbformat_minor": 5
}
