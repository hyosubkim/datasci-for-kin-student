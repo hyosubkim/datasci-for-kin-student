{
 "cells": [
  {
   "cell_type": "markdown",
   "metadata": {
    "nbgrader": {
     "grade": false,
     "grade_id": "cell-f9cd89ad16c3393f",
     "locked": true,
     "schema_version": 3,
     "solution": false,
     "task": false
    }
   },
   "source": [
    "# Lab 9: Statistical Inference (part a: sampling distributions)\n",
    "\n",
    "### Acknowledgment\n",
    "\n",
    "This lab has been adapted from the worksheets associated with the online textbook [Data Science: A First Introduction (Python Edition)](https://python.datasciencebook.ca/index.html) by [Campbell, Timbers, Lee, Heagy, and Ostblom](https://python.datasciencebook.ca/authors.html) and shared under an [Attribution-NonCommercial-ShareAlike 4.0 International (CC BY-NC-SA 4.0)](https://creativecommons.org/licenses/by-nc-sa/4.0/) license.\n",
    "\n",
    "### Lecture and Tutorial Learning Goals:\n",
    "\n",
    "After completing this week's lecture and tutorial work, you will be able to:\n",
    "- Describe real world examples of questions that can be answered with the statistical inference methods.\n",
    "- Name common population parameters (e.g., mean, proportion, median, variance, standard deviation) that are often estimated using sample data, and use computation to estimate these.\n",
    "- Define the following statistical sampling terms (population, sample, population parameter, point estimate, sampling distribution).\n",
    "- Explain the difference between a population parameter and sample point estimate.\n",
    "- Use computation to draw random samples from a finite population.\n",
    "- Use computation to create a sampling distribution from a finite population.\n",
    "- Describe how sample size influences the sampling distribution.\n",
    "\n",
    "This worksheet covers parts of [Chapter 6](https://hyosubkim.github.io/datasci-for-kin/6-Inference/inference.html) of the online textbook. You should read this chapter before attempting this assignment. Any place you see `___`, you must fill in the function, variable, or data to complete the code. "
   ]
  },
  {
   "cell_type": "code",
   "execution_count": null,
   "metadata": {
    "nbgrader": {
     "grade": false,
     "grade_id": "cell-5e46ba6301dcd126",
     "locked": true,
     "schema_version": 3,
     "solution": false,
     "task": false
    }
   },
   "outputs": [],
   "source": [
    "### Run this cell before continuing.\n",
    "import matplotlib.pyplot as plt\n",
    "import numpy as np\n",
    "import pandas as pd\n",
    "import seaborn as sns\n",
    "\n",
    "# Make our figures classy\n",
    "sns.set_theme(style='darkgrid')"
   ]
  },
  {
   "cell_type": "markdown",
   "metadata": {
    "nbgrader": {
     "grade": false,
     "grade_id": "cell-3d0ceca6b0e205c4",
     "locked": true,
     "schema_version": 3,
     "solution": false,
     "task": false
    }
   },
   "source": [
    "**Question 1.1** Matching:\n",
    "\n",
    "Read the mixed up table below and assign the variables in the code cell below a number to match the the term to its correct definition. Do not put quotations around the number or include words in the answer, we are expecting the assigned values to be numbers.\n",
    "\n",
    "| Terms |  Definitions |\n",
    "|----------------|------------|\n",
    "| <p align=\"left\">point estimate | <p align=\"left\">1. the entire set of entities/objects of interest |\n",
    "| <p align=\"left\">population | <p align=\"left\">2. selecting a subset of observations from a population where each observation is equally likely to be selected at any point during the selection process|\n",
    "| <p align=\"left\">random sampling | <p align=\"left\">3. a numerical summary value about the population |\n",
    "| <p align=\"left\">population parameter | <p align=\"left\"> 4. a distribution of point estimates, where each point estimate was calculated from a different random sample from the same population |\n",
    "| <p align=\"left\">sample | <p align=\"left\">5. a collection of observations from a population |\n",
    "| <p align=\"left\">observation | <p align=\"left\">6. a single number calculated from a random sample that estimates an unknown population parameter of interest |\n",
    "| <p align=\"left\">sampling distribution | <p align=\"left\">7. a quantity or a quality (or set of these) we collect from a given entity/object |\n"
   ]
  },
  {
   "cell_type": "code",
   "execution_count": null,
   "metadata": {
    "nbgrader": {
     "grade": false,
     "grade_id": "cell-02ca79301e6453c8",
     "locked": false,
     "schema_version": 3,
     "solution": true,
     "task": false
    }
   },
   "outputs": [],
   "source": [
    "# ENTER BELOW\n",
    "point_estimate = ...\n",
    "population = ...\n",
    "random_sampling = ...\n",
    "population_parameter = ...\n",
    "sample = ...\n",
    "observation = ...\n",
    "sampling_distribution = ...\n"
   ]
  },
  {
   "cell_type": "markdown",
   "metadata": {
    "nbgrader": {
     "grade": false,
     "grade_id": "cell-4b8df8ad154a3900",
     "locked": true,
     "schema_version": 3,
     "solution": false,
     "task": false
    }
   },
   "source": [
    "###  Virtual sampling simulation\n",
    "\n",
    "In real life, we rarely, if ever, have measurements for our entire population. Here, however, we will pretend that we somehow were able to ask every single Candian senior what their age is. We will do this so that we can experiment to learn about sampling and how this relates to estimation.\n",
    "\n",
    "Here we make a simulated dataset of ages for our population (all Canadian seniors) bounded by realistic values ($\\geq$ 65 and $\\leq$ 118):"
   ]
  },
  {
   "cell_type": "code",
   "execution_count": null,
   "metadata": {
    "nbgrader": {
     "grade": false,
     "grade_id": "cell-40ed1f5c6c055f97",
     "locked": true,
     "schema_version": 3,
     "solution": false,
     "task": false
    }
   },
   "outputs": [],
   "source": [
    "# Run this cell to simulate a large finite population\n",
    "# Don't change the seed!\n",
    "np.random.seed(4321)\n",
    "\n",
    "can_seniors = pd.DataFrame({\n",
    "    'age': np.random.exponential(1 / 0.1, 2000000) ** 2 + 65,\n",
    "}).query(\n",
    "    \"65 <= age <= 118\"\n",
    ")\n",
    "\n",
    "can_seniors"
   ]
  },
  {
   "cell_type": "markdown",
   "metadata": {
    "nbgrader": {
     "grade": false,
     "grade_id": "cell-9b660b53ec2a2962",
     "locked": true,
     "schema_version": 3,
     "solution": false,
     "task": false
    }
   },
   "source": [
    "**Question 1.2** \n",
    "\n",
    "A distribution defines all the possible values (or intervals) of the data and how often they occur. Visualize the distribution of the population (`can_seniors`) that was just created by plotting a histogram using `seaborn` with the `bins` arguement set to 30. Give the x-axis a descriptive label."
   ]
  },
  {
   "cell_type": "code",
   "execution_count": null,
   "metadata": {
    "nbgrader": {
     "grade": false,
     "grade_id": "cell-986bdfedad27901f",
     "locked": false,
     "schema_version": 3,
     "solution": true,
     "task": false
    }
   },
   "outputs": [],
   "source": [
    "# YOU ANSWER HERE\n",
    "fig, ax = plt.subplots()\n",
    "sns.histplot()\n",
    "ax.set_xlabel()\n",
    "fig.set_title()\n",
    "plt.show()\n"
   ]
  },
  {
   "cell_type": "markdown",
   "metadata": {
    "nbgrader": {
     "grade": false,
     "grade_id": "cell-a6d7523259c0ec45",
     "locked": true,
     "schema_version": 3,
     "solution": false,
     "task": false
    }
   },
   "source": [
    "**Question 1.3** \n",
    "\n",
    "We often want to represent distributions by a single value or small number of values. Common values used for this include the mean, median, standard deviation, etc). \n",
    "\n",
    "Use the `agg` method to calculate the following population parameters from the `can_seniors` population:\n",
    "\n",
    "- mean (`mean`)\n",
    "- median (`median`)\n",
    "- standard deviation (`std`)\n",
    "\n",
    "*Name the resulting data frame `pop_parameters` (it should have one only column, called `age`, and one population parameter per row)*"
   ]
  },
  {
   "cell_type": "code",
   "execution_count": null,
   "metadata": {
    "nbgrader": {
     "grade": false,
     "grade_id": "cell-e351a7d3e55d1948",
     "locked": false,
     "schema_version": 3,
     "solution": true,
     "task": false
    }
   },
   "outputs": [],
   "source": [
    "# ENTER YOUR ANSWER HERE\n",
    "pop_parameters = ..."
   ]
  },
  {
   "cell_type": "markdown",
   "metadata": {
    "nbgrader": {
     "grade": false,
     "grade_id": "cell-f06bf6c52b4b30be",
     "locked": true,
     "schema_version": 3,
     "solution": false,
     "task": false
    }
   },
   "source": [
    "**Question 1.4** \n",
    "\n",
    "In real life, we usually are able to only collect a single sample from the population. We use that sample to try to infer what the population looks like.\n",
    "\n",
    "Take a single random sample of 40 observations using `sample` from the Canadian seniors population (`can_seniors`). Name it `sample_1`. Use 4321 as your `random_state`. `random_state` is another parameter you can assign when using `sample` (i.e., you don't have to set the random seed outside of `sample` as we've done in the textbook and lecture)."
   ]
  },
  {
   "cell_type": "code",
   "execution_count": null,
   "metadata": {
    "nbgrader": {
     "grade": false,
     "grade_id": "cell-d8e06640ab5ea386",
     "locked": false,
     "schema_version": 3,
     "solution": true,
     "task": false
    }
   },
   "outputs": [],
   "source": [
    "# ENTER YOUR ANSWER HERE\n"
   ]
  },
  {
   "cell_type": "markdown",
   "metadata": {
    "nbgrader": {
     "grade": false,
     "grade_id": "cell-752cc4982153643f",
     "locked": true,
     "schema_version": 3,
     "solution": false,
     "task": false
    }
   },
   "source": [
    "**Question 1.5** \n",
    "\n",
    "Visualize the distribution of the random sample you just took (`sample_1`) by plotting a histogram using `maxbins=30`. Just as in the population histogram we created above, give the plot a title; a suitable choice could be `\"Sample 1 distribution\"`.\n"
   ]
  },
  {
   "cell_type": "code",
   "execution_count": 1,
   "metadata": {
    "nbgrader": {
     "grade": false,
     "grade_id": "cell-826dafd6cb26adeb",
     "locked": false,
     "schema_version": 3,
     "solution": true,
     "task": false
    }
   },
   "outputs": [],
   "source": [
    "# ENTER YOUR ANSWER HERE\n",
    "\n"
   ]
  },
  {
   "cell_type": "markdown",
   "metadata": {
    "nbgrader": {
     "grade": false,
     "grade_id": "cell-3c4b35ed554cb337",
     "locked": true,
     "schema_version": 3,
     "solution": false,
     "task": false
    }
   },
   "source": [
    "**Question 1.6** \n",
    "\n",
    "Use `agg` to calculate the following point estimates from the random sample you just took (`sample_1`):\n",
    "\n",
    "- mean \n",
    "- median \n",
    "- standard deviation \n",
    "\n",
    "*Name this data frame `sample_1_estimates`.*"
   ]
  },
  {
   "cell_type": "code",
   "execution_count": 2,
   "metadata": {
    "nbgrader": {
     "grade": false,
     "grade_id": "cell-fe9efdbe457ea8e7",
     "locked": false,
     "schema_version": 3,
     "solution": true,
     "task": false
    }
   },
   "outputs": [],
   "source": [
    "# ENTER YOUR ANSWER HERE\n"
   ]
  },
  {
   "cell_type": "markdown",
   "metadata": {
    "nbgrader": {
     "grade": false,
     "grade_id": "cell-ad24cb4b28616d3c",
     "locked": true,
     "schema_version": 3,
     "solution": false,
     "task": false
    }
   },
   "source": [
    "Let's now compare our random sample to the population from which it was drawn with `seaborn` histograms."
   ]
  },
  {
   "cell_type": "code",
   "execution_count": null,
   "metadata": {
    "nbgrader": {
     "grade": false,
     "grade_id": "cell-604e99e0db84fe98",
     "locked": true,
     "schema_version": 3,
     "solution": false,
     "task": false
    }
   },
   "outputs": [],
   "source": [
    "# run this code cell\n",
    "fig, ax = plt.subplots(nrows=2, ncols=1, figsize=(6, 8), sharex=True)\n",
    "sns.histplot(data=can_seniors, bins=30, ax=ax[0], legend=False)\n",
    "ax[0].set_title(\"Population\")\n",
    "\n",
    "sns.histplot(data=sample_1, bins=30, ax=ax[1], legend=False)\n",
    "ax[1].set_xlabel(\"Age (years)\")\n",
    "ax[1].set_title(\"Sample 1 distribution\")\n",
    "\n",
    "plt.show()"
   ]
  },
  {
   "cell_type": "markdown",
   "metadata": {
    "nbgrader": {
     "grade": false,
     "grade_id": "cell-19718631d33c85a5",
     "locked": true,
     "schema_version": 3,
     "solution": false,
     "task": false
    }
   },
   "source": [
    "And now let's compare the point estimates (mean, median and standard deviation) with the true population parameters we were trying to estimate:"
   ]
  },
  {
   "cell_type": "code",
   "execution_count": null,
   "metadata": {
    "nbgrader": {
     "grade": false,
     "grade_id": "cell-ce56a190681ef9e9",
     "locked": true,
     "schema_version": 3,
     "solution": false,
     "task": false
    }
   },
   "outputs": [],
   "source": [
    "# run this cell\n",
    "pop_parameters"
   ]
  },
  {
   "cell_type": "code",
   "execution_count": null,
   "metadata": {
    "nbgrader": {
     "grade": false,
     "grade_id": "cell-a1d668a937ee44d7",
     "locked": true,
     "schema_version": 3,
     "solution": false,
     "task": false
    }
   },
   "outputs": [],
   "source": [
    "# run this cell\n",
    "sample_1_estimates"
   ]
  },
  {
   "cell_type": "markdown",
   "metadata": {
    "nbgrader": {
     "grade": false,
     "grade_id": "cell-bb9b0aefa59610ab",
     "locked": true,
     "schema_version": 3,
     "solution": false,
     "task": false
    }
   },
   "source": [
    "**Question 1.7** Multiple Choice\n",
    "\n",
    "After comparing the population and sample distributions above, and the true population parameters and the sample point estimates, which statement below **is not** correct:\n",
    "\n",
    "A. The sample point estimates are close to the values for the true population parameters we are trying to estimate\n",
    "\n",
    "B. The sample distribution is of a similar shape to the population distribution\n",
    "\n",
    "C. The sample point estimates are identical to the values for the true population parameters we are trying to estimate\n",
    "\n",
    "*Assign your answer to an object called `answer1_7`. Your answer should be a single character surrounded by quotes.*"
   ]
  },
  {
   "cell_type": "code",
   "execution_count": null,
   "metadata": {
    "nbgrader": {
     "grade": false,
     "grade_id": "cell-8ff972ce63d3c314",
     "locked": false,
     "schema_version": 3,
     "solution": true,
     "task": false
    }
   },
   "outputs": [],
   "source": [
    "# ENTER YOUR ANSWER HERE\n"
   ]
  },
  {
   "cell_type": "markdown",
   "metadata": {
    "nbgrader": {
     "grade": false,
     "grade_id": "cell-8babcf95fe04cfa6",
     "locked": true,
     "schema_version": 3,
     "solution": false,
     "task": false
    }
   },
   "source": [
    "**Question 1.8.0** \n",
    "\n",
    "What if we took another sample? What would we expect? Let's try! Take another random sample of size 40 from the population (using the different random seed `2020` so that you get a different sample), visualize its distribution with the title `\"Sample 2 distribution\"`, and calculate the point estimates for the sample mean, median, and standard deviation.\n",
    "\n",
    "*Name your random sample of data `sample_2`, and name your estimates `sample_2_estimates`.*"
   ]
  },
  {
   "cell_type": "code",
   "execution_count": null,
   "metadata": {
    "nbgrader": {
     "grade": false,
     "grade_id": "cell-716cd961bf3e0e5c",
     "locked": false,
     "schema_version": 3,
     "solution": true,
     "task": false
    }
   },
   "outputs": [],
   "source": [
    "# ENTER YOUR ANSWER HERE\n"
   ]
  },
  {
   "cell_type": "code",
   "execution_count": null,
   "metadata": {
    "nbgrader": {
     "grade": false,
     "grade_id": "cell-9d59db83b2d9334a",
     "locked": true,
     "schema_version": 3,
     "solution": false,
     "task": false
    }
   },
   "outputs": [],
   "source": [
    "# Run this cell\n",
    "sample_2_estimates"
   ]
  },
  {
   "cell_type": "markdown",
   "metadata": {
    "nbgrader": {
     "grade": false,
     "grade_id": "cell-84562b964d37b15f",
     "locked": true,
     "schema_version": 3,
     "solution": false,
     "task": false
    }
   },
   "source": [
    "**Question 1.8.1** \n",
    "\n",
    "After comparing the distribution and point estimates of this second random sample from the population with that of the first random sample and the population, which of the following statements below **is not** correct:\n",
    "\n",
    "A. The sample distributions from different random samples are of a similar shape to the population distribution, but they vary a bit depending which values are captured in the sample\n",
    "\n",
    "B. The sample point estimates from different random samples are close to the values for the true population parameters we are trying to estimate, but they vary a bit depending which values are captured in the sample\n",
    "\n",
    "C. Every random sample from the same population should have an identical set of values and yield identical point estimates.\n",
    "\n",
    "*Assign your answer to an object called `answer1_8_1`. Your answer should be a single character surrounded by quotes.*"
   ]
  },
  {
   "cell_type": "code",
   "execution_count": null,
   "metadata": {
    "nbgrader": {
     "grade": false,
     "grade_id": "cell-17f98eceba8ee494",
     "locked": false,
     "schema_version": 3,
     "solution": true,
     "task": false
    }
   },
   "outputs": [],
   "source": [
    "# ENTER YOUR ANSWER HERE\n"
   ]
  },
  {
   "cell_type": "markdown",
   "metadata": {
    "nbgrader": {
     "grade": false,
     "grade_id": "cell-d1e256c58e03abb7",
     "locked": true,
     "schema_version": 3,
     "solution": false,
     "task": false
    }
   },
   "source": [
    "### Exploring the sampling distribution of an estimate\n",
    "\n",
    "Just how much should we expect the point estimates of our random samples to vary? To build an intuition for this, let's experiment a little more with our population of Canadian seniors. To do this we will take 1000 random samples, and then calculate the point estimate we are interested in (let's choose the mean for this example) for each sample. Finally, we will visualize the distribution of the sample point estimates. This distribution will tell us how much we would expect the point estimates of our random samples to vary for this population for samples of size 40 (the size of our samples)."
   ]
  },
  {
   "cell_type": "markdown",
   "metadata": {
    "nbgrader": {
     "grade": false,
     "grade_id": "cell-2f445a196c50749f",
     "locked": true,
     "schema_version": 3,
     "solution": false,
     "task": false
    }
   },
   "source": [
    "**Question 1.9** \n",
    "\n",
    "Draw 1000 random samples from our population of Canadian seniors (`can_seniors`). Each sample should have 40 observations. Use a list comprehension wrapped in `pd.concat` as in the textbook, and name the resulting data frame `samples`."
   ]
  },
  {
   "cell_type": "code",
   "execution_count": null,
   "metadata": {
    "nbgrader": {
     "grade": false,
     "grade_id": "cell-695ac307a193414a",
     "locked": false,
     "schema_version": 3,
     "solution": true,
     "task": false
    }
   },
   "outputs": [],
   "source": [
    "np.random.seed(4321) # DO NOT CHANGE\n",
    "\n",
    "# ENTER YOUR ANSWER HERE\n",
    "\n",
    "\n"
   ]
  },
  {
   "cell_type": "markdown",
   "metadata": {
    "nbgrader": {
     "grade": false,
     "grade_id": "cell-54d3669aec34e1c1",
     "locked": true,
     "schema_version": 3,
     "solution": false,
     "task": false
    }
   },
   "source": [
    "**Question 2.0** \n",
    "\n",
    "Group by the sample replicate number, and then for each sample, calculate the mean as the point estimate. Name the data frame `sample_estimates`. Use `reset_index` and `rename(columns=___)`, so that the final data frame has the column names `replicate` and `mean_age`."
   ]
  },
  {
   "cell_type": "code",
   "execution_count": null,
   "metadata": {
    "nbgrader": {
     "grade": false,
     "grade_id": "cell-db790cf4f047972a",
     "locked": false,
     "schema_version": 3,
     "solution": true,
     "task": false
    }
   },
   "outputs": [],
   "source": [
    "# ENTER YOUR ANSWER HERE\n",
    "\n"
   ]
  },
  {
   "cell_type": "markdown",
   "metadata": {
    "nbgrader": {
     "grade": false,
     "grade_id": "cell-b37ce66b7bf8e8bf",
     "locked": true,
     "schema_version": 3,
     "solution": false,
     "task": false
    }
   },
   "source": [
    "**Question 2.1** \n",
    "\n",
    "Visualize the distribution of the sample estimates (`sample_estimates`) you just calculated by plotting a histogram using `maxbins=30`. Title the plot `\"Sampling distribution of the sample means\"` and give the x-axis a descriptive label."
   ]
  },
  {
   "cell_type": "code",
   "execution_count": null,
   "metadata": {
    "nbgrader": {
     "grade": false,
     "grade_id": "cell-cc60d0afb72d45c2",
     "locked": false,
     "schema_version": 3,
     "solution": true,
     "task": false
    }
   },
   "outputs": [],
   "source": [
    "# ENTER YOUR ANSWER HERE\n",
    "\n"
   ]
  },
  {
   "cell_type": "markdown",
   "metadata": {
    "nbgrader": {
     "grade": false,
     "grade_id": "cell-e1b528491ee83745",
     "locked": true,
     "schema_version": 3,
     "solution": false,
     "task": false
    }
   },
   "source": [
    "**Question 2.2** \n",
    "\n",
    "Let's refresh our memories: what is the mean age of the whole population (we calculated this above)? *Assign your answer to an object called `answer2_2`. Your answer should be a single number reported to two decimal places.*\n"
   ]
  },
  {
   "cell_type": "code",
   "execution_count": null,
   "metadata": {
    "nbgrader": {
     "grade": false,
     "grade_id": "cell-b3dc0d016c0b2fa0",
     "locked": false,
     "schema_version": 3,
     "solution": true,
     "task": false
    }
   },
   "outputs": [],
   "source": [
    "# ENTER YOUR ANSWER HERE\n"
   ]
  },
  {
   "cell_type": "markdown",
   "metadata": {
    "nbgrader": {
     "grade": false,
     "grade_id": "cell-cd211c77f0a630b0",
     "locked": true,
     "schema_version": 3,
     "solution": false,
     "task": false
    }
   },
   "source": [
    "**Question 2.3** Multiple Choice\n",
    "\n",
    "Considering the true value for the population mean, and the sampling distribution you created and visualized in **question 2.1**, which of the following statements below **is not** correct:\n",
    "\n",
    "A. The sampling distribution is centered at the true population mean\n",
    "\n",
    "B. All the sample means are the same value as the true population mean\n",
    "\n",
    "C. Most sample means are at or very near the same value as the true population mean\n",
    "\n",
    "D. A few sample means are far away from the same value as the true population mean\n",
    "\n",
    "*Assign your answer to an object called `answer2_3`. Your answer should be a single character surrounded by quotes.*"
   ]
  },
  {
   "cell_type": "code",
   "execution_count": null,
   "metadata": {
    "nbgrader": {
     "grade": false,
     "grade_id": "cell-aee3630dbf16cba9",
     "locked": false,
     "schema_version": 3,
     "solution": true,
     "task": false
    }
   },
   "outputs": [],
   "source": [
    "# ENTER YOUR ANSWER HERE\n"
   ]
  },
  {
   "cell_type": "markdown",
   "metadata": {
    "nbgrader": {
     "grade": false,
     "grade_id": "cell-e77dc5e07d87e667",
     "locked": true,
     "schema_version": 3,
     "solution": false,
     "task": false
    }
   },
   "source": [
    "**Question 2.4** True/False\n",
    "\n",
    "Taking a random sample and calculating a point estimate is a good way to get a \"best guess\" of the population parameter you are interested in. True or False?\n",
    "\n",
    "*Assign your answer to an object called `answer2_4`. Your answer should be a boolean. i.e. `True` or `False`*"
   ]
  },
  {
   "cell_type": "code",
   "execution_count": null,
   "metadata": {
    "nbgrader": {
     "grade": false,
     "grade_id": "cell-6f8050a70cec0677",
     "locked": false,
     "schema_version": 3,
     "solution": true,
     "task": false
    }
   },
   "outputs": [],
   "source": [
    "# ENTER YOUR ANSWER HERE\n"
   ]
  },
  {
   "cell_type": "markdown",
   "metadata": {
    "nbgrader": {
     "grade": false,
     "grade_id": "cell-2465e27157c638d7",
     "locked": true,
     "schema_version": 3,
     "solution": false,
     "task": false
    }
   },
   "source": [
    "### The influence of sample size on the sampling distribution\n",
    "\n",
    "What happens to our point estimate when we change the sample size? Let's answer this question by experimenting! We will create 3 different sampling distributions of sample means, each using a different sample size. As we did above, we will draw samples from our Canadian seniors population. We will visualize these sampling distributions and see if we can see a pattern when we vary the sample size."
   ]
  },
  {
   "cell_type": "markdown",
   "metadata": {
    "nbgrader": {
     "grade": false,
     "grade_id": "cell-34e0ccb715d582e3",
     "locked": true,
     "schema_version": 3,
     "solution": false,
     "task": false
    }
   },
   "source": [
    "**Question 2.5** \n",
    "\n",
    "Using the same strategy as you did above, draw 1000 random samples from the Canadian seniors population (`can_seniors`), each of size **20**. For each sample, calculate the mean age and assign this data frame to an object called `sample_estimates_20`. As previously, make sure you use `reset_index` so that the data frame has the columns `replicate` and `mean_age`. \n",
    "\n",
    "Then, visualize the distribution of the sample estimates (means) you just calculated by plotting a histogram using `bins=30`. Give the x-axis a descriptive label. Give the plot the title `\"Sampling distribution with sample size n=20\"`."
   ]
  },
  {
   "cell_type": "code",
   "execution_count": null,
   "metadata": {
    "nbgrader": {
     "grade": false,
     "grade_id": "cell-b749043da4922d58",
     "locked": false,
     "schema_version": 3,
     "solution": true,
     "task": false
    }
   },
   "outputs": [],
   "source": [
    "np.random.seed(4321)  # DO NOT CHANGE\n",
    "\n",
    "# ENTER YOUR ANSWER HERE\n",
    "\n"
   ]
  },
  {
   "cell_type": "code",
   "execution_count": null,
   "metadata": {
    "nbgrader": {
     "grade": false,
     "grade_id": "cell-b749043da4922d58",
     "locked": false,
     "schema_version": 3,
     "solution": true,
     "task": false
    }
   },
   "outputs": [],
   "source": [
    "# ENTER YOUR ANSWER HERE\n"
   ]
  },
  {
   "cell_type": "markdown",
   "metadata": {
    "nbgrader": {
     "grade": false,
     "grade_id": "cell-54728427a6fc9f21",
     "locked": true,
     "schema_version": 3,
     "solution": false,
     "task": false
    }
   },
   "source": [
    "**Question 2.6** \n",
    "\n",
    "Using the same strategy as you did above, draw 1000 random samples from the Canadian seniors population (`can_seniors`), each of size **100**. For each sample, calculate the mean age and assign this data frame to an object called `sample_estimates_100`. As previously, make sure you use `reset_index` so that the data frame has the columns `replicate` and `mean_age`. \n",
    "\n",
    "Then, visualize the distribution of the sample estimates (means) you just calculated by plotting a histogram using `bins=30`. Give the x-axis a descriptive label. Give the plot the title `\"Sampling distribution with sample size n=100\"`."
   ]
  },
  {
   "cell_type": "code",
   "execution_count": null,
   "metadata": {
    "nbgrader": {
     "grade": false,
     "grade_id": "cell-417f5129afaf8a43",
     "locked": false,
     "schema_version": 3,
     "solution": true,
     "task": false
    }
   },
   "outputs": [],
   "source": [
    "np.random.seed(4321)  # DO NOT CHANGE\n",
    "\n",
    "# ENTER YOUR ANSWER HERE\n",
    "\n"
   ]
  },
  {
   "cell_type": "markdown",
   "metadata": {
    "nbgrader": {
     "grade": false,
     "grade_id": "cell-617a34d8b1bfc6fb",
     "locked": true,
     "schema_version": 3,
     "solution": false,
     "task": false
    }
   },
   "source": [
    "**Question 2.7** \n",
    "\n",
    "Next, let's compare the three sampling distributions together. To do this more effectively we need to change the histograms' x-axes to span the same range ((hint: remember the `sharex` argument?). You can copy most of the code you've already written for this. Just make sure you have 3 sets of axes to work with. "
   ]
  },
  {
   "cell_type": "code",
   "execution_count": null,
   "metadata": {
    "nbgrader": {
     "grade": false,
     "grade_id": "cell-ae896640d6da399c",
     "locked": false,
     "schema_version": 3,
     "solution": true,
     "task": false
    }
   },
   "outputs": [],
   "source": [
    "# ENTER YOUR ANSWER HERE\n",
    "\n"
   ]
  },
  {
   "cell_type": "markdown",
   "metadata": {
    "nbgrader": {
     "grade": false,
     "grade_id": "cell-05e3eccb230d6deb",
     "locked": true,
     "schema_version": 3,
     "solution": false,
     "task": false
    }
   },
   "source": [
    "**Question 2.8** Multiple Choice\n",
    "\n",
    "Considering the panel figure you created above in **question 2.7**, which of the following statements below **is not** correct:\n",
    "\n",
    "A. As the sample size increases, the sampling distribution of the point estimate becomes narrower.\n",
    "\n",
    "B. As the sample size increases, more sample point estimates are closer to the true population mean.\n",
    "\n",
    "C. As the sample size decreses, the sample point estimates become more variable.\n",
    "\n",
    "D. As the sample size increases, the sample point estimates become more variable.\n",
    "\n",
    "*Assign your answer to an object called `answer2_8`. Your answer should be a single character surrounded by quotes.*"
   ]
  },
  {
   "cell_type": "code",
   "execution_count": null,
   "metadata": {
    "nbgrader": {
     "grade": false,
     "grade_id": "cell-8f9319a3b3411ed5",
     "locked": false,
     "schema_version": 3,
     "solution": true,
     "task": false
    }
   },
   "outputs": [],
   "source": [
    "# ENTER YOUR ANSWER HERE\n"
   ]
  },
  {
   "cell_type": "markdown",
   "metadata": {
    "nbgrader": {
     "grade": false,
     "grade_id": "cell-4622783ca69e105d",
     "locked": true,
     "schema_version": 3,
     "solution": false,
     "task": false
    }
   },
   "source": [
    "**Question 2.9** True/False\n",
    "\n",
    "Given what you observed above, and considering the real life scenario where you will only have one sample, answer the True/False question below:\n",
    "\n",
    "The smaller your random sample, the better your sample point estimate reflect the true population parameter you are trying to estimate. True or False?\n",
    "\n",
    "*Assign your answer to an object called `answer2_9`. Your answer should be a boolean. i.e. `True` or `False`.*"
   ]
  },
  {
   "cell_type": "code",
   "execution_count": null,
   "metadata": {
    "nbgrader": {
     "grade": false,
     "grade_id": "cell-3c587e58178a0614",
     "locked": false,
     "schema_version": 3,
     "solution": true,
     "task": false
    }
   },
   "outputs": [],
   "source": [
    "# ENTER YOUR ANSWER HERE\n"
   ]
  }
 ],
 "metadata": {
  "celltoolbar": "Create Assignment",
  "jupytext": {
   "encoding": "# -*- coding: utf-8 -*-"
  },
  "kernelspec": {
   "display_name": "Python 3 (ipykernel)",
   "language": "python",
   "name": "python3"
  },
  "language_info": {
   "codemirror_mode": {
    "name": "ipython",
    "version": 3
   },
   "file_extension": ".py",
   "mimetype": "text/x-python",
   "name": "python",
   "nbconvert_exporter": "python",
   "pygments_lexer": "ipython3",
   "version": "3.10.8"
  }
 },
 "nbformat": 4,
 "nbformat_minor": 4
}
