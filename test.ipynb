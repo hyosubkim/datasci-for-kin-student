{
 "cells": [
  {
   "cell_type": "code",
   "execution_count": 1,
   "id": "8a2dbdbd-1993-42c0-8b8b-c9ba31f921f9",
   "metadata": {},
   "outputs": [],
   "source": [
    "import matplotlib.pyplot as plt\n",
    "import numpy as np\n",
    "import pandas as pd\n",
    "import seaborn as sns"
   ]
  },
  {
   "cell_type": "code",
   "execution_count": 2,
   "id": "d6616ab2-f5f5-4e13-a20b-f59d3adb2423",
   "metadata": {},
   "outputs": [
    {
     "name": "stdout",
     "output_type": "stream",
     "text": [
      "Welcome to KIN 482E!\n"
     ]
    }
   ],
   "source": [
    "print(\"Welcome to KIN 482E!\")"
   ]
  },
  {
   "cell_type": "code",
   "execution_count": null,
   "id": "2d706775-39cd-4066-8425-6f8d57eed2e5",
   "metadata": {},
   "outputs": [],
   "source": []
  }
 ],
 "metadata": {
  "kernelspec": {
   "display_name": "Python 3 (ipykernel)",
   "language": "python",
   "name": "python3"
  },
  "language_info": {
   "codemirror_mode": {
    "name": "ipython",
    "version": 3
   },
   "file_extension": ".py",
   "mimetype": "text/x-python",
   "name": "python",
   "nbconvert_exporter": "python",
   "pygments_lexer": "ipython3",
   "version": "3.10.8"
  }
 },
 "nbformat": 4,
 "nbformat_minor": 5
}
