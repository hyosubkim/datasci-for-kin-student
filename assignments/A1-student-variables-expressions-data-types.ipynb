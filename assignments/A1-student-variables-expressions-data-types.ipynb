{
 "cells": [
  {
   "cell_type": "markdown",
   "id": "65b6f9e3-eb48-4010-bc36-d2be92961684",
   "metadata": {},
   "source": [
    "# Assignment 1: Variable assignment, evaluating expressions, and data types.\n",
    "(Due date: 11:59 p.m., Sunday, Sept 17) \n",
    "----"
   ]
  },
  {
   "cell_type": "markdown",
   "id": "8eb7c5f7-5369-44a3-bcf4-0b556b3e82a9",
   "metadata": {},
   "source": [
    "## 1. Translating math to code, and variable assignment. (8pts)\n",
    "\n",
    "Given parabolic flight, the height $y$ of a ball is given by the equation:"
   ]
  },
  {
   "cell_type": "markdown",
   "id": "7be827a5-9ea7-42ef-988a-71fec9dffcc6",
   "metadata": {},
   "source": [
    "$$ y = x\\tan(\\theta) - \\left[ \\frac{1}{2 v_{0}^2} \\right] \\left[\\frac{g x^{2}}{cos(\\theta)^{2}} \\right] + y_{0} $$\n",
    "\n",
    "<!-- $$ y = x\\tan(\\theta) - \\frac{1}{2 v_{0}^2} \\cdot \\frac{g x^{2}}{cos(\\theta)^{2}}  + y_{0} $$ -->\n"
   ]
  },
  {
   "cell_type": "markdown",
   "id": "6d92ff54-12cd-4476-87d5-75fc39e412a6",
   "metadata": {},
   "source": [
    "where $x$ is a horizontal coordinate (meters), $g$ is the acceleration of gravity (meters per second per second), $v_{0}$ is the initial velocity (meters per second) at an angle $\\theta$ (radians) with the x-axis, and $y_0$ is the initial position of the ball (meters)."
   ]
  },
  {
   "cell_type": "markdown",
   "id": "07e63ee8-b232-44a2-8041-ecffaaa2a0a0",
   "metadata": {},
   "source": [
    "Write a program to compute the vertical height $y$ of a ball. The program should ask the user to input values for $g$, $v_0$, $\\theta$, $x$, and $y_0$, and print out a sentence giving the vertical height ($y$) of the ball."
   ]
  },
  {
   "cell_type": "markdown",
   "id": "0ae97831-2aba-4552-a955-0b3ef8005395",
   "metadata": {},
   "source": [
    "Test your program with the values given in the example below. Your exact answer that is printed out in the final line may be slightly different than what you see here, but should be accurate to several decimal places. \n",
    "\n",
    "    Enter a value for g (m/s/s): 9.8\n",
    "    Enter a value for v0 (m/s): 6.789\n",
    "    Enter a value for theta (rad): 0.123\n",
    "    Enter a value for x (m): 4.5\n",
    "    Enter a value for y0 (m): 5.4\n",
    "    The vertical height of the ball is: 3.77057803072 m"
   ]
  },
  {
   "cell_type": "code",
   "execution_count": null,
   "id": "8ba096e6-44e7-44a1-b43e-9fd204a7e2bc",
   "metadata": {},
   "outputs": [],
   "source": [
    "# Run this line of code\n",
    "from math import tan, cos"
   ]
  },
  {
   "cell_type": "code",
   "execution_count": null,
   "id": "b63060b8-afea-468b-b5b3-7d11ccd439cc",
   "metadata": {},
   "outputs": [],
   "source": [
    "# Enter your answer below. Use the trig functions \"tan\" and \"cos\", which you imported above.  \n",
    "\n"
   ]
  },
  {
   "cell_type": "markdown",
   "id": "b8eef071-c2ba-4968-a89e-4a40fc316ce3",
   "metadata": {},
   "source": [
    "---\n",
    "## 2. Variable Types and Slicing (2 pts)\n",
    "\n",
    "**a.** Using the values provided to you in Q1, print your answer for `y` *only up to, and including, the fourth decimal place* in a complete sentence (i.e., \"The value of y...\"). While there's at least a couple of different ways to approach this, use the tools learned in class so far. "
   ]
  },
  {
   "cell_type": "code",
   "execution_count": null,
   "id": "d369bf91-0439-4363-9b79-d056544d7400",
   "metadata": {},
   "outputs": [],
   "source": [
    "# Enter your answer below\n"
   ]
  },
  {
   "cell_type": "markdown",
   "id": "f783f8b9-9e3c-4497-9fac-3108ab4a6546",
   "metadata": {},
   "source": [
    "**b.** How much did the ball change in height? Print your answer in a complete sentence, this time using the `f-string` format. "
   ]
  },
  {
   "cell_type": "code",
   "execution_count": null,
   "id": "15d9f5ee-975d-4b8e-9612-bf44af0472d6",
   "metadata": {},
   "outputs": [],
   "source": [
    "# Enter your answer below\n"
   ]
  },
  {
   "cell_type": "markdown",
   "id": "2b768e21-5327-46b5-a47c-4c8e8e857ea5",
   "metadata": {},
   "source": [
    "---\n",
    "## 3. How can Jupyter notebooks enhance your research/work/studies? (2 pts)\n",
    "\n",
    "First, read this [Nature article](https://www.nature.com/articles/d41586-018-07196-1) on the creative use of Jupyter notebooks to advance scientific research. \n",
    "\n",
    "Now that you're (hopefully) inspired, create a cell below and write 1-2 paragraphs on ways you think Jupyter notebooks could advance some area of kinesiology you are interested in. Whether you're interested in cell metabolism or neuro-rehabilitation, how could Jupyter notebooks be of use? What points that were made in the article support your ideas? For extra ***fun*** (not points), you may want to do a Google search to see if researchers/clinicians have already adopted your idea. "
   ]
  },
  {
   "cell_type": "markdown",
   "id": "7404d25f-a8d6-4e1c-92be-bf78d5626677",
   "metadata": {},
   "source": [
    "---\n",
    "Question 1 was adapted from [Paul Gribble's course on Scientific Computing with Python](https://gribblelab.org/teaching/scicomp2020/A1.html). "
   ]
  }
 ],
 "metadata": {
  "kernelspec": {
   "display_name": "Python 3 (ipykernel)",
   "language": "python",
   "name": "python3"
  },
  "language_info": {
   "codemirror_mode": {
    "name": "ipython",
    "version": 3
   },
   "file_extension": ".py",
   "mimetype": "text/x-python",
   "name": "python",
   "nbconvert_exporter": "python",
   "pygments_lexer": "ipython3",
   "version": "3.10.8"
  }
 },
 "nbformat": 4,
 "nbformat_minor": 5
}
