{
 "cells": [
  {
   "cell_type": "markdown",
   "id": "d2740316-32cf-4382-830e-60c1f3b4a375",
   "metadata": {},
   "source": [
    "# Assignment 0: Get to know the KIN 482E tech stack \n",
    "\n",
    "## (Due date: 11:59 p.m., Sunday, September 10)\n",
    "---"
   ]
  },
  {
   "cell_type": "markdown",
   "id": "5c597c51-2c79-472d-8084-cf1dbc548998",
   "metadata": {},
   "source": [
    "## Canvas\n",
    "\n",
    "### Task 1: Submit a message introducing yourself. \n",
    "\n",
    "Let us know where you are at in the program, and if you have any prior programming experience, tell us about it. Canvas will serve as our \"home base\" for the course. This is where assignments, updates, lecture notes, etc. will be posted."
   ]
  },
  {
   "cell_type": "markdown",
   "id": "2528de5f-2b91-4971-89ef-cade8ab3b24a",
   "metadata": {
    "jp-MarkdownHeadingCollapsed": true,
    "tags": []
   },
   "source": [
    "---\n",
    "## DataCamp\n",
    "\n",
    "### Task 2: [Log on to DataCamp](https://www.datacamp.com/) and get your account set up.\n",
    "\n",
    "The teaching team can add you to DataCamp using whatever email address you provide to us. You will get an invitation link from DataCamp to finish setting up your account. \n",
    "\n",
    "Your \"home base\" on DataCamp is the Assignments page:\n",
    "\n",
    "![](images/datacamp_assignments.png)\n",
    "\n",
    "From here you can click on any of the assignments to start them.\n",
    "\n",
    "However, sometimes you may get lost navigating DataCamp. In particular, if you click on the DataCamp symbol or Home in the upper left, it will take you to the wider world of DataCamp. You're welcome to explore there, although it's beyond what you need for the class. If you do explore, remember to click on Learn (from upper left menu bar) and then Assignments in the left side menu to take you back.\n",
    "\n",
    "---"
   ]
  },
  {
   "cell_type": "markdown",
   "id": "3eaf5522-e839-413b-8760-19f656501a59",
   "metadata": {},
   "source": [
    "## JupyterHub and Jupyter Notebooks\n",
    "\n",
    "### Task 3: Access course materials on UBC's JupyterHub.\n",
    "Congratulations! If you're working inside this notebook, you have successfully accessed your UBC JupyterHub account, where you can find all the course materials. If by some unforeseen circumstance you are reading this outside of JupyterHub, go back to the textbook [here](https://hyosubkim.github.io/datasci-for-kin/3-python/jupyter_jhub.html) and follow the steps to access your UBC JupyterHub account. \n",
    "\n",
    "---"
   ]
  },
  {
   "cell_type": "markdown",
   "id": "68e1620d-ffaa-4d56-bcbd-cde3d60c4150",
   "metadata": {},
   "source": [
    "## Markdown\n",
    "\n",
    "### Task 4: Tell us what you hope to get out of the course and what worries you about it. \n",
    "\n",
    "Insert a cell below this one and provide bulleted lists of your top three goals for this class and at least one thing that may concern you. Provide headers for your lists. \n",
    "\n",
    "---"
   ]
  },
  {
   "cell_type": "markdown",
   "id": "972f4452-80f9-4d68-bb3c-27e90a26f70b",
   "metadata": {
    "tags": []
   },
   "source": [
    "## Submitting assignments on Canvas\n",
    "\n",
    "### Task 5: Upload this assignment to Canvas.\n",
    "\n",
    "- First, get into the habit of restarting the kernel and running all cells (\"Kernel -> Restart the Kernel and Run All Cells...\") to make sure your notebook runs without any errors. Even though there's no Python code in this notebook (it's all Markdown), it's still good practice. \n",
    "- Next, after confirming everything runs as expected (and saving again, if necessary), download the notebook to your computer.\n",
    "- The last step is uploading the notebook from your computer to the correct Assignment on Canvas. \n",
    "\n",
    "Once you've completed this final task, you should now understand the workflow for this course--nice job!\n"
   ]
  },
  {
   "cell_type": "markdown",
   "id": "bcb2cf9d-fd41-4ce5-8e58-de90890a635a",
   "metadata": {},
   "source": [
    "---\n",
    "This assignment was adapted from [Aaron J. Newman's course on Neural Data Science](https://github.com/DalPsychNeuro/NESC_3505) and is shared under a GNU General Public License v3.0.  "
   ]
  }
 ],
 "metadata": {
  "kernelspec": {
   "display_name": "jupyter_books",
   "language": "python",
   "name": "jupyter_books"
  },
  "language_info": {
   "codemirror_mode": {
    "name": "ipython",
    "version": 3
   },
   "file_extension": ".py",
   "mimetype": "text/x-python",
   "name": "python",
   "nbconvert_exporter": "python",
   "pygments_lexer": "ipython3",
   "version": "3.10.8"
  }
 },
 "nbformat": 4,
 "nbformat_minor": 5
}
