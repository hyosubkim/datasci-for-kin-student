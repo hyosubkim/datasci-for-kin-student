{
 "cells": [
  {
   "cell_type": "markdown",
   "id": "b4130eee-84a4-4764-bcab-7abb286ddf37",
   "metadata": {},
   "source": [
    "## Assignment: Estimate $\\pi$ by throwing darts\n",
    "\n",
    "Imagine a circle of radius $r$ inscribed inside a square with side length $2r$. Now imagine throwing a dart which lands at some random location within the square. In fact, you are so perfectly random at throwing darts that the probabilities of the dart landing in any location on the board are all equal (i.e., probabilities are uniformly distributed). Sometimes the dart will be inside the circle and sometimes it will not. If you count the number of darts that land inside the circle and divide that by the total number of darts, that ratio should equal $\\frac{\\pi}{4}$. (To understand why, recall that the area of a circle is equal to $\\pi r^2$ and the area of a square with side length $2r$ is $(2r)^2$).\n",
    "\n",
    "**As an exercise, implement this method of estimating $\\pi$. Write a function called `estimate_pi` that takes an integer $n$ as input, and returns as output the estimated value of $\\pi$ using $n$ throws of the dart.** In other words, you will write the program so that you can use any number of random darts $n$. Start with 1000 darts and then try larger numbers. See how close you can get to the actual value of $\\pi$. [(Here are the first 100,000 digits of $\\pi$.)](http://www.geom.uiuc.edu/~huberty/math5337/groupe/digits.html)\n",
    "\n",
    "Very soon, we'll learn about Python libraries. But since we haven't talked about them yet, I've included the lines necessary to import NumPy and the `np.random.rand()` function. All you need to know for now is that this function samples from a uniform random distribution over the interval $(0,1)$. In other words, if you pass the argument $n$ to it (as in `np.random.rand(n)`, then it will return $n$ random values between 0 and 1 (with each value having equal probability of being drawn because the distribution is uniform). Because it's random, each time you run the function it will give you different values. (**Hint:** This is the function you need to use in order to simulate $n$ throws of a dart.)\n",
    "\n",
    "**Hint Hint:** To determine whether each point is inside or outside of the circle you can compute the distance between the point and the centre of the circle. If this distance is greater than the radius of the circle, it must be outside of the circle. Using the Pythagorean theorem you can easily show that the equation for the distance between two points $(x_1,y_1)$ and $(x_2,y_2)$ is: \n",
    "\n",
    "$$d=\\sqrt{(x_2 - x_1)^2 + (y_2 - y_1)^2}$$\n"
   ]
  },
  {
   "cell_type": "code",
   "execution_count": null,
   "id": "15d2c792-ac08-4927-b3f3-e97757d97e12",
   "metadata": {},
   "outputs": [],
   "source": [
    "# Import NumPy \n",
    "import numpy as np "
   ]
  },
  {
   "cell_type": "code",
   "execution_count": null,
   "id": "89603987-ca4a-4a9c-b259-6f1d3bf97efe",
   "metadata": {},
   "outputs": [],
   "source": [
    "# Write your function in this cell. You will need to use the 'np.random.rand()' \n",
    "# function (w/appropriate argument) to simulate dart throws.\n",
    "\n",
    "\n",
    "\n",
    "\n"
   ]
  },
  {
   "cell_type": "code",
   "execution_count": null,
   "id": "01490f10-ebbb-4313-b731-a127e36419a6",
   "metadata": {},
   "outputs": [],
   "source": [
    "# Call your function and print out its estimate of pi \n",
    "\n"
   ]
  },
  {
   "cell_type": "markdown",
   "id": "10871b7a-ead0-4ad6-90a7-028fbcc18074",
   "metadata": {},
   "source": [
    "---\n",
    "This assignment was adapted from Paul Gribble's [Scientific Computing course](https://gribblelab.org/teaching/scicomp2020/)."
   ]
  }
 ],
 "metadata": {
  "kernelspec": {
   "display_name": "Python 3 (ipykernel)",
   "language": "python",
   "name": "python3"
  },
  "language_info": {
   "codemirror_mode": {
    "name": "ipython",
    "version": 3
   },
   "file_extension": ".py",
   "mimetype": "text/x-python",
   "name": "python",
   "nbconvert_exporter": "python",
   "pygments_lexer": "ipython3",
   "version": "3.10.8"
  }
 },
 "nbformat": 4,
 "nbformat_minor": 5
}
