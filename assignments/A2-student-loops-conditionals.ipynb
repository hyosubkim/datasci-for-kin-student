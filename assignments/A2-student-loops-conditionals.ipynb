{
 "cells": [
  {
   "cell_type": "markdown",
   "id": "116e2e42-cd29-4b9f-ade6-5e3b7371c0f5",
   "metadata": {},
   "source": [
    "## Assignment 2 (due *Friday, Oct 6, 11:59 p.m.*)\n",
    "---\n",
    "### Newton’s Method for Finding the Square Root\n",
    "Write a short program to estimate the square root of any number using [Newton’s method](https://en.wikipedia.org/wiki/Newton%27s_method#Examples). The method itself is secondary (although it's pretty neat); the point of this assignment is to provide you with more practice with writing loops and using conditionals. Write your program so that the number whose square root is to be taken, and the number of iterations to be used, are both variables that can be set at the top of the program. You can choose the initial guess on your own, but try starting with the number 10.0 as in the Wikipedia example.\n",
    "\n",
    "Find the square root of 612 using 5 iterations. Try it again using 10 iterations. (Submit the assignment with the number of iterations set to 10.)\n",
    "\n",
    "This is the relevant section of the Wikipedia entry and the only bit you need in order to complete this assignment. The relevant equation is highlighted in a red box."
   ]
  },
  {
   "cell_type": "markdown",
   "id": "4664fab4-1281-4644-b071-ffbb46acf43a",
   "metadata": {},
   "source": [
    "<center><img src=\"newton_method.png\" width=850}<center>"
   ]
  },
  {
   "cell_type": "markdown",
   "id": "3f89ba86-f002-439e-9261-cedb3380526f",
   "metadata": {},
   "source": [
    "The idea is you start with an initial guess (in this case, 10). The initial guess is then passed through an equation (shown in the red box) to refine it (in the example, it gets refined to 35.6). That refined guess then becomes the next guess which is passed through the same equation again, and further refined."
   ]
  },
  {
   "cell_type": "markdown",
   "id": "cb943c55-0302-4ba6-b623-cbed0a56b417",
   "metadata": {},
   "source": [
    "**Hint:** The first 3 iterations (after the initial guess of 10) should produce this:\n",
    "```    \n",
    "10  \n",
    "35.6  \n",
    "26.395505617977527  \n",
    "24.790635492455475\n",
    "```\n"
   ]
  },
  {
   "cell_type": "code",
   "execution_count": null,
   "id": "870f2502-2cec-44d3-8b68-74e956584d16",
   "metadata": {},
   "outputs": [],
   "source": [
    "# Enter your answer here\n",
    "\n"
   ]
  },
  {
   "cell_type": "markdown",
   "id": "b3fc9d48-d904-40ce-a206-9cedf594c25f",
   "metadata": {},
   "source": [
    "---\n",
    "Problem was adapted from Paul Gribble's [Scientific Computing course](https://gribblelab.org/teaching/scicomp2020/). "
   ]
  }
 ],
 "metadata": {
  "kernelspec": {
   "display_name": "Python 3 (ipykernel)",
   "language": "python",
   "name": "python3"
  },
  "language_info": {
   "codemirror_mode": {
    "name": "ipython",
    "version": 3
   },
   "file_extension": ".py",
   "mimetype": "text/x-python",
   "name": "python",
   "nbconvert_exporter": "python",
   "pygments_lexer": "ipython3",
   "version": "3.10.8"
  }
 },
 "nbformat": 4,
 "nbformat_minor": 5
}
