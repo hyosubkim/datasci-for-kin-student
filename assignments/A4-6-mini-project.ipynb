{
 "cells": [
  {
   "cell_type": "markdown",
   "id": "b16996d6-3ca5-40a1-b0df-014a07ca41c3",
   "metadata": {
    "slideshow": {
     "slide_type": "slide"
    }
   },
   "source": [
    "# Assignments 4 - 6: Your very own data science project!\n",
    "---"
   ]
  },
  {
   "cell_type": "markdown",
   "id": "331436cc-0333-457b-8178-4ba23d0c3893",
   "metadata": {
    "slideshow": {
     "slide_type": "slide"
    }
   },
   "source": [
    "## Data Science in Practice\n",
    "\n",
    "For the remaining assignments, you (and possibly one other peer) will complete a mini-project. For your project, you will complete a Jupyter notebook that contains an analysis program that shows off your newfound coding and visualization skills (with `Matplotlib` and `seaborn`) to help answer some interesting question(s) about a data set. This notebook must be thorough, well-structured, and convey something novel about the data (i.e., you cannot reproduce someone else's analysis). I should be able to go through the notebook top-to-bottom and understand (at minimum) the following:\n",
    "\n",
    "- Your rationale for choosing the data you chose\n",
    "- How you found your data set (provide source link)\n",
    "- The question you are asking\n",
    "- The steps you went through to read-in and process your data\n",
    "- Your choice of visualizations and how they help answer your question\n",
    "- The different exploratory data analysis methods you used to help answer your question\n",
    "\n",
    "Technical components I'm absolutely expecting to see in your notebook include (but are not limited to):\n",
    "\n",
    "- Use of `pandas` for reading in data and organizing data frame\n",
    "- Proper subsetting of data and grouping\n",
    "- 2-3 figures (or subplot panels) that shed light on the data *and* your question of interest\n",
    "- Descriptive statistics - this should be available in the figure along with some textual explanation\n",
    "- Explanatory text regarding each major step (Note: The point here is to clarify your intent, not to be verbose. Be clear and succinct.)\n",
    "\n",
    "Good to have, but not absolutely necessary:\n",
    "\n",
    "- Custom-written function(s) \n"
   ]
  },
  {
   "cell_type": "markdown",
   "id": "b330542f-b6a9-4ce0-98e0-2d4e153611ca",
   "metadata": {
    "slideshow": {
     "slide_type": "slide"
    }
   },
   "source": [
    "---\n",
    "## Assignment 4 (Part 1): Choose your data set and start formulating your question (4 pts total for parts 1 and 2) \n",
    "\n",
    "### Submit the data set and question(s) you would like to explore by Tuesday, October 31. \n",
    "\n",
    "The first step is to pick your data set and start thinking about the question(s) you'll address and visualizations you might use to address it (them). Provide a statement regarding your motivation and rationale in the cell below and submit it on Canvas. I know this is new for many of you, so I'm not expecting anything very polished, but I do want to see that you are seriously thinking about this. \n",
    "\n",
    "You may choose one of the data sets below for your project or you may wish to find your own data set to work with. ***If you go the latter route, you must ensure that the data you're proposing to use is shareable, as we may post it for current and future students to consider for their own projects.*** \n",
    "\n",
    "My advice is to spend some time seriously considering what sort of data and questions you are interested in exploring -- but don't get stuck! No matter what data you choose, you will learn a lot from this process, so don't let choosing between data sets be the bottle neck! The same goes for your question. Take it seriously, but if you're stuck, you may just want to start exploring some of the data sets below and *discover* what you're interested in asking.\n",
    "\n",
    "### Open data sets \n",
    "\n",
    "Here are some publicly available data sets I was able to find. Note that I know nothing about these data, including how they are organized, whether they've been cleaned, file type, etc. It's your job, should you choose to work with one of them, to decipher this information. This is what data scientists do! It may be helpful (but not necessary) to find data that come as CSV files, and in long form. Of course, you are encouraged to figure out ways to wrangle other file types and less tidy data if you find the data set to be of interest. Remember, you can always Google \"[topic of interest] open data\", and there's a good chance you'll find something. **Regardless of the data you choose, you must not modify the original data file(s) in any way.**\n",
    "\n",
    "Physiological data: \n",
    "- https://www.journals.elsevier.com/physiology-and-behavior/mendeley-datasets\n",
    "- https://www.physionet.org/about/database/\n",
    "\n",
    "Exercise data:\n",
    "- https://data.world/datasets/exercise\n",
    "\n",
    "Neuroscience data:\n",
    "- https://crcns.org/data-sets/motor-cortex/alm-1/about-alm-1\n",
    "- https://openneuro.org/\n",
    "\n",
    "Basketball: \n",
    "- https://github.com/fivethirtyeight/nba-player-advanced-metrics\n",
    "- https://github.com/fivethirtyeight/WNBA-stats\n",
    "\n",
    "\n",
    "**Other data sources (taken from CPSC 103):**\n",
    "- The Avengers: https://github.com/fivethirtyeight/data/tree/master/avengers\n",
    "- Covid cases in Canada: https://health-infobase.canada.ca/covid-19/?redir=1#tiles\n",
    "- Caffeine content in drinks: https://www.kaggle.com/datasets/heitornunes/caffeine-content-of-drinks\n",
    "- Air quality at Vancouver International Airport: https://openaq.org/#/location/1528\n",
    "- Bicycle crashes in Austin (2010 - 2017): https://openaq.org/#/location/1528\n",
    "- Urban Park Ranger Engagement Tracker: https://data.cityofnewyork.us/Education/Urban-Park-Ranger-Engagement-Tracker/rcd4-qkns\n",
    "- Movies: https://github.com/fivethirtyeight/data/blob/master/bechdel/movies.csv"
   ]
  },
  {
   "cell_type": "markdown",
   "id": "fac53017-1f64-4120-a2ff-192c00ca5560",
   "metadata": {
    "slideshow": {
     "slide_type": "-"
    }
   },
   "source": [
    "### Provide your answer for Part 1 in this cell:\n",
    "\n",
    "\n"
   ]
  },
  {
   "cell_type": "markdown",
   "id": "378808ba-34f4-4465-83fb-9dc3b9413178",
   "metadata": {
    "slideshow": {
     "slide_type": "slide"
    }
   },
   "source": [
    "---\n",
    "## Assignment 4 (Part 2): Discuss your ideas with me and get approval to move forward \n",
    "\n",
    "### Meetings to occur during class times on Wed, Nov 1, and Mon, Nov 6.\n",
    "\n",
    "I will spend ~10 minutes with each individual/pair to discuss your project ideas. The purpose of the meeting is two-fold: You should be prepared to provide a rationale for your chosen data set, question(s), and analysis plan, and I will provide feedback to you on whether it's practical, feasible, etc. At this point, you will have had plenty of time to think about your question, so the evaluation will be based on how well-prepared you are to discuss your ideas."
   ]
  },
  {
   "cell_type": "markdown",
   "id": "a4ac011d-a71a-41df-b8f1-70ef310ea5b0",
   "metadata": {
    "slideshow": {
     "slide_type": "slide"
    }
   },
   "source": [
    "---\n",
    "## Assignment 5 - 6: Write your analysis and tell your story (8 pts total)\n",
    "\n",
    "### Due: Sunday, December 3\n",
    "\n",
    "A thorough, legible, and complete analysis - with supportive text (and possibly equations)! - must be submitted in the form of a Jupyter notebook. See top of this notebook for more details on what's expected. "
   ]
  }
 ],
 "metadata": {
  "celltoolbar": "Slideshow",
  "kernelspec": {
   "display_name": "jupyter_books",
   "language": "python",
   "name": "jupyter_books"
  },
  "language_info": {
   "codemirror_mode": {
    "name": "ipython",
    "version": 3
   },
   "file_extension": ".py",
   "mimetype": "text/x-python",
   "name": "python",
   "nbconvert_exporter": "python",
   "pygments_lexer": "ipython3",
   "version": "3.10.8"
  },
  "rise": {
   "scroll": true
  }
 },
 "nbformat": 4,
 "nbformat_minor": 5
}
