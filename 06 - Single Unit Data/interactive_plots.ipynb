{
 "cells": [
  {
   "cell_type": "markdown",
   "id": "db247942-aa2c-4be8-b08c-9a6e49cf07ee",
   "metadata": {
    "tags": []
   },
   "source": [
    "## Interactive plots\n",
    "\n",
    "Plotting all the channels is a bit visually overwhelming. It's useful in appreciating the whole range of responses in different channels, but each plot is quite small. Here we use `ipywidgets` to generate an interactive plot, with a drop-down menu to select the channel we want to view. This way, we can view a large plot of one channel to really examine its response in detail.\n",
    "\n",
    "**Note:** This will not display in the online book version, but it should work if you download and run this notebook file. To get this to work on your own system, you will need to at least run `jupyter labextension install @jupyter-widgets/jupyterlab-manager`, and possibly install additional pacakges if you don't have them already (although Anaconda seems to provide them, and they work on the [CoCalc](https://cocalc.com/) cloud platform)."
   ]
  },
  {
   "cell_type": "code",
   "execution_count": 81,
   "id": "9401e09b-97e3-4529-825c-1ade694b71c7",
   "metadata": {},
   "outputs": [
    {
     "data": {
      "application/vnd.jupyter.widget-view+json": {
       "model_id": "91f6fc442c8f44fc92a737711818e6c7",
       "version_major": 2,
       "version_minor": 0
      },
      "text/plain": [
       "interactive(children=(Dropdown(description='chan', options=(4.0, 7.0, 10.0, 22.0, 23.0, 32.0, 35.0, 42.0, 44.0…"
      ]
     },
     "metadata": {},
     "output_type": "display_data"
    },
    {
     "data": {
      "image/png": "[encoded data removed]",
      "text/plain": [
       "<Figure size 1080x360 with 1 Axes>"
      ]
     },
     "metadata": {
      "needs_background": "light"
     },
     "output_type": "display_data"
    }
   ],
   "source": [
    "import ipywidgets as widgets\n",
    "from ipywidgets import interact, interact_manual\n",
    "\n",
    "@interact\n",
    "def psth_i(chan=channels):\n",
    "    fig, ax = plt.subplots(figsize=[15, 5])\n",
    "\n",
    "    ax.plot(time_bins[:-1], \n",
    "           df_psth.loc[channels[chan], orientations[0]]\n",
    "           )\n",
    "\n",
    "    ax.plot(time_bins[:-1], \n",
    "           df_psth.loc[channels[chan], orientations[1]],\n",
    "           color='red',\n",
    "           linewidth=.75\n",
    "           )\n",
    "\n",
    "    ax.axvspan(grating_on_time, grating_off_time, alpha=0.5, color='lightgray')\n",
    "    ax.title('Channel ' + str(int(chan)))\n",
    "    ax.xlabel('Time (s)')\n",
    "    ax.ylabel('Spike count per bin')\n",
    "\n",
    "    ax.show()"
   ]
  }
 ],
 "metadata": {
  "kernelspec": {
   "display_name": "Python 3 (ipykernel)",
   "language": "python",
   "name": "python3"
  },
  "language_info": {
   "codemirror_mode": {
    "name": "ipython",
    "version": 3
   },
   "file_extension": ".py",
   "mimetype": "text/x-python",
   "name": "python",
   "nbconvert_exporter": "python",
   "pygments_lexer": "ipython3",
   "version": "3.10.8"
  }
 },
 "nbformat": 4,
 "nbformat_minor": 5
}
